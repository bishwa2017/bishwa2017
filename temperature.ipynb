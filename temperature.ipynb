{
 "cells": [
  {
   "cell_type": "markdown",
   "metadata": {},
   "source": [
    "# Importing the Dataset:\n"
   ]
  },
  {
   "cell_type": "code",
   "execution_count": 3,
   "metadata": {},
   "outputs": [],
   "source": [
    "import pandas as pd\n",
    "import numpy as np"
   ]
  },
  {
   "cell_type": "code",
   "execution_count": 4,
   "metadata": {},
   "outputs": [],
   "source": [
    "df=pd.read_csv(\"https://raw.githubusercontent.com/dsrscientist/Dataset2/main/temperature.csv\")"
   ]
  },
  {
   "cell_type": "code",
   "execution_count": 5,
   "metadata": {},
   "outputs": [
    {
     "data": {
      "text/html": [
       "<div>\n",
       "<style scoped>\n",
       "    .dataframe tbody tr th:only-of-type {\n",
       "        vertical-align: middle;\n",
       "    }\n",
       "\n",
       "    .dataframe tbody tr th {\n",
       "        vertical-align: top;\n",
       "    }\n",
       "\n",
       "    .dataframe thead th {\n",
       "        text-align: right;\n",
       "    }\n",
       "</style>\n",
       "<table border=\"1\" class=\"dataframe\">\n",
       "  <thead>\n",
       "    <tr style=\"text-align: right;\">\n",
       "      <th></th>\n",
       "      <th>station</th>\n",
       "      <th>Date</th>\n",
       "      <th>Present_Tmax</th>\n",
       "      <th>Present_Tmin</th>\n",
       "      <th>LDAPS_RHmin</th>\n",
       "      <th>LDAPS_RHmax</th>\n",
       "      <th>LDAPS_Tmax_lapse</th>\n",
       "      <th>LDAPS_Tmin_lapse</th>\n",
       "      <th>LDAPS_WS</th>\n",
       "      <th>LDAPS_LH</th>\n",
       "      <th>...</th>\n",
       "      <th>LDAPS_PPT2</th>\n",
       "      <th>LDAPS_PPT3</th>\n",
       "      <th>LDAPS_PPT4</th>\n",
       "      <th>lat</th>\n",
       "      <th>lon</th>\n",
       "      <th>DEM</th>\n",
       "      <th>Slope</th>\n",
       "      <th>Solar radiation</th>\n",
       "      <th>Next_Tmax</th>\n",
       "      <th>Next_Tmin</th>\n",
       "    </tr>\n",
       "  </thead>\n",
       "  <tbody>\n",
       "    <tr>\n",
       "      <th>0</th>\n",
       "      <td>1.0</td>\n",
       "      <td>30-06-2013</td>\n",
       "      <td>28.7</td>\n",
       "      <td>21.4</td>\n",
       "      <td>58.255688</td>\n",
       "      <td>91.116364</td>\n",
       "      <td>28.074101</td>\n",
       "      <td>23.006936</td>\n",
       "      <td>6.818887</td>\n",
       "      <td>69.451805</td>\n",
       "      <td>...</td>\n",
       "      <td>0.000000</td>\n",
       "      <td>0.000000</td>\n",
       "      <td>0.000000</td>\n",
       "      <td>37.6046</td>\n",
       "      <td>126.991</td>\n",
       "      <td>212.3350</td>\n",
       "      <td>2.785000</td>\n",
       "      <td>5992.895996</td>\n",
       "      <td>29.1</td>\n",
       "      <td>21.2</td>\n",
       "    </tr>\n",
       "    <tr>\n",
       "      <th>1</th>\n",
       "      <td>2.0</td>\n",
       "      <td>30-06-2013</td>\n",
       "      <td>31.9</td>\n",
       "      <td>21.6</td>\n",
       "      <td>52.263397</td>\n",
       "      <td>90.604721</td>\n",
       "      <td>29.850689</td>\n",
       "      <td>24.035009</td>\n",
       "      <td>5.691890</td>\n",
       "      <td>51.937448</td>\n",
       "      <td>...</td>\n",
       "      <td>0.000000</td>\n",
       "      <td>0.000000</td>\n",
       "      <td>0.000000</td>\n",
       "      <td>37.6046</td>\n",
       "      <td>127.032</td>\n",
       "      <td>44.7624</td>\n",
       "      <td>0.514100</td>\n",
       "      <td>5869.312500</td>\n",
       "      <td>30.5</td>\n",
       "      <td>22.5</td>\n",
       "    </tr>\n",
       "    <tr>\n",
       "      <th>2</th>\n",
       "      <td>3.0</td>\n",
       "      <td>30-06-2013</td>\n",
       "      <td>31.6</td>\n",
       "      <td>23.3</td>\n",
       "      <td>48.690479</td>\n",
       "      <td>83.973587</td>\n",
       "      <td>30.091292</td>\n",
       "      <td>24.565633</td>\n",
       "      <td>6.138224</td>\n",
       "      <td>20.573050</td>\n",
       "      <td>...</td>\n",
       "      <td>0.000000</td>\n",
       "      <td>0.000000</td>\n",
       "      <td>0.000000</td>\n",
       "      <td>37.5776</td>\n",
       "      <td>127.058</td>\n",
       "      <td>33.3068</td>\n",
       "      <td>0.266100</td>\n",
       "      <td>5863.555664</td>\n",
       "      <td>31.1</td>\n",
       "      <td>23.9</td>\n",
       "    </tr>\n",
       "    <tr>\n",
       "      <th>3</th>\n",
       "      <td>4.0</td>\n",
       "      <td>30-06-2013</td>\n",
       "      <td>32.0</td>\n",
       "      <td>23.4</td>\n",
       "      <td>58.239788</td>\n",
       "      <td>96.483688</td>\n",
       "      <td>29.704629</td>\n",
       "      <td>23.326177</td>\n",
       "      <td>5.650050</td>\n",
       "      <td>65.727144</td>\n",
       "      <td>...</td>\n",
       "      <td>0.000000</td>\n",
       "      <td>0.000000</td>\n",
       "      <td>0.000000</td>\n",
       "      <td>37.6450</td>\n",
       "      <td>127.022</td>\n",
       "      <td>45.7160</td>\n",
       "      <td>2.534800</td>\n",
       "      <td>5856.964844</td>\n",
       "      <td>31.7</td>\n",
       "      <td>24.3</td>\n",
       "    </tr>\n",
       "    <tr>\n",
       "      <th>4</th>\n",
       "      <td>5.0</td>\n",
       "      <td>30-06-2013</td>\n",
       "      <td>31.4</td>\n",
       "      <td>21.9</td>\n",
       "      <td>56.174095</td>\n",
       "      <td>90.155128</td>\n",
       "      <td>29.113934</td>\n",
       "      <td>23.486480</td>\n",
       "      <td>5.735004</td>\n",
       "      <td>107.965535</td>\n",
       "      <td>...</td>\n",
       "      <td>0.000000</td>\n",
       "      <td>0.000000</td>\n",
       "      <td>0.000000</td>\n",
       "      <td>37.5507</td>\n",
       "      <td>127.135</td>\n",
       "      <td>35.0380</td>\n",
       "      <td>0.505500</td>\n",
       "      <td>5859.552246</td>\n",
       "      <td>31.2</td>\n",
       "      <td>22.5</td>\n",
       "    </tr>\n",
       "    <tr>\n",
       "      <th>...</th>\n",
       "      <td>...</td>\n",
       "      <td>...</td>\n",
       "      <td>...</td>\n",
       "      <td>...</td>\n",
       "      <td>...</td>\n",
       "      <td>...</td>\n",
       "      <td>...</td>\n",
       "      <td>...</td>\n",
       "      <td>...</td>\n",
       "      <td>...</td>\n",
       "      <td>...</td>\n",
       "      <td>...</td>\n",
       "      <td>...</td>\n",
       "      <td>...</td>\n",
       "      <td>...</td>\n",
       "      <td>...</td>\n",
       "      <td>...</td>\n",
       "      <td>...</td>\n",
       "      <td>...</td>\n",
       "      <td>...</td>\n",
       "      <td>...</td>\n",
       "    </tr>\n",
       "    <tr>\n",
       "      <th>7747</th>\n",
       "      <td>23.0</td>\n",
       "      <td>30-08-2017</td>\n",
       "      <td>23.3</td>\n",
       "      <td>17.1</td>\n",
       "      <td>26.741310</td>\n",
       "      <td>78.869858</td>\n",
       "      <td>26.352081</td>\n",
       "      <td>18.775678</td>\n",
       "      <td>6.148918</td>\n",
       "      <td>72.058294</td>\n",
       "      <td>...</td>\n",
       "      <td>0.000000</td>\n",
       "      <td>0.000000</td>\n",
       "      <td>0.000000</td>\n",
       "      <td>37.5372</td>\n",
       "      <td>126.891</td>\n",
       "      <td>15.5876</td>\n",
       "      <td>0.155400</td>\n",
       "      <td>4443.313965</td>\n",
       "      <td>28.3</td>\n",
       "      <td>18.1</td>\n",
       "    </tr>\n",
       "    <tr>\n",
       "      <th>7748</th>\n",
       "      <td>24.0</td>\n",
       "      <td>30-08-2017</td>\n",
       "      <td>23.3</td>\n",
       "      <td>17.7</td>\n",
       "      <td>24.040634</td>\n",
       "      <td>77.294975</td>\n",
       "      <td>27.010193</td>\n",
       "      <td>18.733519</td>\n",
       "      <td>6.542819</td>\n",
       "      <td>47.241457</td>\n",
       "      <td>...</td>\n",
       "      <td>0.000000</td>\n",
       "      <td>0.000000</td>\n",
       "      <td>0.000000</td>\n",
       "      <td>37.5237</td>\n",
       "      <td>126.909</td>\n",
       "      <td>17.2956</td>\n",
       "      <td>0.222300</td>\n",
       "      <td>4438.373535</td>\n",
       "      <td>28.6</td>\n",
       "      <td>18.8</td>\n",
       "    </tr>\n",
       "    <tr>\n",
       "      <th>7749</th>\n",
       "      <td>25.0</td>\n",
       "      <td>30-08-2017</td>\n",
       "      <td>23.2</td>\n",
       "      <td>17.4</td>\n",
       "      <td>22.933014</td>\n",
       "      <td>77.243744</td>\n",
       "      <td>27.939516</td>\n",
       "      <td>18.522965</td>\n",
       "      <td>7.289264</td>\n",
       "      <td>9.090034</td>\n",
       "      <td>...</td>\n",
       "      <td>0.000000</td>\n",
       "      <td>0.000000</td>\n",
       "      <td>0.000000</td>\n",
       "      <td>37.5237</td>\n",
       "      <td>126.970</td>\n",
       "      <td>19.5844</td>\n",
       "      <td>0.271300</td>\n",
       "      <td>4451.345215</td>\n",
       "      <td>27.8</td>\n",
       "      <td>17.4</td>\n",
       "    </tr>\n",
       "    <tr>\n",
       "      <th>7750</th>\n",
       "      <td>NaN</td>\n",
       "      <td>NaN</td>\n",
       "      <td>20.0</td>\n",
       "      <td>11.3</td>\n",
       "      <td>19.794666</td>\n",
       "      <td>58.936283</td>\n",
       "      <td>17.624954</td>\n",
       "      <td>14.272646</td>\n",
       "      <td>2.882580</td>\n",
       "      <td>-13.603212</td>\n",
       "      <td>...</td>\n",
       "      <td>0.000000</td>\n",
       "      <td>0.000000</td>\n",
       "      <td>0.000000</td>\n",
       "      <td>37.4562</td>\n",
       "      <td>126.826</td>\n",
       "      <td>12.3700</td>\n",
       "      <td>0.098475</td>\n",
       "      <td>4329.520508</td>\n",
       "      <td>17.4</td>\n",
       "      <td>11.3</td>\n",
       "    </tr>\n",
       "    <tr>\n",
       "      <th>7751</th>\n",
       "      <td>NaN</td>\n",
       "      <td>NaN</td>\n",
       "      <td>37.6</td>\n",
       "      <td>29.9</td>\n",
       "      <td>98.524734</td>\n",
       "      <td>100.000153</td>\n",
       "      <td>38.542255</td>\n",
       "      <td>29.619342</td>\n",
       "      <td>21.857621</td>\n",
       "      <td>213.414006</td>\n",
       "      <td>...</td>\n",
       "      <td>21.621661</td>\n",
       "      <td>15.841235</td>\n",
       "      <td>16.655469</td>\n",
       "      <td>37.6450</td>\n",
       "      <td>127.135</td>\n",
       "      <td>212.3350</td>\n",
       "      <td>5.178230</td>\n",
       "      <td>5992.895996</td>\n",
       "      <td>38.9</td>\n",
       "      <td>29.8</td>\n",
       "    </tr>\n",
       "  </tbody>\n",
       "</table>\n",
       "<p>7752 rows × 25 columns</p>\n",
       "</div>"
      ],
      "text/plain": [
       "      station        Date  Present_Tmax  Present_Tmin  LDAPS_RHmin  \\\n",
       "0         1.0  30-06-2013          28.7          21.4    58.255688   \n",
       "1         2.0  30-06-2013          31.9          21.6    52.263397   \n",
       "2         3.0  30-06-2013          31.6          23.3    48.690479   \n",
       "3         4.0  30-06-2013          32.0          23.4    58.239788   \n",
       "4         5.0  30-06-2013          31.4          21.9    56.174095   \n",
       "...       ...         ...           ...           ...          ...   \n",
       "7747     23.0  30-08-2017          23.3          17.1    26.741310   \n",
       "7748     24.0  30-08-2017          23.3          17.7    24.040634   \n",
       "7749     25.0  30-08-2017          23.2          17.4    22.933014   \n",
       "7750      NaN         NaN          20.0          11.3    19.794666   \n",
       "7751      NaN         NaN          37.6          29.9    98.524734   \n",
       "\n",
       "      LDAPS_RHmax  LDAPS_Tmax_lapse  LDAPS_Tmin_lapse   LDAPS_WS    LDAPS_LH  \\\n",
       "0       91.116364         28.074101         23.006936   6.818887   69.451805   \n",
       "1       90.604721         29.850689         24.035009   5.691890   51.937448   \n",
       "2       83.973587         30.091292         24.565633   6.138224   20.573050   \n",
       "3       96.483688         29.704629         23.326177   5.650050   65.727144   \n",
       "4       90.155128         29.113934         23.486480   5.735004  107.965535   \n",
       "...           ...               ...               ...        ...         ...   \n",
       "7747    78.869858         26.352081         18.775678   6.148918   72.058294   \n",
       "7748    77.294975         27.010193         18.733519   6.542819   47.241457   \n",
       "7749    77.243744         27.939516         18.522965   7.289264    9.090034   \n",
       "7750    58.936283         17.624954         14.272646   2.882580  -13.603212   \n",
       "7751   100.000153         38.542255         29.619342  21.857621  213.414006   \n",
       "\n",
       "      ...  LDAPS_PPT2  LDAPS_PPT3  LDAPS_PPT4      lat      lon       DEM  \\\n",
       "0     ...    0.000000    0.000000    0.000000  37.6046  126.991  212.3350   \n",
       "1     ...    0.000000    0.000000    0.000000  37.6046  127.032   44.7624   \n",
       "2     ...    0.000000    0.000000    0.000000  37.5776  127.058   33.3068   \n",
       "3     ...    0.000000    0.000000    0.000000  37.6450  127.022   45.7160   \n",
       "4     ...    0.000000    0.000000    0.000000  37.5507  127.135   35.0380   \n",
       "...   ...         ...         ...         ...      ...      ...       ...   \n",
       "7747  ...    0.000000    0.000000    0.000000  37.5372  126.891   15.5876   \n",
       "7748  ...    0.000000    0.000000    0.000000  37.5237  126.909   17.2956   \n",
       "7749  ...    0.000000    0.000000    0.000000  37.5237  126.970   19.5844   \n",
       "7750  ...    0.000000    0.000000    0.000000  37.4562  126.826   12.3700   \n",
       "7751  ...   21.621661   15.841235   16.655469  37.6450  127.135  212.3350   \n",
       "\n",
       "         Slope  Solar radiation  Next_Tmax  Next_Tmin  \n",
       "0     2.785000      5992.895996       29.1       21.2  \n",
       "1     0.514100      5869.312500       30.5       22.5  \n",
       "2     0.266100      5863.555664       31.1       23.9  \n",
       "3     2.534800      5856.964844       31.7       24.3  \n",
       "4     0.505500      5859.552246       31.2       22.5  \n",
       "...        ...              ...        ...        ...  \n",
       "7747  0.155400      4443.313965       28.3       18.1  \n",
       "7748  0.222300      4438.373535       28.6       18.8  \n",
       "7749  0.271300      4451.345215       27.8       17.4  \n",
       "7750  0.098475      4329.520508       17.4       11.3  \n",
       "7751  5.178230      5992.895996       38.9       29.8  \n",
       "\n",
       "[7752 rows x 25 columns]"
      ]
     },
     "execution_count": 5,
     "metadata": {},
     "output_type": "execute_result"
    }
   ],
   "source": [
    "df"
   ]
  },
  {
   "cell_type": "markdown",
   "metadata": {},
   "source": [
    "# Checking Null values in the dataframe.¶"
   ]
  },
  {
   "cell_type": "code",
   "execution_count": 6,
   "metadata": {},
   "outputs": [
    {
     "data": {
      "text/plain": [
       "station              2\n",
       "Date                 2\n",
       "Present_Tmax        70\n",
       "Present_Tmin        70\n",
       "LDAPS_RHmin         75\n",
       "LDAPS_RHmax         75\n",
       "LDAPS_Tmax_lapse    75\n",
       "LDAPS_Tmin_lapse    75\n",
       "LDAPS_WS            75\n",
       "LDAPS_LH            75\n",
       "LDAPS_CC1           75\n",
       "LDAPS_CC2           75\n",
       "LDAPS_CC3           75\n",
       "LDAPS_CC4           75\n",
       "LDAPS_PPT1          75\n",
       "LDAPS_PPT2          75\n",
       "LDAPS_PPT3          75\n",
       "LDAPS_PPT4          75\n",
       "lat                  0\n",
       "lon                  0\n",
       "DEM                  0\n",
       "Slope                0\n",
       "Solar radiation      0\n",
       "Next_Tmax           27\n",
       "Next_Tmin           27\n",
       "dtype: int64"
      ]
     },
     "execution_count": 6,
     "metadata": {},
     "output_type": "execute_result"
    }
   ],
   "source": [
    "df.isnull().sum()"
   ]
  },
  {
   "cell_type": "code",
   "execution_count": 7,
   "metadata": {},
   "outputs": [
    {
     "data": {
      "text/plain": [
       "Index(['station', 'Date', 'Present_Tmax', 'Present_Tmin', 'LDAPS_RHmin',\n",
       "       'LDAPS_RHmax', 'LDAPS_Tmax_lapse', 'LDAPS_Tmin_lapse', 'LDAPS_WS',\n",
       "       'LDAPS_LH', 'LDAPS_CC1', 'LDAPS_CC2', 'LDAPS_CC3', 'LDAPS_CC4',\n",
       "       'LDAPS_PPT1', 'LDAPS_PPT2', 'LDAPS_PPT3', 'LDAPS_PPT4', 'lat', 'lon',\n",
       "       'DEM', 'Slope', 'Solar radiation', 'Next_Tmax', 'Next_Tmin'],\n",
       "      dtype='object')"
      ]
     },
     "execution_count": 7,
     "metadata": {},
     "output_type": "execute_result"
    }
   ],
   "source": [
    "df.columns"
   ]
  },
  {
   "cell_type": "markdown",
   "metadata": {},
   "source": [
    "# Checking the datatypes of the columns."
   ]
  },
  {
   "cell_type": "code",
   "execution_count": 8,
   "metadata": {},
   "outputs": [
    {
     "data": {
      "text/plain": [
       "station             float64\n",
       "Date                 object\n",
       "Present_Tmax        float64\n",
       "Present_Tmin        float64\n",
       "LDAPS_RHmin         float64\n",
       "LDAPS_RHmax         float64\n",
       "LDAPS_Tmax_lapse    float64\n",
       "LDAPS_Tmin_lapse    float64\n",
       "LDAPS_WS            float64\n",
       "LDAPS_LH            float64\n",
       "LDAPS_CC1           float64\n",
       "LDAPS_CC2           float64\n",
       "LDAPS_CC3           float64\n",
       "LDAPS_CC4           float64\n",
       "LDAPS_PPT1          float64\n",
       "LDAPS_PPT2          float64\n",
       "LDAPS_PPT3          float64\n",
       "LDAPS_PPT4          float64\n",
       "lat                 float64\n",
       "lon                 float64\n",
       "DEM                 float64\n",
       "Slope               float64\n",
       "Solar radiation     float64\n",
       "Next_Tmax           float64\n",
       "Next_Tmin           float64\n",
       "dtype: object"
      ]
     },
     "execution_count": 8,
     "metadata": {},
     "output_type": "execute_result"
    }
   ],
   "source": [
    "df.dtypes"
   ]
  },
  {
   "cell_type": "code",
   "execution_count": 9,
   "metadata": {},
   "outputs": [],
   "source": [
    "import seaborn as sns"
   ]
  },
  {
   "cell_type": "code",
   "execution_count": 10,
   "metadata": {},
   "outputs": [
    {
     "data": {
      "text/plain": [
       "<AxesSubplot:>"
      ]
     },
     "execution_count": 10,
     "metadata": {},
     "output_type": "execute_result"
    },
    {
     "data": {
      "image/png": "[encoded data removed]",
      "text/plain": [
       "<Figure size 432x288 with 2 Axes>"
      ]
     },
     "metadata": {
      "needs_background": "light"
     },
     "output_type": "display_data"
    }
   ],
   "source": [
    "sns.heatmap(df.isnull())"
   ]
  },
  {
   "cell_type": "code",
   "execution_count": 11,
   "metadata": {},
   "outputs": [],
   "source": [
    "import sklearn\n",
    "from sklearn.preprocessing import LabelEncoder"
   ]
  },
  {
   "cell_type": "code",
   "execution_count": 12,
   "metadata": {},
   "outputs": [],
   "source": [
    "lencode=LabelEncoder()\n",
    "df['Date']=lencode.fit_transform(df['Date'])"
   ]
  },
  {
   "cell_type": "code",
   "execution_count": 13,
   "metadata": {},
   "outputs": [
    {
     "data": {
      "text/plain": [
       "station             float64\n",
       "Date                  int32\n",
       "Present_Tmax        float64\n",
       "Present_Tmin        float64\n",
       "LDAPS_RHmin         float64\n",
       "LDAPS_RHmax         float64\n",
       "LDAPS_Tmax_lapse    float64\n",
       "LDAPS_Tmin_lapse    float64\n",
       "LDAPS_WS            float64\n",
       "LDAPS_LH            float64\n",
       "LDAPS_CC1           float64\n",
       "LDAPS_CC2           float64\n",
       "LDAPS_CC3           float64\n",
       "LDAPS_CC4           float64\n",
       "LDAPS_PPT1          float64\n",
       "LDAPS_PPT2          float64\n",
       "LDAPS_PPT3          float64\n",
       "LDAPS_PPT4          float64\n",
       "lat                 float64\n",
       "lon                 float64\n",
       "DEM                 float64\n",
       "Slope               float64\n",
       "Solar radiation     float64\n",
       "Next_Tmax           float64\n",
       "Next_Tmin           float64\n",
       "dtype: object"
      ]
     },
     "execution_count": 13,
     "metadata": {},
     "output_type": "execute_result"
    }
   ],
   "source": [
    "df.dtypes"
   ]
  },
  {
   "cell_type": "markdown",
   "metadata": {},
   "source": [
    "# Null Value Treatment"
   ]
  },
  {
   "cell_type": "code",
   "execution_count": 14,
   "metadata": {},
   "outputs": [
    {
     "data": {
      "text/plain": [
       "station              2\n",
       "Date                 0\n",
       "Present_Tmax        70\n",
       "Present_Tmin        70\n",
       "LDAPS_RHmin         75\n",
       "LDAPS_RHmax         75\n",
       "LDAPS_Tmax_lapse    75\n",
       "LDAPS_Tmin_lapse    75\n",
       "LDAPS_WS            75\n",
       "LDAPS_LH            75\n",
       "LDAPS_CC1           75\n",
       "LDAPS_CC2           75\n",
       "LDAPS_CC3           75\n",
       "LDAPS_CC4           75\n",
       "LDAPS_PPT1          75\n",
       "LDAPS_PPT2          75\n",
       "LDAPS_PPT3          75\n",
       "LDAPS_PPT4          75\n",
       "lat                  0\n",
       "lon                  0\n",
       "DEM                  0\n",
       "Slope                0\n",
       "Solar radiation      0\n",
       "Next_Tmax           27\n",
       "Next_Tmin           27\n",
       "dtype: int64"
      ]
     },
     "execution_count": 14,
     "metadata": {},
     "output_type": "execute_result"
    }
   ],
   "source": [
    "df.isnull().sum()"
   ]
  },
  {
   "cell_type": "code",
   "execution_count": 15,
   "metadata": {},
   "outputs": [
    {
     "data": {
      "text/plain": [
       "station             0\n",
       "Date                0\n",
       "Present_Tmax        0\n",
       "Present_Tmin        0\n",
       "LDAPS_RHmin         0\n",
       "LDAPS_RHmax         0\n",
       "LDAPS_Tmax_lapse    0\n",
       "LDAPS_Tmin_lapse    0\n",
       "LDAPS_WS            0\n",
       "LDAPS_LH            0\n",
       "LDAPS_CC1           0\n",
       "LDAPS_CC2           0\n",
       "LDAPS_CC3           0\n",
       "LDAPS_CC4           0\n",
       "LDAPS_PPT1          0\n",
       "LDAPS_PPT2          0\n",
       "LDAPS_PPT3          0\n",
       "LDAPS_PPT4          0\n",
       "lat                 0\n",
       "lon                 0\n",
       "DEM                 0\n",
       "Slope               0\n",
       "Solar radiation     0\n",
       "Next_Tmax           0\n",
       "Next_Tmin           0\n",
       "dtype: int64"
      ]
     },
     "execution_count": 15,
     "metadata": {},
     "output_type": "execute_result"
    }
   ],
   "source": [
    "df['station']=df['station'].replace(np.NAN,df['station'].mean())\n",
    "df['Present_Tmax']=df['Present_Tmax'].replace(np.NAN,df['Present_Tmax'].mean())\n",
    "df['Present_Tmin']=df['Present_Tmax'].replace(np.NAN,df['Present_Tmin'].mean())\n",
    "df['LDAPS_RHmin']=df['LDAPS_RHmin'].replace(np.NAN,df['LDAPS_RHmin'].mean())\n",
    "df['LDAPS_RHmax']=df['LDAPS_RHmax'].replace(np.NAN,df['LDAPS_RHmax'].mean())\n",
    "df['LDAPS_Tmax_lapse']=df['LDAPS_Tmax_lapse'].replace(np.NAN,df['LDAPS_Tmax_lapse'].mean())\n",
    "df['LDAPS_Tmin_lapse']=df['LDAPS_Tmin_lapse'].replace(np.NAN,df['LDAPS_Tmin_lapse'].mean())\n",
    "df['LDAPS_WS']=df['LDAPS_WS'].replace(np.NAN,df['LDAPS_WS'].mean())\n",
    "df['LDAPS_LH']=df['LDAPS_LH'].replace(np.NAN,df['LDAPS_LH'].mean())\n",
    "df['LDAPS_CC1']=df['LDAPS_CC1'].replace(np.NAN,df['LDAPS_CC1'].mean())\n",
    "df['LDAPS_CC2']=df['LDAPS_CC2'].replace(np.NAN,df['LDAPS_CC2'].mean())\n",
    "df['LDAPS_CC3']=df['LDAPS_CC3'].replace(np.NAN,df['LDAPS_CC3'].mean())\n",
    "df['LDAPS_CC4']=df['LDAPS_CC4'].replace(np.NAN,df['LDAPS_CC4'].mean())\n",
    "df['LDAPS_PPT1']=df['LDAPS_PPT1'].replace(np.NAN,df['LDAPS_PPT1'].mean())\n",
    "df['LDAPS_PPT2']=df['LDAPS_PPT2'].replace(np.NAN,df['LDAPS_PPT2'].mean())\n",
    "df['LDAPS_PPT3']=df['LDAPS_PPT3'].replace(np.NAN,df['LDAPS_PPT3'].mean())\n",
    "df['LDAPS_PPT4']=df['LDAPS_PPT4'].replace(np.NAN,df['LDAPS_PPT4'].mean())\n",
    "df['Next_Tmax']=df['Next_Tmax'].replace(np.NAN,df['Next_Tmax'].mean())\n",
    "df['Next_Tmin']=df['Next_Tmin'].replace(np.NAN,df['Next_Tmin'].mean())\n",
    "df.isnull().sum()"
   ]
  },
  {
   "cell_type": "code",
   "execution_count": 16,
   "metadata": {},
   "outputs": [
    {
     "data": {
      "text/html": [
       "<div>\n",
       "<style scoped>\n",
       "    .dataframe tbody tr th:only-of-type {\n",
       "        vertical-align: middle;\n",
       "    }\n",
       "\n",
       "    .dataframe tbody tr th {\n",
       "        vertical-align: top;\n",
       "    }\n",
       "\n",
       "    .dataframe thead th {\n",
       "        text-align: right;\n",
       "    }\n",
       "</style>\n",
       "<table border=\"1\" class=\"dataframe\">\n",
       "  <thead>\n",
       "    <tr style=\"text-align: right;\">\n",
       "      <th></th>\n",
       "      <th>station</th>\n",
       "      <th>Date</th>\n",
       "      <th>Present_Tmax</th>\n",
       "      <th>Present_Tmin</th>\n",
       "      <th>LDAPS_RHmin</th>\n",
       "      <th>LDAPS_RHmax</th>\n",
       "      <th>LDAPS_Tmax_lapse</th>\n",
       "      <th>LDAPS_Tmin_lapse</th>\n",
       "      <th>LDAPS_WS</th>\n",
       "      <th>LDAPS_LH</th>\n",
       "      <th>...</th>\n",
       "      <th>LDAPS_PPT2</th>\n",
       "      <th>LDAPS_PPT3</th>\n",
       "      <th>LDAPS_PPT4</th>\n",
       "      <th>lat</th>\n",
       "      <th>lon</th>\n",
       "      <th>DEM</th>\n",
       "      <th>Slope</th>\n",
       "      <th>Solar radiation</th>\n",
       "      <th>Next_Tmax</th>\n",
       "      <th>Next_Tmin</th>\n",
       "    </tr>\n",
       "  </thead>\n",
       "  <tbody>\n",
       "    <tr>\n",
       "      <th>0</th>\n",
       "      <td>1.0</td>\n",
       "      <td>290</td>\n",
       "      <td>28.7</td>\n",
       "      <td>28.7</td>\n",
       "      <td>58.255688</td>\n",
       "      <td>91.116364</td>\n",
       "      <td>28.074101</td>\n",
       "      <td>23.006936</td>\n",
       "      <td>6.818887</td>\n",
       "      <td>69.451805</td>\n",
       "      <td>...</td>\n",
       "      <td>0.000000</td>\n",
       "      <td>0.000000</td>\n",
       "      <td>0.000000</td>\n",
       "      <td>37.6046</td>\n",
       "      <td>126.991</td>\n",
       "      <td>212.3350</td>\n",
       "      <td>2.785000</td>\n",
       "      <td>5992.895996</td>\n",
       "      <td>29.1</td>\n",
       "      <td>21.2</td>\n",
       "    </tr>\n",
       "    <tr>\n",
       "      <th>1</th>\n",
       "      <td>2.0</td>\n",
       "      <td>290</td>\n",
       "      <td>31.9</td>\n",
       "      <td>31.9</td>\n",
       "      <td>52.263397</td>\n",
       "      <td>90.604721</td>\n",
       "      <td>29.850689</td>\n",
       "      <td>24.035009</td>\n",
       "      <td>5.691890</td>\n",
       "      <td>51.937448</td>\n",
       "      <td>...</td>\n",
       "      <td>0.000000</td>\n",
       "      <td>0.000000</td>\n",
       "      <td>0.000000</td>\n",
       "      <td>37.6046</td>\n",
       "      <td>127.032</td>\n",
       "      <td>44.7624</td>\n",
       "      <td>0.514100</td>\n",
       "      <td>5869.312500</td>\n",
       "      <td>30.5</td>\n",
       "      <td>22.5</td>\n",
       "    </tr>\n",
       "    <tr>\n",
       "      <th>2</th>\n",
       "      <td>3.0</td>\n",
       "      <td>290</td>\n",
       "      <td>31.6</td>\n",
       "      <td>31.6</td>\n",
       "      <td>48.690479</td>\n",
       "      <td>83.973587</td>\n",
       "      <td>30.091292</td>\n",
       "      <td>24.565633</td>\n",
       "      <td>6.138224</td>\n",
       "      <td>20.573050</td>\n",
       "      <td>...</td>\n",
       "      <td>0.000000</td>\n",
       "      <td>0.000000</td>\n",
       "      <td>0.000000</td>\n",
       "      <td>37.5776</td>\n",
       "      <td>127.058</td>\n",
       "      <td>33.3068</td>\n",
       "      <td>0.266100</td>\n",
       "      <td>5863.555664</td>\n",
       "      <td>31.1</td>\n",
       "      <td>23.9</td>\n",
       "    </tr>\n",
       "    <tr>\n",
       "      <th>3</th>\n",
       "      <td>4.0</td>\n",
       "      <td>290</td>\n",
       "      <td>32.0</td>\n",
       "      <td>32.0</td>\n",
       "      <td>58.239788</td>\n",
       "      <td>96.483688</td>\n",
       "      <td>29.704629</td>\n",
       "      <td>23.326177</td>\n",
       "      <td>5.650050</td>\n",
       "      <td>65.727144</td>\n",
       "      <td>...</td>\n",
       "      <td>0.000000</td>\n",
       "      <td>0.000000</td>\n",
       "      <td>0.000000</td>\n",
       "      <td>37.6450</td>\n",
       "      <td>127.022</td>\n",
       "      <td>45.7160</td>\n",
       "      <td>2.534800</td>\n",
       "      <td>5856.964844</td>\n",
       "      <td>31.7</td>\n",
       "      <td>24.3</td>\n",
       "    </tr>\n",
       "    <tr>\n",
       "      <th>4</th>\n",
       "      <td>5.0</td>\n",
       "      <td>290</td>\n",
       "      <td>31.4</td>\n",
       "      <td>31.4</td>\n",
       "      <td>56.174095</td>\n",
       "      <td>90.155128</td>\n",
       "      <td>29.113934</td>\n",
       "      <td>23.486480</td>\n",
       "      <td>5.735004</td>\n",
       "      <td>107.965535</td>\n",
       "      <td>...</td>\n",
       "      <td>0.000000</td>\n",
       "      <td>0.000000</td>\n",
       "      <td>0.000000</td>\n",
       "      <td>37.5507</td>\n",
       "      <td>127.135</td>\n",
       "      <td>35.0380</td>\n",
       "      <td>0.505500</td>\n",
       "      <td>5859.552246</td>\n",
       "      <td>31.2</td>\n",
       "      <td>22.5</td>\n",
       "    </tr>\n",
       "    <tr>\n",
       "      <th>...</th>\n",
       "      <td>...</td>\n",
       "      <td>...</td>\n",
       "      <td>...</td>\n",
       "      <td>...</td>\n",
       "      <td>...</td>\n",
       "      <td>...</td>\n",
       "      <td>...</td>\n",
       "      <td>...</td>\n",
       "      <td>...</td>\n",
       "      <td>...</td>\n",
       "      <td>...</td>\n",
       "      <td>...</td>\n",
       "      <td>...</td>\n",
       "      <td>...</td>\n",
       "      <td>...</td>\n",
       "      <td>...</td>\n",
       "      <td>...</td>\n",
       "      <td>...</td>\n",
       "      <td>...</td>\n",
       "      <td>...</td>\n",
       "      <td>...</td>\n",
       "    </tr>\n",
       "    <tr>\n",
       "      <th>7747</th>\n",
       "      <td>23.0</td>\n",
       "      <td>304</td>\n",
       "      <td>23.3</td>\n",
       "      <td>23.3</td>\n",
       "      <td>26.741310</td>\n",
       "      <td>78.869858</td>\n",
       "      <td>26.352081</td>\n",
       "      <td>18.775678</td>\n",
       "      <td>6.148918</td>\n",
       "      <td>72.058294</td>\n",
       "      <td>...</td>\n",
       "      <td>0.000000</td>\n",
       "      <td>0.000000</td>\n",
       "      <td>0.000000</td>\n",
       "      <td>37.5372</td>\n",
       "      <td>126.891</td>\n",
       "      <td>15.5876</td>\n",
       "      <td>0.155400</td>\n",
       "      <td>4443.313965</td>\n",
       "      <td>28.3</td>\n",
       "      <td>18.1</td>\n",
       "    </tr>\n",
       "    <tr>\n",
       "      <th>7748</th>\n",
       "      <td>24.0</td>\n",
       "      <td>304</td>\n",
       "      <td>23.3</td>\n",
       "      <td>23.3</td>\n",
       "      <td>24.040634</td>\n",
       "      <td>77.294975</td>\n",
       "      <td>27.010193</td>\n",
       "      <td>18.733519</td>\n",
       "      <td>6.542819</td>\n",
       "      <td>47.241457</td>\n",
       "      <td>...</td>\n",
       "      <td>0.000000</td>\n",
       "      <td>0.000000</td>\n",
       "      <td>0.000000</td>\n",
       "      <td>37.5237</td>\n",
       "      <td>126.909</td>\n",
       "      <td>17.2956</td>\n",
       "      <td>0.222300</td>\n",
       "      <td>4438.373535</td>\n",
       "      <td>28.6</td>\n",
       "      <td>18.8</td>\n",
       "    </tr>\n",
       "    <tr>\n",
       "      <th>7749</th>\n",
       "      <td>25.0</td>\n",
       "      <td>304</td>\n",
       "      <td>23.2</td>\n",
       "      <td>23.2</td>\n",
       "      <td>22.933014</td>\n",
       "      <td>77.243744</td>\n",
       "      <td>27.939516</td>\n",
       "      <td>18.522965</td>\n",
       "      <td>7.289264</td>\n",
       "      <td>9.090034</td>\n",
       "      <td>...</td>\n",
       "      <td>0.000000</td>\n",
       "      <td>0.000000</td>\n",
       "      <td>0.000000</td>\n",
       "      <td>37.5237</td>\n",
       "      <td>126.970</td>\n",
       "      <td>19.5844</td>\n",
       "      <td>0.271300</td>\n",
       "      <td>4451.345215</td>\n",
       "      <td>27.8</td>\n",
       "      <td>17.4</td>\n",
       "    </tr>\n",
       "    <tr>\n",
       "      <th>7750</th>\n",
       "      <td>13.0</td>\n",
       "      <td>310</td>\n",
       "      <td>20.0</td>\n",
       "      <td>20.0</td>\n",
       "      <td>19.794666</td>\n",
       "      <td>58.936283</td>\n",
       "      <td>17.624954</td>\n",
       "      <td>14.272646</td>\n",
       "      <td>2.882580</td>\n",
       "      <td>-13.603212</td>\n",
       "      <td>...</td>\n",
       "      <td>0.000000</td>\n",
       "      <td>0.000000</td>\n",
       "      <td>0.000000</td>\n",
       "      <td>37.4562</td>\n",
       "      <td>126.826</td>\n",
       "      <td>12.3700</td>\n",
       "      <td>0.098475</td>\n",
       "      <td>4329.520508</td>\n",
       "      <td>17.4</td>\n",
       "      <td>11.3</td>\n",
       "    </tr>\n",
       "    <tr>\n",
       "      <th>7751</th>\n",
       "      <td>13.0</td>\n",
       "      <td>310</td>\n",
       "      <td>37.6</td>\n",
       "      <td>37.6</td>\n",
       "      <td>98.524734</td>\n",
       "      <td>100.000153</td>\n",
       "      <td>38.542255</td>\n",
       "      <td>29.619342</td>\n",
       "      <td>21.857621</td>\n",
       "      <td>213.414006</td>\n",
       "      <td>...</td>\n",
       "      <td>21.621661</td>\n",
       "      <td>15.841235</td>\n",
       "      <td>16.655469</td>\n",
       "      <td>37.6450</td>\n",
       "      <td>127.135</td>\n",
       "      <td>212.3350</td>\n",
       "      <td>5.178230</td>\n",
       "      <td>5992.895996</td>\n",
       "      <td>38.9</td>\n",
       "      <td>29.8</td>\n",
       "    </tr>\n",
       "  </tbody>\n",
       "</table>\n",
       "<p>7752 rows × 25 columns</p>\n",
       "</div>"
      ],
      "text/plain": [
       "      station  Date  Present_Tmax  Present_Tmin  LDAPS_RHmin  LDAPS_RHmax  \\\n",
       "0         1.0   290          28.7          28.7    58.255688    91.116364   \n",
       "1         2.0   290          31.9          31.9    52.263397    90.604721   \n",
       "2         3.0   290          31.6          31.6    48.690479    83.973587   \n",
       "3         4.0   290          32.0          32.0    58.239788    96.483688   \n",
       "4         5.0   290          31.4          31.4    56.174095    90.155128   \n",
       "...       ...   ...           ...           ...          ...          ...   \n",
       "7747     23.0   304          23.3          23.3    26.741310    78.869858   \n",
       "7748     24.0   304          23.3          23.3    24.040634    77.294975   \n",
       "7749     25.0   304          23.2          23.2    22.933014    77.243744   \n",
       "7750     13.0   310          20.0          20.0    19.794666    58.936283   \n",
       "7751     13.0   310          37.6          37.6    98.524734   100.000153   \n",
       "\n",
       "      LDAPS_Tmax_lapse  LDAPS_Tmin_lapse   LDAPS_WS    LDAPS_LH  ...  \\\n",
       "0            28.074101         23.006936   6.818887   69.451805  ...   \n",
       "1            29.850689         24.035009   5.691890   51.937448  ...   \n",
       "2            30.091292         24.565633   6.138224   20.573050  ...   \n",
       "3            29.704629         23.326177   5.650050   65.727144  ...   \n",
       "4            29.113934         23.486480   5.735004  107.965535  ...   \n",
       "...                ...               ...        ...         ...  ...   \n",
       "7747         26.352081         18.775678   6.148918   72.058294  ...   \n",
       "7748         27.010193         18.733519   6.542819   47.241457  ...   \n",
       "7749         27.939516         18.522965   7.289264    9.090034  ...   \n",
       "7750         17.624954         14.272646   2.882580  -13.603212  ...   \n",
       "7751         38.542255         29.619342  21.857621  213.414006  ...   \n",
       "\n",
       "      LDAPS_PPT2  LDAPS_PPT3  LDAPS_PPT4      lat      lon       DEM  \\\n",
       "0       0.000000    0.000000    0.000000  37.6046  126.991  212.3350   \n",
       "1       0.000000    0.000000    0.000000  37.6046  127.032   44.7624   \n",
       "2       0.000000    0.000000    0.000000  37.5776  127.058   33.3068   \n",
       "3       0.000000    0.000000    0.000000  37.6450  127.022   45.7160   \n",
       "4       0.000000    0.000000    0.000000  37.5507  127.135   35.0380   \n",
       "...          ...         ...         ...      ...      ...       ...   \n",
       "7747    0.000000    0.000000    0.000000  37.5372  126.891   15.5876   \n",
       "7748    0.000000    0.000000    0.000000  37.5237  126.909   17.2956   \n",
       "7749    0.000000    0.000000    0.000000  37.5237  126.970   19.5844   \n",
       "7750    0.000000    0.000000    0.000000  37.4562  126.826   12.3700   \n",
       "7751   21.621661   15.841235   16.655469  37.6450  127.135  212.3350   \n",
       "\n",
       "         Slope  Solar radiation  Next_Tmax  Next_Tmin  \n",
       "0     2.785000      5992.895996       29.1       21.2  \n",
       "1     0.514100      5869.312500       30.5       22.5  \n",
       "2     0.266100      5863.555664       31.1       23.9  \n",
       "3     2.534800      5856.964844       31.7       24.3  \n",
       "4     0.505500      5859.552246       31.2       22.5  \n",
       "...        ...              ...        ...        ...  \n",
       "7747  0.155400      4443.313965       28.3       18.1  \n",
       "7748  0.222300      4438.373535       28.6       18.8  \n",
       "7749  0.271300      4451.345215       27.8       17.4  \n",
       "7750  0.098475      4329.520508       17.4       11.3  \n",
       "7751  5.178230      5992.895996       38.9       29.8  \n",
       "\n",
       "[7752 rows x 25 columns]"
      ]
     },
     "execution_count": 16,
     "metadata": {},
     "output_type": "execute_result"
    }
   ],
   "source": [
    "df"
   ]
  },
  {
   "cell_type": "markdown",
   "metadata": {},
   "source": [
    "as data types is float so its all continuous"
   ]
  },
  {
   "cell_type": "markdown",
   "metadata": {},
   "source": [
    "# visualization"
   ]
  },
  {
   "cell_type": "code",
   "execution_count": 17,
   "metadata": {},
   "outputs": [],
   "source": [
    "df_visualization_continuous=df[['station', 'Present_Tmax', 'Present_Tmin', 'LDAPS_RHmin',\n",
    "       'LDAPS_RHmax', 'LDAPS_Tmax_lapse', 'LDAPS_Tmin_lapse', 'LDAPS_WS',\n",
    "       'LDAPS_LH', 'LDAPS_CC1', 'LDAPS_CC2', 'LDAPS_CC3', 'LDAPS_CC4',\n",
    "       'LDAPS_PPT1', 'LDAPS_PPT2', 'LDAPS_PPT3', 'LDAPS_PPT4', 'lat', 'lon',\n",
    "       'DEM', 'Slope', 'Solar radiation', 'Next_Tmax', 'Next_Tmin']].copy()"
   ]
  },
  {
   "cell_type": "code",
   "execution_count": 18,
   "metadata": {},
   "outputs": [
    {
     "name": "stderr",
     "output_type": "stream",
     "text": [
      "C:\\Users\\bisue\\anaconda2\\lib\\site-packages\\seaborn\\distributions.py:2551: FutureWarning: `distplot` is a deprecated function and will be removed in a future version. Please adapt your code to use either `displot` (a figure-level function with similar flexibility) or `histplot` (an axes-level function for histograms).\n",
      "  warnings.warn(msg, FutureWarning)\n"
     ]
    },
    {
     "data": {
      "text/plain": [
       "<AxesSubplot:xlabel='Next_Tmin', ylabel='Density'>"
      ]
     },
     "execution_count": 18,
     "metadata": {},
     "output_type": "execute_result"
    },
    {
     "data": {
      "image/png": "[encoded data removed]",
      "text/plain": [
       "<Figure size 432x288 with 1 Axes>"
      ]
     },
     "metadata": {
      "needs_background": "light"
     },
     "output_type": "display_data"
    }
   ],
   "source": [
    "import seaborn as sns\n",
    "sns.distplot(df_visualization_continuous['Next_Tmin'], kde=True)"
   ]
  },
  {
   "cell_type": "code",
   "execution_count": 19,
   "metadata": {},
   "outputs": [
    {
     "name": "stderr",
     "output_type": "stream",
     "text": [
      "C:\\Users\\bisue\\anaconda2\\lib\\site-packages\\seaborn\\distributions.py:2551: FutureWarning: `distplot` is a deprecated function and will be removed in a future version. Please adapt your code to use either `displot` (a figure-level function with similar flexibility) or `histplot` (an axes-level function for histograms).\n",
      "  warnings.warn(msg, FutureWarning)\n"
     ]
    },
    {
     "data": {
      "text/plain": [
       "<AxesSubplot:xlabel='Next_Tmax', ylabel='Density'>"
      ]
     },
     "execution_count": 19,
     "metadata": {},
     "output_type": "execute_result"
    },
    {
     "data": {
      "image/png": "[encoded data removed]",
      "text/plain": [
       "<Figure size 432x288 with 1 Axes>"
      ]
     },
     "metadata": {
      "needs_background": "light"
     },
     "output_type": "display_data"
    }
   ],
   "source": [
    "sns.distplot(df_visualization_continuous['Next_Tmax'], kde=True)"
   ]
  },
  {
   "cell_type": "code",
   "execution_count": 20,
   "metadata": {},
   "outputs": [
    {
     "name": "stderr",
     "output_type": "stream",
     "text": [
      "C:\\Users\\bisue\\anaconda2\\lib\\site-packages\\seaborn\\distributions.py:2551: FutureWarning: `distplot` is a deprecated function and will be removed in a future version. Please adapt your code to use either `displot` (a figure-level function with similar flexibility) or `histplot` (an axes-level function for histograms).\n",
      "  warnings.warn(msg, FutureWarning)\n"
     ]
    },
    {
     "data": {
      "text/plain": [
       "<AxesSubplot:xlabel='LDAPS_Tmin_lapse', ylabel='Density'>"
      ]
     },
     "execution_count": 20,
     "metadata": {},
     "output_type": "execute_result"
    },
    {
     "data": {
      "image/png": "[encoded data removed]",
      "text/plain": [
       "<Figure size 432x288 with 1 Axes>"
      ]
     },
     "metadata": {
      "needs_background": "light"
     },
     "output_type": "display_data"
    }
   ],
   "source": [
    "sns.distplot(df_visualization_continuous['LDAPS_Tmin_lapse'], kde=True)"
   ]
  },
  {
   "cell_type": "code",
   "execution_count": 21,
   "metadata": {},
   "outputs": [
    {
     "name": "stderr",
     "output_type": "stream",
     "text": [
      "C:\\Users\\bisue\\anaconda2\\lib\\site-packages\\seaborn\\distributions.py:2551: FutureWarning: `distplot` is a deprecated function and will be removed in a future version. Please adapt your code to use either `displot` (a figure-level function with similar flexibility) or `histplot` (an axes-level function for histograms).\n",
      "  warnings.warn(msg, FutureWarning)\n"
     ]
    },
    {
     "data": {
      "text/plain": [
       "<AxesSubplot:xlabel='LDAPS_Tmax_lapse', ylabel='Density'>"
      ]
     },
     "execution_count": 21,
     "metadata": {},
     "output_type": "execute_result"
    },
    {
     "data": {
      "image/png": "[encoded data removed]",
      "text/plain": [
       "<Figure size 432x288 with 1 Axes>"
      ]
     },
     "metadata": {
      "needs_background": "light"
     },
     "output_type": "display_data"
    }
   ],
   "source": [
    "sns.distplot(df_visualization_continuous['LDAPS_Tmax_lapse'], kde=True)"
   ]
  },
  {
   "cell_type": "code",
   "execution_count": 22,
   "metadata": {},
   "outputs": [
    {
     "name": "stderr",
     "output_type": "stream",
     "text": [
      "C:\\Users\\bisue\\anaconda2\\lib\\site-packages\\seaborn\\distributions.py:2551: FutureWarning: `distplot` is a deprecated function and will be removed in a future version. Please adapt your code to use either `displot` (a figure-level function with similar flexibility) or `histplot` (an axes-level function for histograms).\n",
      "  warnings.warn(msg, FutureWarning)\n"
     ]
    },
    {
     "data": {
      "text/plain": [
       "<AxesSubplot:xlabel='LDAPS_RHmax', ylabel='Density'>"
      ]
     },
     "execution_count": 22,
     "metadata": {},
     "output_type": "execute_result"
    },
    {
     "data": {
      "image/png": "[encoded data removed]",
      "text/plain": [
       "<Figure size 432x288 with 1 Axes>"
      ]
     },
     "metadata": {
      "needs_background": "light"
     },
     "output_type": "display_data"
    }
   ],
   "source": [
    "sns.distplot(df_visualization_continuous['LDAPS_RHmax'], kde=True)"
   ]
  },
  {
   "cell_type": "code",
   "execution_count": 23,
   "metadata": {},
   "outputs": [
    {
     "name": "stderr",
     "output_type": "stream",
     "text": [
      "C:\\Users\\bisue\\anaconda2\\lib\\site-packages\\seaborn\\distributions.py:2551: FutureWarning: `distplot` is a deprecated function and will be removed in a future version. Please adapt your code to use either `displot` (a figure-level function with similar flexibility) or `histplot` (an axes-level function for histograms).\n",
      "  warnings.warn(msg, FutureWarning)\n"
     ]
    },
    {
     "data": {
      "text/plain": [
       "<AxesSubplot:xlabel='LDAPS_RHmin', ylabel='Density'>"
      ]
     },
     "execution_count": 23,
     "metadata": {},
     "output_type": "execute_result"
    },
    {
     "data": {
      "image/png": "[encoded data removed]",
      "text/plain": [
       "<Figure size 432x288 with 1 Axes>"
      ]
     },
     "metadata": {
      "needs_background": "light"
     },
     "output_type": "display_data"
    }
   ],
   "source": [
    "sns.distplot(df_visualization_continuous['LDAPS_RHmin'], kde=True)"
   ]
  },
  {
   "cell_type": "code",
   "execution_count": 24,
   "metadata": {},
   "outputs": [
    {
     "name": "stderr",
     "output_type": "stream",
     "text": [
      "C:\\Users\\bisue\\anaconda2\\lib\\site-packages\\seaborn\\distributions.py:2551: FutureWarning: `distplot` is a deprecated function and will be removed in a future version. Please adapt your code to use either `displot` (a figure-level function with similar flexibility) or `histplot` (an axes-level function for histograms).\n",
      "  warnings.warn(msg, FutureWarning)\n"
     ]
    },
    {
     "data": {
      "text/plain": [
       "<AxesSubplot:xlabel='LDAPS_PPT1', ylabel='Density'>"
      ]
     },
     "execution_count": 24,
     "metadata": {},
     "output_type": "execute_result"
    },
    {
     "data": {
      "image/png": "[encoded data removed]",
      "text/plain": [
       "<Figure size 432x288 with 1 Axes>"
      ]
     },
     "metadata": {
      "needs_background": "light"
     },
     "output_type": "display_data"
    }
   ],
   "source": [
    "sns.distplot(df_visualization_continuous['LDAPS_PPT1'], kde=True)"
   ]
  },
  {
   "cell_type": "code",
   "execution_count": 25,
   "metadata": {},
   "outputs": [
    {
     "name": "stderr",
     "output_type": "stream",
     "text": [
      "C:\\Users\\bisue\\anaconda2\\lib\\site-packages\\seaborn\\distributions.py:2551: FutureWarning: `distplot` is a deprecated function and will be removed in a future version. Please adapt your code to use either `displot` (a figure-level function with similar flexibility) or `histplot` (an axes-level function for histograms).\n",
      "  warnings.warn(msg, FutureWarning)\n"
     ]
    },
    {
     "data": {
      "text/plain": [
       "<AxesSubplot:xlabel='LDAPS_PPT2', ylabel='Density'>"
      ]
     },
     "execution_count": 25,
     "metadata": {},
     "output_type": "execute_result"
    },
    {
     "data": {
      "image/png": "[encoded data removed]",
      "text/plain": [
       "<Figure size 432x288 with 1 Axes>"
      ]
     },
     "metadata": {
      "needs_background": "light"
     },
     "output_type": "display_data"
    }
   ],
   "source": [
    "sns.distplot(df_visualization_continuous['LDAPS_PPT2'], kde=True)"
   ]
  },
  {
   "cell_type": "code",
   "execution_count": 26,
   "metadata": {},
   "outputs": [
    {
     "name": "stderr",
     "output_type": "stream",
     "text": [
      "C:\\Users\\bisue\\anaconda2\\lib\\site-packages\\seaborn\\distributions.py:2551: FutureWarning: `distplot` is a deprecated function and will be removed in a future version. Please adapt your code to use either `displot` (a figure-level function with similar flexibility) or `histplot` (an axes-level function for histograms).\n",
      "  warnings.warn(msg, FutureWarning)\n"
     ]
    },
    {
     "data": {
      "text/plain": [
       "<AxesSubplot:xlabel='LDAPS_PPT3', ylabel='Density'>"
      ]
     },
     "execution_count": 26,
     "metadata": {},
     "output_type": "execute_result"
    },
    {
     "data": {
      "image/png": "[encoded data removed]",
      "text/plain": [
       "<Figure size 432x288 with 1 Axes>"
      ]
     },
     "metadata": {
      "needs_background": "light"
     },
     "output_type": "display_data"
    }
   ],
   "source": [
    "sns.distplot(df_visualization_continuous['LDAPS_PPT3'], kde=True)"
   ]
  },
  {
   "cell_type": "code",
   "execution_count": 27,
   "metadata": {},
   "outputs": [
    {
     "name": "stderr",
     "output_type": "stream",
     "text": [
      "C:\\Users\\bisue\\anaconda2\\lib\\site-packages\\seaborn\\distributions.py:2551: FutureWarning: `distplot` is a deprecated function and will be removed in a future version. Please adapt your code to use either `displot` (a figure-level function with similar flexibility) or `histplot` (an axes-level function for histograms).\n",
      "  warnings.warn(msg, FutureWarning)\n"
     ]
    },
    {
     "data": {
      "text/plain": [
       "<AxesSubplot:xlabel='LDAPS_PPT4', ylabel='Density'>"
      ]
     },
     "execution_count": 27,
     "metadata": {},
     "output_type": "execute_result"
    },
    {
     "data": {
      "image/png": "[encoded data removed]",
      "text/plain": [
       "<Figure size 432x288 with 1 Axes>"
      ]
     },
     "metadata": {
      "needs_background": "light"
     },
     "output_type": "display_data"
    }
   ],
   "source": [
    "sns.distplot(df_visualization_continuous['LDAPS_PPT4'], kde=True)"
   ]
  },
  {
   "cell_type": "code",
   "execution_count": 28,
   "metadata": {},
   "outputs": [
    {
     "name": "stderr",
     "output_type": "stream",
     "text": [
      "C:\\Users\\bisue\\anaconda2\\lib\\site-packages\\seaborn\\distributions.py:2551: FutureWarning: `distplot` is a deprecated function and will be removed in a future version. Please adapt your code to use either `displot` (a figure-level function with similar flexibility) or `histplot` (an axes-level function for histograms).\n",
      "  warnings.warn(msg, FutureWarning)\n"
     ]
    },
    {
     "data": {
      "text/plain": [
       "<AxesSubplot:xlabel='Present_Tmax', ylabel='Density'>"
      ]
     },
     "execution_count": 28,
     "metadata": {},
     "output_type": "execute_result"
    },
    {
     "data": {
      "image/png": "[encoded data removed]",
      "text/plain": [
       "<Figure size 432x288 with 1 Axes>"
      ]
     },
     "metadata": {
      "needs_background": "light"
     },
     "output_type": "display_data"
    }
   ],
   "source": [
    "sns.distplot(df_visualization_continuous['Present_Tmax'], kde=True)"
   ]
  },
  {
   "cell_type": "code",
   "execution_count": 29,
   "metadata": {},
   "outputs": [
    {
     "name": "stderr",
     "output_type": "stream",
     "text": [
      "C:\\Users\\bisue\\anaconda2\\lib\\site-packages\\seaborn\\distributions.py:2551: FutureWarning: `distplot` is a deprecated function and will be removed in a future version. Please adapt your code to use either `displot` (a figure-level function with similar flexibility) or `histplot` (an axes-level function for histograms).\n",
      "  warnings.warn(msg, FutureWarning)\n"
     ]
    },
    {
     "data": {
      "text/plain": [
       "<AxesSubplot:xlabel='Present_Tmin', ylabel='Density'>"
      ]
     },
     "execution_count": 29,
     "metadata": {},
     "output_type": "execute_result"
    },
    {
     "data": {
      "image/png": "[encoded data removed]",
      "text/plain": [
       "<Figure size 432x288 with 1 Axes>"
      ]
     },
     "metadata": {
      "needs_background": "light"
     },
     "output_type": "display_data"
    }
   ],
   "source": [
    "sns.distplot(df_visualization_continuous['Present_Tmin'], kde=True)"
   ]
  },
  {
   "cell_type": "code",
   "execution_count": 30,
   "metadata": {},
   "outputs": [
    {
     "name": "stderr",
     "output_type": "stream",
     "text": [
      "C:\\Users\\bisue\\anaconda2\\lib\\site-packages\\seaborn\\distributions.py:2551: FutureWarning: `distplot` is a deprecated function and will be removed in a future version. Please adapt your code to use either `displot` (a figure-level function with similar flexibility) or `histplot` (an axes-level function for histograms).\n",
      "  warnings.warn(msg, FutureWarning)\n"
     ]
    },
    {
     "data": {
      "text/plain": [
       "<AxesSubplot:xlabel='station', ylabel='Density'>"
      ]
     },
     "execution_count": 30,
     "metadata": {},
     "output_type": "execute_result"
    },
    {
     "data": {
      "image/png": "[encoded data removed]",
      "text/plain": [
       "<Figure size 432x288 with 1 Axes>"
      ]
     },
     "metadata": {
      "needs_background": "light"
     },
     "output_type": "display_data"
    }
   ],
   "source": [
    "sns.distplot(df_visualization_continuous['station'], kde=True)"
   ]
  },
  {
   "cell_type": "markdown",
   "metadata": {},
   "source": [
    "# Describe the dataset:¶¶"
   ]
  },
  {
   "cell_type": "code",
   "execution_count": 31,
   "metadata": {},
   "outputs": [
    {
     "data": {
      "text/html": [
       "<div>\n",
       "<style scoped>\n",
       "    .dataframe tbody tr th:only-of-type {\n",
       "        vertical-align: middle;\n",
       "    }\n",
       "\n",
       "    .dataframe tbody tr th {\n",
       "        vertical-align: top;\n",
       "    }\n",
       "\n",
       "    .dataframe thead th {\n",
       "        text-align: right;\n",
       "    }\n",
       "</style>\n",
       "<table border=\"1\" class=\"dataframe\">\n",
       "  <thead>\n",
       "    <tr style=\"text-align: right;\">\n",
       "      <th></th>\n",
       "      <th>station</th>\n",
       "      <th>Date</th>\n",
       "      <th>Present_Tmax</th>\n",
       "      <th>Present_Tmin</th>\n",
       "      <th>LDAPS_RHmin</th>\n",
       "      <th>LDAPS_RHmax</th>\n",
       "      <th>LDAPS_Tmax_lapse</th>\n",
       "      <th>LDAPS_Tmin_lapse</th>\n",
       "      <th>LDAPS_WS</th>\n",
       "      <th>LDAPS_LH</th>\n",
       "      <th>...</th>\n",
       "      <th>LDAPS_PPT2</th>\n",
       "      <th>LDAPS_PPT3</th>\n",
       "      <th>LDAPS_PPT4</th>\n",
       "      <th>lat</th>\n",
       "      <th>lon</th>\n",
       "      <th>DEM</th>\n",
       "      <th>Slope</th>\n",
       "      <th>Solar radiation</th>\n",
       "      <th>Next_Tmax</th>\n",
       "      <th>Next_Tmin</th>\n",
       "    </tr>\n",
       "  </thead>\n",
       "  <tbody>\n",
       "    <tr>\n",
       "      <th>count</th>\n",
       "      <td>7752.000000</td>\n",
       "      <td>7752.000000</td>\n",
       "      <td>7752.000000</td>\n",
       "      <td>7752.000000</td>\n",
       "      <td>7752.000000</td>\n",
       "      <td>7752.000000</td>\n",
       "      <td>7752.000000</td>\n",
       "      <td>7752.000000</td>\n",
       "      <td>7752.000000</td>\n",
       "      <td>7752.000000</td>\n",
       "      <td>...</td>\n",
       "      <td>7752.000000</td>\n",
       "      <td>7752.000000</td>\n",
       "      <td>7752.000000</td>\n",
       "      <td>7752.000000</td>\n",
       "      <td>7752.000000</td>\n",
       "      <td>7752.000000</td>\n",
       "      <td>7752.000000</td>\n",
       "      <td>7752.000000</td>\n",
       "      <td>7752.000000</td>\n",
       "      <td>7752.000000</td>\n",
       "    </tr>\n",
       "    <tr>\n",
       "      <th>mean</th>\n",
       "      <td>13.000000</td>\n",
       "      <td>154.540119</td>\n",
       "      <td>29.768211</td>\n",
       "      <td>29.768211</td>\n",
       "      <td>56.759372</td>\n",
       "      <td>88.374804</td>\n",
       "      <td>29.613447</td>\n",
       "      <td>23.512589</td>\n",
       "      <td>7.097875</td>\n",
       "      <td>62.505019</td>\n",
       "      <td>...</td>\n",
       "      <td>0.485003</td>\n",
       "      <td>0.278200</td>\n",
       "      <td>0.269407</td>\n",
       "      <td>37.544722</td>\n",
       "      <td>126.991397</td>\n",
       "      <td>61.867972</td>\n",
       "      <td>1.257048</td>\n",
       "      <td>5341.502803</td>\n",
       "      <td>30.274887</td>\n",
       "      <td>22.932220</td>\n",
       "    </tr>\n",
       "    <tr>\n",
       "      <th>std</th>\n",
       "      <td>7.210637</td>\n",
       "      <td>89.517900</td>\n",
       "      <td>2.956557</td>\n",
       "      <td>2.956557</td>\n",
       "      <td>14.596973</td>\n",
       "      <td>7.157124</td>\n",
       "      <td>2.932898</td>\n",
       "      <td>2.333973</td>\n",
       "      <td>2.173245</td>\n",
       "      <td>33.567001</td>\n",
       "      <td>...</td>\n",
       "      <td>1.754258</td>\n",
       "      <td>1.156174</td>\n",
       "      <td>1.200364</td>\n",
       "      <td>0.050352</td>\n",
       "      <td>0.079435</td>\n",
       "      <td>54.279780</td>\n",
       "      <td>1.370444</td>\n",
       "      <td>429.158867</td>\n",
       "      <td>3.122557</td>\n",
       "      <td>2.483276</td>\n",
       "    </tr>\n",
       "    <tr>\n",
       "      <th>min</th>\n",
       "      <td>1.000000</td>\n",
       "      <td>0.000000</td>\n",
       "      <td>20.000000</td>\n",
       "      <td>20.000000</td>\n",
       "      <td>19.794666</td>\n",
       "      <td>58.936283</td>\n",
       "      <td>17.624954</td>\n",
       "      <td>14.272646</td>\n",
       "      <td>2.882580</td>\n",
       "      <td>-13.603212</td>\n",
       "      <td>...</td>\n",
       "      <td>0.000000</td>\n",
       "      <td>0.000000</td>\n",
       "      <td>0.000000</td>\n",
       "      <td>37.456200</td>\n",
       "      <td>126.826000</td>\n",
       "      <td>12.370000</td>\n",
       "      <td>0.098475</td>\n",
       "      <td>4329.520508</td>\n",
       "      <td>17.400000</td>\n",
       "      <td>11.300000</td>\n",
       "    </tr>\n",
       "    <tr>\n",
       "      <th>25%</th>\n",
       "      <td>7.000000</td>\n",
       "      <td>77.000000</td>\n",
       "      <td>27.800000</td>\n",
       "      <td>27.800000</td>\n",
       "      <td>46.046162</td>\n",
       "      <td>84.316923</td>\n",
       "      <td>27.693091</td>\n",
       "      <td>22.114651</td>\n",
       "      <td>5.686487</td>\n",
       "      <td>37.532764</td>\n",
       "      <td>...</td>\n",
       "      <td>0.000000</td>\n",
       "      <td>0.000000</td>\n",
       "      <td>0.000000</td>\n",
       "      <td>37.510200</td>\n",
       "      <td>126.937000</td>\n",
       "      <td>28.700000</td>\n",
       "      <td>0.271300</td>\n",
       "      <td>4999.018555</td>\n",
       "      <td>28.200000</td>\n",
       "      <td>21.400000</td>\n",
       "    </tr>\n",
       "    <tr>\n",
       "      <th>50%</th>\n",
       "      <td>13.000000</td>\n",
       "      <td>155.000000</td>\n",
       "      <td>29.900000</td>\n",
       "      <td>29.900000</td>\n",
       "      <td>55.313244</td>\n",
       "      <td>89.699505</td>\n",
       "      <td>29.662273</td>\n",
       "      <td>23.735942</td>\n",
       "      <td>6.563068</td>\n",
       "      <td>57.310630</td>\n",
       "      <td>...</td>\n",
       "      <td>0.000000</td>\n",
       "      <td>0.000000</td>\n",
       "      <td>0.000000</td>\n",
       "      <td>37.550700</td>\n",
       "      <td>126.995000</td>\n",
       "      <td>45.716000</td>\n",
       "      <td>0.618000</td>\n",
       "      <td>5436.345215</td>\n",
       "      <td>30.500000</td>\n",
       "      <td>23.100000</td>\n",
       "    </tr>\n",
       "    <tr>\n",
       "      <th>75%</th>\n",
       "      <td>19.000000</td>\n",
       "      <td>232.000000</td>\n",
       "      <td>32.000000</td>\n",
       "      <td>32.000000</td>\n",
       "      <td>67.038254</td>\n",
       "      <td>93.704500</td>\n",
       "      <td>31.683819</td>\n",
       "      <td>25.134000</td>\n",
       "      <td>8.007471</td>\n",
       "      <td>83.904586</td>\n",
       "      <td>...</td>\n",
       "      <td>0.024276</td>\n",
       "      <td>0.009697</td>\n",
       "      <td>0.000693</td>\n",
       "      <td>37.577600</td>\n",
       "      <td>127.042000</td>\n",
       "      <td>59.832400</td>\n",
       "      <td>1.767800</td>\n",
       "      <td>5728.316406</td>\n",
       "      <td>32.600000</td>\n",
       "      <td>24.600000</td>\n",
       "    </tr>\n",
       "    <tr>\n",
       "      <th>max</th>\n",
       "      <td>25.000000</td>\n",
       "      <td>310.000000</td>\n",
       "      <td>37.600000</td>\n",
       "      <td>37.600000</td>\n",
       "      <td>98.524734</td>\n",
       "      <td>100.000153</td>\n",
       "      <td>38.542255</td>\n",
       "      <td>29.619342</td>\n",
       "      <td>21.857621</td>\n",
       "      <td>213.414006</td>\n",
       "      <td>...</td>\n",
       "      <td>21.621661</td>\n",
       "      <td>15.841235</td>\n",
       "      <td>16.655469</td>\n",
       "      <td>37.645000</td>\n",
       "      <td>127.135000</td>\n",
       "      <td>212.335000</td>\n",
       "      <td>5.178230</td>\n",
       "      <td>5992.895996</td>\n",
       "      <td>38.900000</td>\n",
       "      <td>29.800000</td>\n",
       "    </tr>\n",
       "  </tbody>\n",
       "</table>\n",
       "<p>8 rows × 25 columns</p>\n",
       "</div>"
      ],
      "text/plain": [
       "           station         Date  Present_Tmax  Present_Tmin  LDAPS_RHmin  \\\n",
       "count  7752.000000  7752.000000   7752.000000   7752.000000  7752.000000   \n",
       "mean     13.000000   154.540119     29.768211     29.768211    56.759372   \n",
       "std       7.210637    89.517900      2.956557      2.956557    14.596973   \n",
       "min       1.000000     0.000000     20.000000     20.000000    19.794666   \n",
       "25%       7.000000    77.000000     27.800000     27.800000    46.046162   \n",
       "50%      13.000000   155.000000     29.900000     29.900000    55.313244   \n",
       "75%      19.000000   232.000000     32.000000     32.000000    67.038254   \n",
       "max      25.000000   310.000000     37.600000     37.600000    98.524734   \n",
       "\n",
       "       LDAPS_RHmax  LDAPS_Tmax_lapse  LDAPS_Tmin_lapse     LDAPS_WS  \\\n",
       "count  7752.000000       7752.000000       7752.000000  7752.000000   \n",
       "mean     88.374804         29.613447         23.512589     7.097875   \n",
       "std       7.157124          2.932898          2.333973     2.173245   \n",
       "min      58.936283         17.624954         14.272646     2.882580   \n",
       "25%      84.316923         27.693091         22.114651     5.686487   \n",
       "50%      89.699505         29.662273         23.735942     6.563068   \n",
       "75%      93.704500         31.683819         25.134000     8.007471   \n",
       "max     100.000153         38.542255         29.619342    21.857621   \n",
       "\n",
       "          LDAPS_LH  ...   LDAPS_PPT2   LDAPS_PPT3   LDAPS_PPT4          lat  \\\n",
       "count  7752.000000  ...  7752.000000  7752.000000  7752.000000  7752.000000   \n",
       "mean     62.505019  ...     0.485003     0.278200     0.269407    37.544722   \n",
       "std      33.567001  ...     1.754258     1.156174     1.200364     0.050352   \n",
       "min     -13.603212  ...     0.000000     0.000000     0.000000    37.456200   \n",
       "25%      37.532764  ...     0.000000     0.000000     0.000000    37.510200   \n",
       "50%      57.310630  ...     0.000000     0.000000     0.000000    37.550700   \n",
       "75%      83.904586  ...     0.024276     0.009697     0.000693    37.577600   \n",
       "max     213.414006  ...    21.621661    15.841235    16.655469    37.645000   \n",
       "\n",
       "               lon          DEM        Slope  Solar radiation    Next_Tmax  \\\n",
       "count  7752.000000  7752.000000  7752.000000      7752.000000  7752.000000   \n",
       "mean    126.991397    61.867972     1.257048      5341.502803    30.274887   \n",
       "std       0.079435    54.279780     1.370444       429.158867     3.122557   \n",
       "min     126.826000    12.370000     0.098475      4329.520508    17.400000   \n",
       "25%     126.937000    28.700000     0.271300      4999.018555    28.200000   \n",
       "50%     126.995000    45.716000     0.618000      5436.345215    30.500000   \n",
       "75%     127.042000    59.832400     1.767800      5728.316406    32.600000   \n",
       "max     127.135000   212.335000     5.178230      5992.895996    38.900000   \n",
       "\n",
       "         Next_Tmin  \n",
       "count  7752.000000  \n",
       "mean     22.932220  \n",
       "std       2.483276  \n",
       "min      11.300000  \n",
       "25%      21.400000  \n",
       "50%      23.100000  \n",
       "75%      24.600000  \n",
       "max      29.800000  \n",
       "\n",
       "[8 rows x 25 columns]"
      ]
     },
     "execution_count": 31,
     "metadata": {},
     "output_type": "execute_result"
    }
   ],
   "source": [
    "df.describe()"
   ]
  },
  {
   "cell_type": "code",
   "execution_count": 32,
   "metadata": {},
   "outputs": [
    {
     "data": {
      "text/plain": [
       "<AxesSubplot:>"
      ]
     },
     "execution_count": 32,
     "metadata": {},
     "output_type": "execute_result"
    },
    {
     "data": {
      "image/png": "[encoded data removed]",
      "text/plain": [
       "<Figure size 1584x504 with 2 Axes>"
      ]
     },
     "metadata": {
      "needs_background": "light"
     },
     "output_type": "display_data"
    }
   ],
   "source": [
    "import matplotlib.pyplot as plt\n",
    "plt.figure(figsize=(22,7))\n",
    "sns.heatmap(df.describe(),annot=True,linewidths=0.1,linecolor=\"black\",fmt=\"0.2f\")"
   ]
  },
  {
   "cell_type": "markdown",
   "metadata": {},
   "source": [
    "# Correlation of the columns with the target columns:¶¶"
   ]
  },
  {
   "cell_type": "code",
   "execution_count": 33,
   "metadata": {},
   "outputs": [
    {
     "data": {
      "text/html": [
       "<div>\n",
       "<style scoped>\n",
       "    .dataframe tbody tr th:only-of-type {\n",
       "        vertical-align: middle;\n",
       "    }\n",
       "\n",
       "    .dataframe tbody tr th {\n",
       "        vertical-align: top;\n",
       "    }\n",
       "\n",
       "    .dataframe thead th {\n",
       "        text-align: right;\n",
       "    }\n",
       "</style>\n",
       "<table border=\"1\" class=\"dataframe\">\n",
       "  <thead>\n",
       "    <tr style=\"text-align: right;\">\n",
       "      <th></th>\n",
       "      <th>station</th>\n",
       "      <th>Date</th>\n",
       "      <th>Present_Tmax</th>\n",
       "      <th>Present_Tmin</th>\n",
       "      <th>LDAPS_RHmin</th>\n",
       "      <th>LDAPS_RHmax</th>\n",
       "      <th>LDAPS_Tmax_lapse</th>\n",
       "      <th>LDAPS_Tmin_lapse</th>\n",
       "      <th>LDAPS_WS</th>\n",
       "      <th>LDAPS_LH</th>\n",
       "      <th>...</th>\n",
       "      <th>LDAPS_PPT2</th>\n",
       "      <th>LDAPS_PPT3</th>\n",
       "      <th>LDAPS_PPT4</th>\n",
       "      <th>lat</th>\n",
       "      <th>lon</th>\n",
       "      <th>DEM</th>\n",
       "      <th>Slope</th>\n",
       "      <th>Solar radiation</th>\n",
       "      <th>Next_Tmax</th>\n",
       "      <th>Next_Tmin</th>\n",
       "    </tr>\n",
       "  </thead>\n",
       "  <tbody>\n",
       "    <tr>\n",
       "      <th>station</th>\n",
       "      <td>1.000000e+00</td>\n",
       "      <td>1.417926e-17</td>\n",
       "      <td>0.112655</td>\n",
       "      <td>0.112655</td>\n",
       "      <td>-0.066733</td>\n",
       "      <td>-0.166984</td>\n",
       "      <td>0.069107</td>\n",
       "      <td>0.104758</td>\n",
       "      <td>0.005277</td>\n",
       "      <td>-0.133357</td>\n",
       "      <td>...</td>\n",
       "      <td>-0.008250</td>\n",
       "      <td>-0.012461</td>\n",
       "      <td>-0.010401</td>\n",
       "      <td>-0.237502</td>\n",
       "      <td>-0.118704</td>\n",
       "      <td>-0.255830</td>\n",
       "      <td>-0.090061</td>\n",
       "      <td>-0.019001</td>\n",
       "      <td>0.107983</td>\n",
       "      <td>0.128293</td>\n",
       "    </tr>\n",
       "    <tr>\n",
       "      <th>Date</th>\n",
       "      <td>1.417926e-17</td>\n",
       "      <td>1.000000e+00</td>\n",
       "      <td>-0.136280</td>\n",
       "      <td>-0.136280</td>\n",
       "      <td>-0.069333</td>\n",
       "      <td>-0.021348</td>\n",
       "      <td>-0.156184</td>\n",
       "      <td>-0.172665</td>\n",
       "      <td>-0.044676</td>\n",
       "      <td>-0.017134</td>\n",
       "      <td>...</td>\n",
       "      <td>-0.007767</td>\n",
       "      <td>0.006322</td>\n",
       "      <td>-0.032418</td>\n",
       "      <td>0.000052</td>\n",
       "      <td>-0.000061</td>\n",
       "      <td>0.000417</td>\n",
       "      <td>0.000452</td>\n",
       "      <td>-0.433311</td>\n",
       "      <td>-0.116535</td>\n",
       "      <td>-0.126890</td>\n",
       "    </tr>\n",
       "    <tr>\n",
       "      <th>Present_Tmax</th>\n",
       "      <td>1.126554e-01</td>\n",
       "      <td>-1.362798e-01</td>\n",
       "      <td>1.000000</td>\n",
       "      <td>1.000000</td>\n",
       "      <td>-0.204571</td>\n",
       "      <td>-0.301787</td>\n",
       "      <td>0.570129</td>\n",
       "      <td>0.623496</td>\n",
       "      <td>-0.121820</td>\n",
       "      <td>0.135463</td>\n",
       "      <td>...</td>\n",
       "      <td>-0.099449</td>\n",
       "      <td>-0.120367</td>\n",
       "      <td>-0.099607</td>\n",
       "      <td>-0.052615</td>\n",
       "      <td>0.009020</td>\n",
       "      <td>-0.187121</td>\n",
       "      <td>-0.105809</td>\n",
       "      <td>-0.025439</td>\n",
       "      <td>0.610348</td>\n",
       "      <td>0.622741</td>\n",
       "    </tr>\n",
       "    <tr>\n",
       "      <th>Present_Tmin</th>\n",
       "      <td>1.126554e-01</td>\n",
       "      <td>-1.362798e-01</td>\n",
       "      <td>1.000000</td>\n",
       "      <td>1.000000</td>\n",
       "      <td>-0.204571</td>\n",
       "      <td>-0.301787</td>\n",
       "      <td>0.570129</td>\n",
       "      <td>0.623496</td>\n",
       "      <td>-0.121820</td>\n",
       "      <td>0.135463</td>\n",
       "      <td>...</td>\n",
       "      <td>-0.099449</td>\n",
       "      <td>-0.120367</td>\n",
       "      <td>-0.099607</td>\n",
       "      <td>-0.052615</td>\n",
       "      <td>0.009020</td>\n",
       "      <td>-0.187121</td>\n",
       "      <td>-0.105809</td>\n",
       "      <td>-0.025439</td>\n",
       "      <td>0.610348</td>\n",
       "      <td>0.622741</td>\n",
       "    </tr>\n",
       "    <tr>\n",
       "      <th>LDAPS_RHmin</th>\n",
       "      <td>-6.673316e-02</td>\n",
       "      <td>-6.933333e-02</td>\n",
       "      <td>-0.204571</td>\n",
       "      <td>-0.204571</td>\n",
       "      <td>1.000000</td>\n",
       "      <td>0.579141</td>\n",
       "      <td>-0.564580</td>\n",
       "      <td>0.089476</td>\n",
       "      <td>0.294361</td>\n",
       "      <td>-0.070858</td>\n",
       "      <td>...</td>\n",
       "      <td>0.390967</td>\n",
       "      <td>0.240642</td>\n",
       "      <td>0.168595</td>\n",
       "      <td>0.087099</td>\n",
       "      <td>-0.076237</td>\n",
       "      <td>0.102115</td>\n",
       "      <td>0.123744</td>\n",
       "      <td>0.244080</td>\n",
       "      <td>-0.437898</td>\n",
       "      <td>0.095019</td>\n",
       "    </tr>\n",
       "    <tr>\n",
       "      <th>LDAPS_RHmax</th>\n",
       "      <td>-1.669845e-01</td>\n",
       "      <td>-2.134839e-02</td>\n",
       "      <td>-0.301787</td>\n",
       "      <td>-0.301787</td>\n",
       "      <td>0.579141</td>\n",
       "      <td>1.000000</td>\n",
       "      <td>-0.373404</td>\n",
       "      <td>-0.114143</td>\n",
       "      <td>0.135333</td>\n",
       "      <td>0.238579</td>\n",
       "      <td>...</td>\n",
       "      <td>0.229050</td>\n",
       "      <td>0.134607</td>\n",
       "      <td>0.117853</td>\n",
       "      <td>0.195798</td>\n",
       "      <td>0.025667</td>\n",
       "      <td>0.177168</td>\n",
       "      <td>0.219599</td>\n",
       "      <td>0.149261</td>\n",
       "      <td>-0.283738</td>\n",
       "      <td>-0.071997</td>\n",
       "    </tr>\n",
       "    <tr>\n",
       "      <th>LDAPS_Tmax_lapse</th>\n",
       "      <td>6.910718e-02</td>\n",
       "      <td>-1.561839e-01</td>\n",
       "      <td>0.570129</td>\n",
       "      <td>0.570129</td>\n",
       "      <td>-0.564580</td>\n",
       "      <td>-0.373404</td>\n",
       "      <td>1.000000</td>\n",
       "      <td>0.654021</td>\n",
       "      <td>-0.311996</td>\n",
       "      <td>0.048010</td>\n",
       "      <td>...</td>\n",
       "      <td>-0.242122</td>\n",
       "      <td>-0.188115</td>\n",
       "      <td>-0.160273</td>\n",
       "      <td>-0.042093</td>\n",
       "      <td>0.090666</td>\n",
       "      <td>-0.178895</td>\n",
       "      <td>-0.162332</td>\n",
       "      <td>0.047971</td>\n",
       "      <td>0.827189</td>\n",
       "      <td>0.586868</td>\n",
       "    </tr>\n",
       "    <tr>\n",
       "      <th>LDAPS_Tmin_lapse</th>\n",
       "      <td>1.047582e-01</td>\n",
       "      <td>-1.726650e-01</td>\n",
       "      <td>0.623496</td>\n",
       "      <td>0.623496</td>\n",
       "      <td>0.089476</td>\n",
       "      <td>-0.114143</td>\n",
       "      <td>0.654021</td>\n",
       "      <td>1.000000</td>\n",
       "      <td>-0.130035</td>\n",
       "      <td>-0.134761</td>\n",
       "      <td>...</td>\n",
       "      <td>0.000870</td>\n",
       "      <td>-0.088575</td>\n",
       "      <td>-0.094655</td>\n",
       "      <td>-0.096257</td>\n",
       "      <td>-0.026701</td>\n",
       "      <td>-0.195455</td>\n",
       "      <td>-0.185849</td>\n",
       "      <td>0.159975</td>\n",
       "      <td>0.586983</td>\n",
       "      <td>0.880176</td>\n",
       "    </tr>\n",
       "    <tr>\n",
       "      <th>LDAPS_WS</th>\n",
       "      <td>5.277000e-03</td>\n",
       "      <td>-4.467571e-02</td>\n",
       "      <td>-0.121820</td>\n",
       "      <td>-0.121820</td>\n",
       "      <td>0.294361</td>\n",
       "      <td>0.135333</td>\n",
       "      <td>-0.311996</td>\n",
       "      <td>-0.130035</td>\n",
       "      <td>1.000000</td>\n",
       "      <td>0.006711</td>\n",
       "      <td>...</td>\n",
       "      <td>0.191886</td>\n",
       "      <td>0.161684</td>\n",
       "      <td>0.144085</td>\n",
       "      <td>0.036657</td>\n",
       "      <td>-0.059466</td>\n",
       "      <td>0.191053</td>\n",
       "      <td>0.171629</td>\n",
       "      <td>0.121759</td>\n",
       "      <td>-0.342729</td>\n",
       "      <td>-0.096576</td>\n",
       "    </tr>\n",
       "    <tr>\n",
       "      <th>LDAPS_LH</th>\n",
       "      <td>-1.333566e-01</td>\n",
       "      <td>-1.713394e-02</td>\n",
       "      <td>0.135463</td>\n",
       "      <td>0.135463</td>\n",
       "      <td>-0.070858</td>\n",
       "      <td>0.238579</td>\n",
       "      <td>0.048010</td>\n",
       "      <td>-0.134761</td>\n",
       "      <td>0.006711</td>\n",
       "      <td>1.000000</td>\n",
       "      <td>...</td>\n",
       "      <td>-0.077545</td>\n",
       "      <td>0.016102</td>\n",
       "      <td>0.019979</td>\n",
       "      <td>0.133221</td>\n",
       "      <td>0.025822</td>\n",
       "      <td>0.055133</td>\n",
       "      <td>0.086781</td>\n",
       "      <td>-0.047384</td>\n",
       "      <td>0.157616</td>\n",
       "      <td>-0.055440</td>\n",
       "    </tr>\n",
       "    <tr>\n",
       "      <th>LDAPS_CC1</th>\n",
       "      <td>6.918787e-03</td>\n",
       "      <td>-3.257185e-02</td>\n",
       "      <td>-0.311805</td>\n",
       "      <td>-0.311805</td>\n",
       "      <td>0.613818</td>\n",
       "      <td>0.436652</td>\n",
       "      <td>-0.438439</td>\n",
       "      <td>0.010901</td>\n",
       "      <td>0.289445</td>\n",
       "      <td>-0.147296</td>\n",
       "      <td>...</td>\n",
       "      <td>0.389453</td>\n",
       "      <td>0.168742</td>\n",
       "      <td>0.091722</td>\n",
       "      <td>-0.008131</td>\n",
       "      <td>-0.006843</td>\n",
       "      <td>-0.014090</td>\n",
       "      <td>-0.020752</td>\n",
       "      <td>0.218309</td>\n",
       "      <td>-0.452541</td>\n",
       "      <td>-0.011028</td>\n",
       "    </tr>\n",
       "    <tr>\n",
       "      <th>LDAPS_CC2</th>\n",
       "      <td>3.396039e-03</td>\n",
       "      <td>-1.525906e-02</td>\n",
       "      <td>-0.213791</td>\n",
       "      <td>-0.213791</td>\n",
       "      <td>0.745443</td>\n",
       "      <td>0.391330</td>\n",
       "      <td>-0.523619</td>\n",
       "      <td>0.047727</td>\n",
       "      <td>0.261090</td>\n",
       "      <td>-0.264280</td>\n",
       "      <td>...</td>\n",
       "      <td>0.478472</td>\n",
       "      <td>0.240134</td>\n",
       "      <td>0.159548</td>\n",
       "      <td>-0.001497</td>\n",
       "      <td>-0.003581</td>\n",
       "      <td>-0.012823</td>\n",
       "      <td>-0.018073</td>\n",
       "      <td>0.170403</td>\n",
       "      <td>-0.490756</td>\n",
       "      <td>0.031250</td>\n",
       "    </tr>\n",
       "    <tr>\n",
       "      <th>LDAPS_CC3</th>\n",
       "      <td>6.940187e-04</td>\n",
       "      <td>-5.324149e-02</td>\n",
       "      <td>-0.144018</td>\n",
       "      <td>-0.144018</td>\n",
       "      <td>0.689679</td>\n",
       "      <td>0.226957</td>\n",
       "      <td>-0.541327</td>\n",
       "      <td>-0.044018</td>\n",
       "      <td>0.242991</td>\n",
       "      <td>-0.245583</td>\n",
       "      <td>...</td>\n",
       "      <td>0.337569</td>\n",
       "      <td>0.339800</td>\n",
       "      <td>0.302357</td>\n",
       "      <td>0.004108</td>\n",
       "      <td>0.016041</td>\n",
       "      <td>0.000697</td>\n",
       "      <td>-0.003338</td>\n",
       "      <td>0.119292</td>\n",
       "      <td>-0.514680</td>\n",
       "      <td>-0.054726</td>\n",
       "    </tr>\n",
       "    <tr>\n",
       "      <th>LDAPS_CC4</th>\n",
       "      <td>6.126001e-03</td>\n",
       "      <td>-3.861459e-02</td>\n",
       "      <td>-0.140729</td>\n",
       "      <td>-0.140729</td>\n",
       "      <td>0.514075</td>\n",
       "      <td>0.130619</td>\n",
       "      <td>-0.429539</td>\n",
       "      <td>-0.080335</td>\n",
       "      <td>0.220533</td>\n",
       "      <td>-0.172766</td>\n",
       "      <td>...</td>\n",
       "      <td>0.288195</td>\n",
       "      <td>0.267494</td>\n",
       "      <td>0.376049</td>\n",
       "      <td>-0.009107</td>\n",
       "      <td>-0.002477</td>\n",
       "      <td>-0.007334</td>\n",
       "      <td>-0.014459</td>\n",
       "      <td>0.119983</td>\n",
       "      <td>-0.446319</td>\n",
       "      <td>-0.085093</td>\n",
       "    </tr>\n",
       "    <tr>\n",
       "      <th>LDAPS_PPT1</th>\n",
       "      <td>-2.709482e-03</td>\n",
       "      <td>-2.301557e-02</td>\n",
       "      <td>-0.109006</td>\n",
       "      <td>-0.109006</td>\n",
       "      <td>0.262665</td>\n",
       "      <td>0.268449</td>\n",
       "      <td>-0.111065</td>\n",
       "      <td>0.038056</td>\n",
       "      <td>0.152587</td>\n",
       "      <td>-0.012542</td>\n",
       "      <td>...</td>\n",
       "      <td>0.383831</td>\n",
       "      <td>0.033004</td>\n",
       "      <td>0.024626</td>\n",
       "      <td>0.000565</td>\n",
       "      <td>-0.001225</td>\n",
       "      <td>0.011290</td>\n",
       "      <td>0.016310</td>\n",
       "      <td>0.088015</td>\n",
       "      <td>-0.118817</td>\n",
       "      <td>0.021323</td>\n",
       "    </tr>\n",
       "    <tr>\n",
       "      <th>LDAPS_PPT2</th>\n",
       "      <td>-8.249548e-03</td>\n",
       "      <td>-7.766664e-03</td>\n",
       "      <td>-0.099449</td>\n",
       "      <td>-0.099449</td>\n",
       "      <td>0.390967</td>\n",
       "      <td>0.229050</td>\n",
       "      <td>-0.242122</td>\n",
       "      <td>0.000870</td>\n",
       "      <td>0.191886</td>\n",
       "      <td>-0.077545</td>\n",
       "      <td>...</td>\n",
       "      <td>1.000000</td>\n",
       "      <td>0.221172</td>\n",
       "      <td>0.139555</td>\n",
       "      <td>0.019564</td>\n",
       "      <td>0.018600</td>\n",
       "      <td>0.008357</td>\n",
       "      <td>0.010214</td>\n",
       "      <td>0.110182</td>\n",
       "      <td>-0.178383</td>\n",
       "      <td>-0.008058</td>\n",
       "    </tr>\n",
       "    <tr>\n",
       "      <th>LDAPS_PPT3</th>\n",
       "      <td>-1.246113e-02</td>\n",
       "      <td>6.322131e-03</td>\n",
       "      <td>-0.120367</td>\n",
       "      <td>-0.120367</td>\n",
       "      <td>0.240642</td>\n",
       "      <td>0.134607</td>\n",
       "      <td>-0.188115</td>\n",
       "      <td>-0.088575</td>\n",
       "      <td>0.161684</td>\n",
       "      <td>0.016102</td>\n",
       "      <td>...</td>\n",
       "      <td>0.221172</td>\n",
       "      <td>1.000000</td>\n",
       "      <td>0.309076</td>\n",
       "      <td>0.035110</td>\n",
       "      <td>0.021662</td>\n",
       "      <td>0.017186</td>\n",
       "      <td>0.025333</td>\n",
       "      <td>-0.054071</td>\n",
       "      <td>-0.194143</td>\n",
       "      <td>-0.062622</td>\n",
       "    </tr>\n",
       "    <tr>\n",
       "      <th>LDAPS_PPT4</th>\n",
       "      <td>-1.040127e-02</td>\n",
       "      <td>-3.241812e-02</td>\n",
       "      <td>-0.099607</td>\n",
       "      <td>-0.099607</td>\n",
       "      <td>0.168595</td>\n",
       "      <td>0.117853</td>\n",
       "      <td>-0.160273</td>\n",
       "      <td>-0.094655</td>\n",
       "      <td>0.144085</td>\n",
       "      <td>0.019979</td>\n",
       "      <td>...</td>\n",
       "      <td>0.139555</td>\n",
       "      <td>0.309076</td>\n",
       "      <td>1.000000</td>\n",
       "      <td>0.013210</td>\n",
       "      <td>0.044746</td>\n",
       "      <td>-0.003622</td>\n",
       "      <td>0.000117</td>\n",
       "      <td>0.034958</td>\n",
       "      <td>-0.178718</td>\n",
       "      <td>-0.103682</td>\n",
       "    </tr>\n",
       "    <tr>\n",
       "      <th>lat</th>\n",
       "      <td>-2.375015e-01</td>\n",
       "      <td>5.232936e-05</td>\n",
       "      <td>-0.052615</td>\n",
       "      <td>-0.052615</td>\n",
       "      <td>0.087099</td>\n",
       "      <td>0.195798</td>\n",
       "      <td>-0.042093</td>\n",
       "      <td>-0.096257</td>\n",
       "      <td>0.036657</td>\n",
       "      <td>0.133221</td>\n",
       "      <td>...</td>\n",
       "      <td>0.019564</td>\n",
       "      <td>0.035110</td>\n",
       "      <td>0.013210</td>\n",
       "      <td>1.000000</td>\n",
       "      <td>0.289029</td>\n",
       "      <td>0.033165</td>\n",
       "      <td>0.074763</td>\n",
       "      <td>0.038513</td>\n",
       "      <td>-0.053510</td>\n",
       "      <td>-0.083533</td>\n",
       "    </tr>\n",
       "    <tr>\n",
       "      <th>lon</th>\n",
       "      <td>-1.187044e-01</td>\n",
       "      <td>-6.148861e-05</td>\n",
       "      <td>0.009020</td>\n",
       "      <td>0.009020</td>\n",
       "      <td>-0.076237</td>\n",
       "      <td>0.025667</td>\n",
       "      <td>0.090666</td>\n",
       "      <td>-0.026701</td>\n",
       "      <td>-0.059466</td>\n",
       "      <td>0.025822</td>\n",
       "      <td>...</td>\n",
       "      <td>0.018600</td>\n",
       "      <td>0.021662</td>\n",
       "      <td>0.044746</td>\n",
       "      <td>0.289029</td>\n",
       "      <td>1.000000</td>\n",
       "      <td>0.007587</td>\n",
       "      <td>0.038070</td>\n",
       "      <td>0.002182</td>\n",
       "      <td>0.003052</td>\n",
       "      <td>-0.046603</td>\n",
       "    </tr>\n",
       "    <tr>\n",
       "      <th>DEM</th>\n",
       "      <td>-2.558297e-01</td>\n",
       "      <td>4.168818e-04</td>\n",
       "      <td>-0.187121</td>\n",
       "      <td>-0.187121</td>\n",
       "      <td>0.102115</td>\n",
       "      <td>0.177168</td>\n",
       "      <td>-0.178895</td>\n",
       "      <td>-0.195455</td>\n",
       "      <td>0.191053</td>\n",
       "      <td>0.055133</td>\n",
       "      <td>...</td>\n",
       "      <td>0.008357</td>\n",
       "      <td>0.017186</td>\n",
       "      <td>-0.003622</td>\n",
       "      <td>0.033165</td>\n",
       "      <td>0.007587</td>\n",
       "      <td>1.000000</td>\n",
       "      <td>0.783576</td>\n",
       "      <td>0.056224</td>\n",
       "      <td>-0.172538</td>\n",
       "      <td>-0.246906</td>\n",
       "    </tr>\n",
       "    <tr>\n",
       "      <th>Slope</th>\n",
       "      <td>-9.006090e-02</td>\n",
       "      <td>4.517736e-04</td>\n",
       "      <td>-0.105809</td>\n",
       "      <td>-0.105809</td>\n",
       "      <td>0.123744</td>\n",
       "      <td>0.219599</td>\n",
       "      <td>-0.162332</td>\n",
       "      <td>-0.185849</td>\n",
       "      <td>0.171629</td>\n",
       "      <td>0.086781</td>\n",
       "      <td>...</td>\n",
       "      <td>0.010214</td>\n",
       "      <td>0.025333</td>\n",
       "      <td>0.000117</td>\n",
       "      <td>0.074763</td>\n",
       "      <td>0.038070</td>\n",
       "      <td>0.783576</td>\n",
       "      <td>1.000000</td>\n",
       "      <td>0.028199</td>\n",
       "      <td>-0.102725</td>\n",
       "      <td>-0.146882</td>\n",
       "    </tr>\n",
       "    <tr>\n",
       "      <th>Solar radiation</th>\n",
       "      <td>-1.900100e-02</td>\n",
       "      <td>-4.333105e-01</td>\n",
       "      <td>-0.025439</td>\n",
       "      <td>-0.025439</td>\n",
       "      <td>0.244080</td>\n",
       "      <td>0.149261</td>\n",
       "      <td>0.047971</td>\n",
       "      <td>0.159975</td>\n",
       "      <td>0.121759</td>\n",
       "      <td>-0.047384</td>\n",
       "      <td>...</td>\n",
       "      <td>0.110182</td>\n",
       "      <td>-0.054071</td>\n",
       "      <td>0.034958</td>\n",
       "      <td>0.038513</td>\n",
       "      <td>0.002182</td>\n",
       "      <td>0.056224</td>\n",
       "      <td>0.028199</td>\n",
       "      <td>1.000000</td>\n",
       "      <td>0.008795</td>\n",
       "      <td>0.120212</td>\n",
       "    </tr>\n",
       "    <tr>\n",
       "      <th>Next_Tmax</th>\n",
       "      <td>1.079826e-01</td>\n",
       "      <td>-1.165354e-01</td>\n",
       "      <td>0.610348</td>\n",
       "      <td>0.610348</td>\n",
       "      <td>-0.437898</td>\n",
       "      <td>-0.283738</td>\n",
       "      <td>0.827189</td>\n",
       "      <td>0.586983</td>\n",
       "      <td>-0.342729</td>\n",
       "      <td>0.157616</td>\n",
       "      <td>...</td>\n",
       "      <td>-0.178383</td>\n",
       "      <td>-0.194143</td>\n",
       "      <td>-0.178718</td>\n",
       "      <td>-0.053510</td>\n",
       "      <td>0.003052</td>\n",
       "      <td>-0.172538</td>\n",
       "      <td>-0.102725</td>\n",
       "      <td>0.008795</td>\n",
       "      <td>1.000000</td>\n",
       "      <td>0.621427</td>\n",
       "    </tr>\n",
       "    <tr>\n",
       "      <th>Next_Tmin</th>\n",
       "      <td>1.282934e-01</td>\n",
       "      <td>-1.268905e-01</td>\n",
       "      <td>0.622741</td>\n",
       "      <td>0.622741</td>\n",
       "      <td>0.095019</td>\n",
       "      <td>-0.071997</td>\n",
       "      <td>0.586868</td>\n",
       "      <td>0.880176</td>\n",
       "      <td>-0.096576</td>\n",
       "      <td>-0.055440</td>\n",
       "      <td>...</td>\n",
       "      <td>-0.008058</td>\n",
       "      <td>-0.062622</td>\n",
       "      <td>-0.103682</td>\n",
       "      <td>-0.083533</td>\n",
       "      <td>-0.046603</td>\n",
       "      <td>-0.246906</td>\n",
       "      <td>-0.146882</td>\n",
       "      <td>0.120212</td>\n",
       "      <td>0.621427</td>\n",
       "      <td>1.000000</td>\n",
       "    </tr>\n",
       "  </tbody>\n",
       "</table>\n",
       "<p>25 rows × 25 columns</p>\n",
       "</div>"
      ],
      "text/plain": [
       "                       station          Date  Present_Tmax  Present_Tmin  \\\n",
       "station           1.000000e+00  1.417926e-17      0.112655      0.112655   \n",
       "Date              1.417926e-17  1.000000e+00     -0.136280     -0.136280   \n",
       "Present_Tmax      1.126554e-01 -1.362798e-01      1.000000      1.000000   \n",
       "Present_Tmin      1.126554e-01 -1.362798e-01      1.000000      1.000000   \n",
       "LDAPS_RHmin      -6.673316e-02 -6.933333e-02     -0.204571     -0.204571   \n",
       "LDAPS_RHmax      -1.669845e-01 -2.134839e-02     -0.301787     -0.301787   \n",
       "LDAPS_Tmax_lapse  6.910718e-02 -1.561839e-01      0.570129      0.570129   \n",
       "LDAPS_Tmin_lapse  1.047582e-01 -1.726650e-01      0.623496      0.623496   \n",
       "LDAPS_WS          5.277000e-03 -4.467571e-02     -0.121820     -0.121820   \n",
       "LDAPS_LH         -1.333566e-01 -1.713394e-02      0.135463      0.135463   \n",
       "LDAPS_CC1         6.918787e-03 -3.257185e-02     -0.311805     -0.311805   \n",
       "LDAPS_CC2         3.396039e-03 -1.525906e-02     -0.213791     -0.213791   \n",
       "LDAPS_CC3         6.940187e-04 -5.324149e-02     -0.144018     -0.144018   \n",
       "LDAPS_CC4         6.126001e-03 -3.861459e-02     -0.140729     -0.140729   \n",
       "LDAPS_PPT1       -2.709482e-03 -2.301557e-02     -0.109006     -0.109006   \n",
       "LDAPS_PPT2       -8.249548e-03 -7.766664e-03     -0.099449     -0.099449   \n",
       "LDAPS_PPT3       -1.246113e-02  6.322131e-03     -0.120367     -0.120367   \n",
       "LDAPS_PPT4       -1.040127e-02 -3.241812e-02     -0.099607     -0.099607   \n",
       "lat              -2.375015e-01  5.232936e-05     -0.052615     -0.052615   \n",
       "lon              -1.187044e-01 -6.148861e-05      0.009020      0.009020   \n",
       "DEM              -2.558297e-01  4.168818e-04     -0.187121     -0.187121   \n",
       "Slope            -9.006090e-02  4.517736e-04     -0.105809     -0.105809   \n",
       "Solar radiation  -1.900100e-02 -4.333105e-01     -0.025439     -0.025439   \n",
       "Next_Tmax         1.079826e-01 -1.165354e-01      0.610348      0.610348   \n",
       "Next_Tmin         1.282934e-01 -1.268905e-01      0.622741      0.622741   \n",
       "\n",
       "                  LDAPS_RHmin  LDAPS_RHmax  LDAPS_Tmax_lapse  \\\n",
       "station             -0.066733    -0.166984          0.069107   \n",
       "Date                -0.069333    -0.021348         -0.156184   \n",
       "Present_Tmax        -0.204571    -0.301787          0.570129   \n",
       "Present_Tmin        -0.204571    -0.301787          0.570129   \n",
       "LDAPS_RHmin          1.000000     0.579141         -0.564580   \n",
       "LDAPS_RHmax          0.579141     1.000000         -0.373404   \n",
       "LDAPS_Tmax_lapse    -0.564580    -0.373404          1.000000   \n",
       "LDAPS_Tmin_lapse     0.089476    -0.114143          0.654021   \n",
       "LDAPS_WS             0.294361     0.135333         -0.311996   \n",
       "LDAPS_LH            -0.070858     0.238579          0.048010   \n",
       "LDAPS_CC1            0.613818     0.436652         -0.438439   \n",
       "LDAPS_CC2            0.745443     0.391330         -0.523619   \n",
       "LDAPS_CC3            0.689679     0.226957         -0.541327   \n",
       "LDAPS_CC4            0.514075     0.130619         -0.429539   \n",
       "LDAPS_PPT1           0.262665     0.268449         -0.111065   \n",
       "LDAPS_PPT2           0.390967     0.229050         -0.242122   \n",
       "LDAPS_PPT3           0.240642     0.134607         -0.188115   \n",
       "LDAPS_PPT4           0.168595     0.117853         -0.160273   \n",
       "lat                  0.087099     0.195798         -0.042093   \n",
       "lon                 -0.076237     0.025667          0.090666   \n",
       "DEM                  0.102115     0.177168         -0.178895   \n",
       "Slope                0.123744     0.219599         -0.162332   \n",
       "Solar radiation      0.244080     0.149261          0.047971   \n",
       "Next_Tmax           -0.437898    -0.283738          0.827189   \n",
       "Next_Tmin            0.095019    -0.071997          0.586868   \n",
       "\n",
       "                  LDAPS_Tmin_lapse  LDAPS_WS  LDAPS_LH  ...  LDAPS_PPT2  \\\n",
       "station                   0.104758  0.005277 -0.133357  ...   -0.008250   \n",
       "Date                     -0.172665 -0.044676 -0.017134  ...   -0.007767   \n",
       "Present_Tmax              0.623496 -0.121820  0.135463  ...   -0.099449   \n",
       "Present_Tmin              0.623496 -0.121820  0.135463  ...   -0.099449   \n",
       "LDAPS_RHmin               0.089476  0.294361 -0.070858  ...    0.390967   \n",
       "LDAPS_RHmax              -0.114143  0.135333  0.238579  ...    0.229050   \n",
       "LDAPS_Tmax_lapse          0.654021 -0.311996  0.048010  ...   -0.242122   \n",
       "LDAPS_Tmin_lapse          1.000000 -0.130035 -0.134761  ...    0.000870   \n",
       "LDAPS_WS                 -0.130035  1.000000  0.006711  ...    0.191886   \n",
       "LDAPS_LH                 -0.134761  0.006711  1.000000  ...   -0.077545   \n",
       "LDAPS_CC1                 0.010901  0.289445 -0.147296  ...    0.389453   \n",
       "LDAPS_CC2                 0.047727  0.261090 -0.264280  ...    0.478472   \n",
       "LDAPS_CC3                -0.044018  0.242991 -0.245583  ...    0.337569   \n",
       "LDAPS_CC4                -0.080335  0.220533 -0.172766  ...    0.288195   \n",
       "LDAPS_PPT1                0.038056  0.152587 -0.012542  ...    0.383831   \n",
       "LDAPS_PPT2                0.000870  0.191886 -0.077545  ...    1.000000   \n",
       "LDAPS_PPT3               -0.088575  0.161684  0.016102  ...    0.221172   \n",
       "LDAPS_PPT4               -0.094655  0.144085  0.019979  ...    0.139555   \n",
       "lat                      -0.096257  0.036657  0.133221  ...    0.019564   \n",
       "lon                      -0.026701 -0.059466  0.025822  ...    0.018600   \n",
       "DEM                      -0.195455  0.191053  0.055133  ...    0.008357   \n",
       "Slope                    -0.185849  0.171629  0.086781  ...    0.010214   \n",
       "Solar radiation           0.159975  0.121759 -0.047384  ...    0.110182   \n",
       "Next_Tmax                 0.586983 -0.342729  0.157616  ...   -0.178383   \n",
       "Next_Tmin                 0.880176 -0.096576 -0.055440  ...   -0.008058   \n",
       "\n",
       "                  LDAPS_PPT3  LDAPS_PPT4       lat       lon       DEM  \\\n",
       "station            -0.012461   -0.010401 -0.237502 -0.118704 -0.255830   \n",
       "Date                0.006322   -0.032418  0.000052 -0.000061  0.000417   \n",
       "Present_Tmax       -0.120367   -0.099607 -0.052615  0.009020 -0.187121   \n",
       "Present_Tmin       -0.120367   -0.099607 -0.052615  0.009020 -0.187121   \n",
       "LDAPS_RHmin         0.240642    0.168595  0.087099 -0.076237  0.102115   \n",
       "LDAPS_RHmax         0.134607    0.117853  0.195798  0.025667  0.177168   \n",
       "LDAPS_Tmax_lapse   -0.188115   -0.160273 -0.042093  0.090666 -0.178895   \n",
       "LDAPS_Tmin_lapse   -0.088575   -0.094655 -0.096257 -0.026701 -0.195455   \n",
       "LDAPS_WS            0.161684    0.144085  0.036657 -0.059466  0.191053   \n",
       "LDAPS_LH            0.016102    0.019979  0.133221  0.025822  0.055133   \n",
       "LDAPS_CC1           0.168742    0.091722 -0.008131 -0.006843 -0.014090   \n",
       "LDAPS_CC2           0.240134    0.159548 -0.001497 -0.003581 -0.012823   \n",
       "LDAPS_CC3           0.339800    0.302357  0.004108  0.016041  0.000697   \n",
       "LDAPS_CC4           0.267494    0.376049 -0.009107 -0.002477 -0.007334   \n",
       "LDAPS_PPT1          0.033004    0.024626  0.000565 -0.001225  0.011290   \n",
       "LDAPS_PPT2          0.221172    0.139555  0.019564  0.018600  0.008357   \n",
       "LDAPS_PPT3          1.000000    0.309076  0.035110  0.021662  0.017186   \n",
       "LDAPS_PPT4          0.309076    1.000000  0.013210  0.044746 -0.003622   \n",
       "lat                 0.035110    0.013210  1.000000  0.289029  0.033165   \n",
       "lon                 0.021662    0.044746  0.289029  1.000000  0.007587   \n",
       "DEM                 0.017186   -0.003622  0.033165  0.007587  1.000000   \n",
       "Slope               0.025333    0.000117  0.074763  0.038070  0.783576   \n",
       "Solar radiation    -0.054071    0.034958  0.038513  0.002182  0.056224   \n",
       "Next_Tmax          -0.194143   -0.178718 -0.053510  0.003052 -0.172538   \n",
       "Next_Tmin          -0.062622   -0.103682 -0.083533 -0.046603 -0.246906   \n",
       "\n",
       "                     Slope  Solar radiation  Next_Tmax  Next_Tmin  \n",
       "station          -0.090061        -0.019001   0.107983   0.128293  \n",
       "Date              0.000452        -0.433311  -0.116535  -0.126890  \n",
       "Present_Tmax     -0.105809        -0.025439   0.610348   0.622741  \n",
       "Present_Tmin     -0.105809        -0.025439   0.610348   0.622741  \n",
       "LDAPS_RHmin       0.123744         0.244080  -0.437898   0.095019  \n",
       "LDAPS_RHmax       0.219599         0.149261  -0.283738  -0.071997  \n",
       "LDAPS_Tmax_lapse -0.162332         0.047971   0.827189   0.586868  \n",
       "LDAPS_Tmin_lapse -0.185849         0.159975   0.586983   0.880176  \n",
       "LDAPS_WS          0.171629         0.121759  -0.342729  -0.096576  \n",
       "LDAPS_LH          0.086781        -0.047384   0.157616  -0.055440  \n",
       "LDAPS_CC1        -0.020752         0.218309  -0.452541  -0.011028  \n",
       "LDAPS_CC2        -0.018073         0.170403  -0.490756   0.031250  \n",
       "LDAPS_CC3        -0.003338         0.119292  -0.514680  -0.054726  \n",
       "LDAPS_CC4        -0.014459         0.119983  -0.446319  -0.085093  \n",
       "LDAPS_PPT1        0.016310         0.088015  -0.118817   0.021323  \n",
       "LDAPS_PPT2        0.010214         0.110182  -0.178383  -0.008058  \n",
       "LDAPS_PPT3        0.025333        -0.054071  -0.194143  -0.062622  \n",
       "LDAPS_PPT4        0.000117         0.034958  -0.178718  -0.103682  \n",
       "lat               0.074763         0.038513  -0.053510  -0.083533  \n",
       "lon               0.038070         0.002182   0.003052  -0.046603  \n",
       "DEM               0.783576         0.056224  -0.172538  -0.246906  \n",
       "Slope             1.000000         0.028199  -0.102725  -0.146882  \n",
       "Solar radiation   0.028199         1.000000   0.008795   0.120212  \n",
       "Next_Tmax        -0.102725         0.008795   1.000000   0.621427  \n",
       "Next_Tmin        -0.146882         0.120212   0.621427   1.000000  \n",
       "\n",
       "[25 rows x 25 columns]"
      ]
     },
     "execution_count": 33,
     "metadata": {},
     "output_type": "execute_result"
    }
   ],
   "source": [
    "df.corr()"
   ]
  },
  {
   "cell_type": "code",
   "execution_count": 34,
   "metadata": {},
   "outputs": [
    {
     "data": {
      "text/plain": [
       "<AxesSubplot:>"
      ]
     },
     "execution_count": 34,
     "metadata": {},
     "output_type": "execute_result"
    },
    {
     "data": {
      "image/png": "[encoded data removed]",
      "text/plain": [
       "<Figure size 1584x504 with 2 Axes>"
      ]
     },
     "metadata": {
      "needs_background": "light"
     },
     "output_type": "display_data"
    }
   ],
   "source": [
    "plt.figure(figsize=(22,7))\n",
    "sns.heatmap(df.corr(),annot=True,linewidths=0.1,linecolor=\"black\",fmt=\"0.2f\")"
   ]
  },
  {
   "cell_type": "code",
   "execution_count": 35,
   "metadata": {},
   "outputs": [
    {
     "data": {
      "text/plain": [
       "station             0.000000\n",
       "Date                0.000008\n",
       "Present_Tmax       -0.264137\n",
       "Present_Tmin       -0.264137\n",
       "LDAPS_RHmin         0.300220\n",
       "LDAPS_RHmax        -0.855015\n",
       "LDAPS_Tmax_lapse   -0.227880\n",
       "LDAPS_Tmin_lapse   -0.581763\n",
       "LDAPS_WS            1.579236\n",
       "LDAPS_LH            0.673757\n",
       "LDAPS_CC1           0.459458\n",
       "LDAPS_CC2           0.472350\n",
       "LDAPS_CC3           0.640735\n",
       "LDAPS_CC4           0.666482\n",
       "LDAPS_PPT1          5.393821\n",
       "LDAPS_PPT2          5.775355\n",
       "LDAPS_PPT3          6.457129\n",
       "LDAPS_PPT4          6.825464\n",
       "lat                 0.087062\n",
       "lon                -0.285213\n",
       "DEM                 1.723257\n",
       "Slope               1.563020\n",
       "Solar radiation    -0.511210\n",
       "Next_Tmax          -0.340200\n",
       "Next_Tmin          -0.404447\n",
       "dtype: float64"
      ]
     },
     "execution_count": 35,
     "metadata": {},
     "output_type": "execute_result"
    }
   ],
   "source": [
    "df.skew()"
   ]
  },
  {
   "cell_type": "markdown",
   "metadata": {},
   "source": [
    "Keeping +/-0.5 as the range for skewness, here are the columns which does not lie within this range. no column has skewness, we will not treat that."
   ]
  },
  {
   "cell_type": "markdown",
   "metadata": {},
   "source": [
    "# Outliers Check:¶"
   ]
  },
  {
   "cell_type": "code",
   "execution_count": 36,
   "metadata": {},
   "outputs": [
    {
     "data": {
      "text/plain": [
       "<AxesSubplot:>"
      ]
     },
     "execution_count": 36,
     "metadata": {},
     "output_type": "execute_result"
    },
    {
     "data": {
      "image/png": "[encoded data removed]",
      "text/plain": [
       "<Figure size 432x288 with 1 Axes>"
      ]
     },
     "metadata": {
      "needs_background": "light"
     },
     "output_type": "display_data"
    }
   ],
   "source": [
    "df['Date'].plot.box()"
   ]
  },
  {
   "cell_type": "code",
   "execution_count": 37,
   "metadata": {},
   "outputs": [
    {
     "data": {
      "text/plain": [
       "<AxesSubplot:>"
      ]
     },
     "execution_count": 37,
     "metadata": {},
     "output_type": "execute_result"
    },
    {
     "data": {
      "image/png": "[encoded data removed]",
      "text/plain": [
       "<Figure size 432x288 with 1 Axes>"
      ]
     },
     "metadata": {
      "needs_background": "light"
     },
     "output_type": "display_data"
    }
   ],
   "source": [
    "df['Next_Tmin'].plot.box()"
   ]
  },
  {
   "cell_type": "code",
   "execution_count": 38,
   "metadata": {},
   "outputs": [
    {
     "data": {
      "text/plain": [
       "<AxesSubplot:>"
      ]
     },
     "execution_count": 38,
     "metadata": {},
     "output_type": "execute_result"
    },
    {
     "data": {
      "image/png": "[encoded data removed]",
      "text/plain": [
       "<Figure size 432x288 with 1 Axes>"
      ]
     },
     "metadata": {
      "needs_background": "light"
     },
     "output_type": "display_data"
    }
   ],
   "source": [
    "df['Next_Tmax'].plot.box()"
   ]
  },
  {
   "cell_type": "code",
   "execution_count": 39,
   "metadata": {},
   "outputs": [
    {
     "data": {
      "text/plain": [
       "array([29.1       , 30.5       , 31.1       , 31.7       , 31.2       ,\n",
       "       31.5       , 30.9       , 31.3       , 32.6       , 31.4       ,\n",
       "       30.8       , 33.1       , 31.8       , 30.6       , 32.        ,\n",
       "       24.8       , 27.3       , 28.1       , 27.9       , 28.2       ,\n",
       "       28.9       , 27.6       , 27.1       , 27.5       , 26.8       ,\n",
       "       28.7       , 27.8       , 29.2       , 28.8       , 30.        ,\n",
       "       30.1       , 29.4       , 31.6       , 30.2       , 30.4       ,\n",
       "       32.5       , 31.        , 25.2       , 28.4       , 28.3       ,\n",
       "       27.4       , 26.2       , 28.        , 26.7       , 28.6       ,\n",
       "       27.7       , 28.5       , 30.7       , 29.6       , 29.9       ,\n",
       "       29.3       , 32.2       , 33.6       , 30.3       , 32.3       ,\n",
       "       29.8       , 29.7       , 29.5       , 29.        , 23.4       ,\n",
       "       26.4       , 26.6       , 26.1       , 25.4       , 27.2       ,\n",
       "       27.        , 26.3       , 25.5       , 25.6       , 25.9       ,\n",
       "       23.        , 26.5       , 26.        , 25.7       , 22.4       ,\n",
       "       25.8       , 25.1       , 24.9       , 24.3       , 24.5       ,\n",
       "       25.3       , 21.8       , 24.7       , 25.        , 24.6       ,\n",
       "       23.6       , 24.1       , 23.2       , 23.7       , 24.2       ,\n",
       "       23.8       , 23.9       , 31.9       , 23.1       , 33.        ,\n",
       "       32.7       , 26.9       , 32.1       , 33.3       , 32.4       ,\n",
       "       33.4       , 33.5       , 34.8       , 34.        , 34.3       ,\n",
       "       34.5       , 30.27488673, 32.8       , 33.7       , 33.2       ,\n",
       "       32.9       , 34.1       , 34.9       , 35.3       , 34.6       ,\n",
       "       35.        , 33.9       , 34.7       , 36.6       , 34.4       ,\n",
       "       35.8       , 35.2       , 33.8       , 35.6       , 35.1       ,\n",
       "       34.2       , 36.        , 35.5       , 35.4       , 21.6       ,\n",
       "       23.5       , 24.4       , 24.        , 35.9       , 36.1       ,\n",
       "       22.5       , 22.8       , 36.2       , 21.1       , 23.3       ,\n",
       "       22.        , 22.7       , 20.9       , 22.2       , 22.1       ,\n",
       "       37.        , 36.9       , 22.9       , 35.7       , 37.1       ,\n",
       "       22.3       , 22.6       , 37.8       , 20.7       , 21.5       ,\n",
       "       36.5       , 38.3       , 36.8       , 36.4       , 36.7       ,\n",
       "       37.4       , 38.7       , 37.5       , 37.2       , 37.6       ,\n",
       "       36.3       , 38.9       , 37.9       , 37.3       , 20.8       ,\n",
       "       17.4       , 20.1       , 20.3       , 20.6       , 21.2       ,\n",
       "       21.        , 18.6       , 20.5       , 20.4       , 19.7       ,\n",
       "       18.9       , 19.5       , 21.4       , 21.9       ])"
      ]
     },
     "execution_count": 39,
     "metadata": {},
     "output_type": "execute_result"
    }
   ],
   "source": [
    "df['Next_Tmax'].unique()"
   ]
  },
  {
   "cell_type": "code",
   "execution_count": 40,
   "metadata": {},
   "outputs": [
    {
     "data": {
      "text/plain": [
       "array([21.2       , 22.5       , 23.9       , 24.3       , 24.        ,\n",
       "       23.4       , 22.9       , 21.6       , 21.        , 24.5       ,\n",
       "       22.2       , 22.8       , 20.9       , 21.1       , 23.        ,\n",
       "       23.7       , 23.2       , 24.2       , 18.7       , 21.5       ,\n",
       "       21.8       , 22.3       , 21.3       , 20.7       , 19.8       ,\n",
       "       20.8       , 21.7       , 22.1       , 20.5       , 21.9       ,\n",
       "       17.8       , 20.1       , 20.3       , 19.4       , 19.1       ,\n",
       "       18.9       , 20.        , 19.7       , 19.5       , 20.6       ,\n",
       "       23.1       , 23.3       , 22.7       , 22.6       , 22.4       ,\n",
       "       22.        , 23.5       , 23.8       , 21.4       , 19.3       ,\n",
       "       20.4       , 19.9       , 20.2       , 24.1       , 23.6       ,\n",
       "       24.4       , 24.8       , 25.1       , 24.6       , 24.7       ,\n",
       "       25.        , 24.9       , 25.3       , 26.        , 26.1       ,\n",
       "       25.5       , 25.8       , 25.4       , 25.6       , 25.7       ,\n",
       "       25.2       , 25.9       , 26.3       , 26.2       , 26.4       ,\n",
       "       26.5       , 26.9       , 22.93222006, 26.8       , 26.6       ,\n",
       "       27.        , 27.1       , 26.7       , 27.5       , 27.2       ,\n",
       "       27.4       , 27.7       , 28.3       , 27.6       , 28.        ,\n",
       "       27.3       , 19.6       , 19.2       , 18.6       , 18.5       ,\n",
       "       18.2       , 18.4       , 18.8       , 17.9       , 17.5       ,\n",
       "       16.5       , 18.        , 19.        , 16.7       , 18.1       ,\n",
       "       18.3       , 28.1       , 28.4       , 29.4       , 29.1       ,\n",
       "       28.5       , 28.8       , 29.8       , 29.5       , 28.6       ,\n",
       "       17.1       , 16.8       , 17.6       , 17.4       , 15.8       ,\n",
       "       16.9       , 17.7       , 17.2       , 15.5       , 16.6       ,\n",
       "       16.4       , 16.3       , 17.        , 14.7       , 15.9       ,\n",
       "       16.        , 17.3       , 15.4       , 15.3       , 13.8       ,\n",
       "       15.6       , 15.1       , 27.9       , 28.7       , 27.8       ,\n",
       "       28.2       , 13.3       , 14.1       , 15.        , 11.3       ,\n",
       "       13.4       , 15.7       , 14.9       , 16.2       , 14.4       ,\n",
       "       16.1       , 29.        , 14.3       , 13.6       , 14.6       ,\n",
       "       13.9       , 15.2       , 12.9       ])"
      ]
     },
     "execution_count": 40,
     "metadata": {},
     "output_type": "execute_result"
    }
   ],
   "source": [
    "df['Next_Tmin'].unique()"
   ]
  },
  {
   "cell_type": "code",
   "execution_count": 41,
   "metadata": {},
   "outputs": [
    {
     "data": {
      "text/plain": [
       "(7752, 25)"
      ]
     },
     "execution_count": 41,
     "metadata": {},
     "output_type": "execute_result"
    }
   ],
   "source": [
    "df.shape"
   ]
  },
  {
   "cell_type": "code",
   "execution_count": 42,
   "metadata": {},
   "outputs": [
    {
     "data": {
      "text/plain": [
       "(array([  25,   25,   26, ..., 7751, 7751, 7751], dtype=int64),\n",
       " array([ 8, 15, 15, ..., 15, 16, 17], dtype=int64))"
      ]
     },
     "execution_count": 42,
     "metadata": {},
     "output_type": "execute_result"
    }
   ],
   "source": [
    "import scipy\n",
    "from scipy.stats import zscore\n",
    "z=np.abs(zscore(df))\n",
    "threshold=3\n",
    "np.where(z>3)"
   ]
  },
  {
   "cell_type": "code",
   "execution_count": 43,
   "metadata": {},
   "outputs": [
    {
     "data": {
      "text/html": [
       "<div>\n",
       "<style scoped>\n",
       "    .dataframe tbody tr th:only-of-type {\n",
       "        vertical-align: middle;\n",
       "    }\n",
       "\n",
       "    .dataframe tbody tr th {\n",
       "        vertical-align: top;\n",
       "    }\n",
       "\n",
       "    .dataframe thead th {\n",
       "        text-align: right;\n",
       "    }\n",
       "</style>\n",
       "<table border=\"1\" class=\"dataframe\">\n",
       "  <thead>\n",
       "    <tr style=\"text-align: right;\">\n",
       "      <th></th>\n",
       "      <th>station</th>\n",
       "      <th>Date</th>\n",
       "      <th>Present_Tmax</th>\n",
       "      <th>Present_Tmin</th>\n",
       "      <th>LDAPS_RHmin</th>\n",
       "      <th>LDAPS_RHmax</th>\n",
       "      <th>LDAPS_Tmax_lapse</th>\n",
       "      <th>LDAPS_Tmin_lapse</th>\n",
       "      <th>LDAPS_WS</th>\n",
       "      <th>LDAPS_LH</th>\n",
       "      <th>...</th>\n",
       "      <th>LDAPS_PPT2</th>\n",
       "      <th>LDAPS_PPT3</th>\n",
       "      <th>LDAPS_PPT4</th>\n",
       "      <th>lat</th>\n",
       "      <th>lon</th>\n",
       "      <th>DEM</th>\n",
       "      <th>Slope</th>\n",
       "      <th>Solar radiation</th>\n",
       "      <th>Next_Tmax</th>\n",
       "      <th>Next_Tmin</th>\n",
       "    </tr>\n",
       "  </thead>\n",
       "  <tbody>\n",
       "    <tr>\n",
       "      <th>0</th>\n",
       "      <td>1.0</td>\n",
       "      <td>290</td>\n",
       "      <td>28.7</td>\n",
       "      <td>28.7</td>\n",
       "      <td>58.255688</td>\n",
       "      <td>91.116364</td>\n",
       "      <td>28.074101</td>\n",
       "      <td>23.006936</td>\n",
       "      <td>6.818887</td>\n",
       "      <td>69.451805</td>\n",
       "      <td>...</td>\n",
       "      <td>0.0</td>\n",
       "      <td>0.0</td>\n",
       "      <td>0.0</td>\n",
       "      <td>37.6046</td>\n",
       "      <td>126.991</td>\n",
       "      <td>212.3350</td>\n",
       "      <td>2.7850</td>\n",
       "      <td>5992.895996</td>\n",
       "      <td>29.1</td>\n",
       "      <td>21.2</td>\n",
       "    </tr>\n",
       "    <tr>\n",
       "      <th>1</th>\n",
       "      <td>2.0</td>\n",
       "      <td>290</td>\n",
       "      <td>31.9</td>\n",
       "      <td>31.9</td>\n",
       "      <td>52.263397</td>\n",
       "      <td>90.604721</td>\n",
       "      <td>29.850689</td>\n",
       "      <td>24.035009</td>\n",
       "      <td>5.691890</td>\n",
       "      <td>51.937448</td>\n",
       "      <td>...</td>\n",
       "      <td>0.0</td>\n",
       "      <td>0.0</td>\n",
       "      <td>0.0</td>\n",
       "      <td>37.6046</td>\n",
       "      <td>127.032</td>\n",
       "      <td>44.7624</td>\n",
       "      <td>0.5141</td>\n",
       "      <td>5869.312500</td>\n",
       "      <td>30.5</td>\n",
       "      <td>22.5</td>\n",
       "    </tr>\n",
       "    <tr>\n",
       "      <th>2</th>\n",
       "      <td>3.0</td>\n",
       "      <td>290</td>\n",
       "      <td>31.6</td>\n",
       "      <td>31.6</td>\n",
       "      <td>48.690479</td>\n",
       "      <td>83.973587</td>\n",
       "      <td>30.091292</td>\n",
       "      <td>24.565633</td>\n",
       "      <td>6.138224</td>\n",
       "      <td>20.573050</td>\n",
       "      <td>...</td>\n",
       "      <td>0.0</td>\n",
       "      <td>0.0</td>\n",
       "      <td>0.0</td>\n",
       "      <td>37.5776</td>\n",
       "      <td>127.058</td>\n",
       "      <td>33.3068</td>\n",
       "      <td>0.2661</td>\n",
       "      <td>5863.555664</td>\n",
       "      <td>31.1</td>\n",
       "      <td>23.9</td>\n",
       "    </tr>\n",
       "    <tr>\n",
       "      <th>3</th>\n",
       "      <td>4.0</td>\n",
       "      <td>290</td>\n",
       "      <td>32.0</td>\n",
       "      <td>32.0</td>\n",
       "      <td>58.239788</td>\n",
       "      <td>96.483688</td>\n",
       "      <td>29.704629</td>\n",
       "      <td>23.326177</td>\n",
       "      <td>5.650050</td>\n",
       "      <td>65.727144</td>\n",
       "      <td>...</td>\n",
       "      <td>0.0</td>\n",
       "      <td>0.0</td>\n",
       "      <td>0.0</td>\n",
       "      <td>37.6450</td>\n",
       "      <td>127.022</td>\n",
       "      <td>45.7160</td>\n",
       "      <td>2.5348</td>\n",
       "      <td>5856.964844</td>\n",
       "      <td>31.7</td>\n",
       "      <td>24.3</td>\n",
       "    </tr>\n",
       "    <tr>\n",
       "      <th>4</th>\n",
       "      <td>5.0</td>\n",
       "      <td>290</td>\n",
       "      <td>31.4</td>\n",
       "      <td>31.4</td>\n",
       "      <td>56.174095</td>\n",
       "      <td>90.155128</td>\n",
       "      <td>29.113934</td>\n",
       "      <td>23.486480</td>\n",
       "      <td>5.735004</td>\n",
       "      <td>107.965535</td>\n",
       "      <td>...</td>\n",
       "      <td>0.0</td>\n",
       "      <td>0.0</td>\n",
       "      <td>0.0</td>\n",
       "      <td>37.5507</td>\n",
       "      <td>127.135</td>\n",
       "      <td>35.0380</td>\n",
       "      <td>0.5055</td>\n",
       "      <td>5859.552246</td>\n",
       "      <td>31.2</td>\n",
       "      <td>22.5</td>\n",
       "    </tr>\n",
       "    <tr>\n",
       "      <th>...</th>\n",
       "      <td>...</td>\n",
       "      <td>...</td>\n",
       "      <td>...</td>\n",
       "      <td>...</td>\n",
       "      <td>...</td>\n",
       "      <td>...</td>\n",
       "      <td>...</td>\n",
       "      <td>...</td>\n",
       "      <td>...</td>\n",
       "      <td>...</td>\n",
       "      <td>...</td>\n",
       "      <td>...</td>\n",
       "      <td>...</td>\n",
       "      <td>...</td>\n",
       "      <td>...</td>\n",
       "      <td>...</td>\n",
       "      <td>...</td>\n",
       "      <td>...</td>\n",
       "      <td>...</td>\n",
       "      <td>...</td>\n",
       "      <td>...</td>\n",
       "    </tr>\n",
       "    <tr>\n",
       "      <th>7745</th>\n",
       "      <td>21.0</td>\n",
       "      <td>304</td>\n",
       "      <td>23.1</td>\n",
       "      <td>23.1</td>\n",
       "      <td>24.688997</td>\n",
       "      <td>78.261383</td>\n",
       "      <td>27.812697</td>\n",
       "      <td>18.303014</td>\n",
       "      <td>6.603253</td>\n",
       "      <td>9.614074</td>\n",
       "      <td>...</td>\n",
       "      <td>0.0</td>\n",
       "      <td>0.0</td>\n",
       "      <td>0.0</td>\n",
       "      <td>37.5507</td>\n",
       "      <td>127.040</td>\n",
       "      <td>26.2980</td>\n",
       "      <td>0.5721</td>\n",
       "      <td>4456.024414</td>\n",
       "      <td>27.6</td>\n",
       "      <td>17.7</td>\n",
       "    </tr>\n",
       "    <tr>\n",
       "      <th>7746</th>\n",
       "      <td>22.0</td>\n",
       "      <td>304</td>\n",
       "      <td>22.5</td>\n",
       "      <td>22.5</td>\n",
       "      <td>30.094858</td>\n",
       "      <td>83.690018</td>\n",
       "      <td>26.704905</td>\n",
       "      <td>17.814038</td>\n",
       "      <td>5.768083</td>\n",
       "      <td>82.146707</td>\n",
       "      <td>...</td>\n",
       "      <td>0.0</td>\n",
       "      <td>0.0</td>\n",
       "      <td>0.0</td>\n",
       "      <td>37.5102</td>\n",
       "      <td>127.086</td>\n",
       "      <td>21.9668</td>\n",
       "      <td>0.1332</td>\n",
       "      <td>4441.803711</td>\n",
       "      <td>28.0</td>\n",
       "      <td>17.1</td>\n",
       "    </tr>\n",
       "    <tr>\n",
       "      <th>7747</th>\n",
       "      <td>23.0</td>\n",
       "      <td>304</td>\n",
       "      <td>23.3</td>\n",
       "      <td>23.3</td>\n",
       "      <td>26.741310</td>\n",
       "      <td>78.869858</td>\n",
       "      <td>26.352081</td>\n",
       "      <td>18.775678</td>\n",
       "      <td>6.148918</td>\n",
       "      <td>72.058294</td>\n",
       "      <td>...</td>\n",
       "      <td>0.0</td>\n",
       "      <td>0.0</td>\n",
       "      <td>0.0</td>\n",
       "      <td>37.5372</td>\n",
       "      <td>126.891</td>\n",
       "      <td>15.5876</td>\n",
       "      <td>0.1554</td>\n",
       "      <td>4443.313965</td>\n",
       "      <td>28.3</td>\n",
       "      <td>18.1</td>\n",
       "    </tr>\n",
       "    <tr>\n",
       "      <th>7748</th>\n",
       "      <td>24.0</td>\n",
       "      <td>304</td>\n",
       "      <td>23.3</td>\n",
       "      <td>23.3</td>\n",
       "      <td>24.040634</td>\n",
       "      <td>77.294975</td>\n",
       "      <td>27.010193</td>\n",
       "      <td>18.733519</td>\n",
       "      <td>6.542819</td>\n",
       "      <td>47.241457</td>\n",
       "      <td>...</td>\n",
       "      <td>0.0</td>\n",
       "      <td>0.0</td>\n",
       "      <td>0.0</td>\n",
       "      <td>37.5237</td>\n",
       "      <td>126.909</td>\n",
       "      <td>17.2956</td>\n",
       "      <td>0.2223</td>\n",
       "      <td>4438.373535</td>\n",
       "      <td>28.6</td>\n",
       "      <td>18.8</td>\n",
       "    </tr>\n",
       "    <tr>\n",
       "      <th>7749</th>\n",
       "      <td>25.0</td>\n",
       "      <td>304</td>\n",
       "      <td>23.2</td>\n",
       "      <td>23.2</td>\n",
       "      <td>22.933014</td>\n",
       "      <td>77.243744</td>\n",
       "      <td>27.939516</td>\n",
       "      <td>18.522965</td>\n",
       "      <td>7.289264</td>\n",
       "      <td>9.090034</td>\n",
       "      <td>...</td>\n",
       "      <td>0.0</td>\n",
       "      <td>0.0</td>\n",
       "      <td>0.0</td>\n",
       "      <td>37.5237</td>\n",
       "      <td>126.970</td>\n",
       "      <td>19.5844</td>\n",
       "      <td>0.2713</td>\n",
       "      <td>4451.345215</td>\n",
       "      <td>27.8</td>\n",
       "      <td>17.4</td>\n",
       "    </tr>\n",
       "  </tbody>\n",
       "</table>\n",
       "<p>6911 rows × 25 columns</p>\n",
       "</div>"
      ],
      "text/plain": [
       "      station  Date  Present_Tmax  Present_Tmin  LDAPS_RHmin  LDAPS_RHmax  \\\n",
       "0         1.0   290          28.7          28.7    58.255688    91.116364   \n",
       "1         2.0   290          31.9          31.9    52.263397    90.604721   \n",
       "2         3.0   290          31.6          31.6    48.690479    83.973587   \n",
       "3         4.0   290          32.0          32.0    58.239788    96.483688   \n",
       "4         5.0   290          31.4          31.4    56.174095    90.155128   \n",
       "...       ...   ...           ...           ...          ...          ...   \n",
       "7745     21.0   304          23.1          23.1    24.688997    78.261383   \n",
       "7746     22.0   304          22.5          22.5    30.094858    83.690018   \n",
       "7747     23.0   304          23.3          23.3    26.741310    78.869858   \n",
       "7748     24.0   304          23.3          23.3    24.040634    77.294975   \n",
       "7749     25.0   304          23.2          23.2    22.933014    77.243744   \n",
       "\n",
       "      LDAPS_Tmax_lapse  LDAPS_Tmin_lapse  LDAPS_WS    LDAPS_LH  ...  \\\n",
       "0            28.074101         23.006936  6.818887   69.451805  ...   \n",
       "1            29.850689         24.035009  5.691890   51.937448  ...   \n",
       "2            30.091292         24.565633  6.138224   20.573050  ...   \n",
       "3            29.704629         23.326177  5.650050   65.727144  ...   \n",
       "4            29.113934         23.486480  5.735004  107.965535  ...   \n",
       "...                ...               ...       ...         ...  ...   \n",
       "7745         27.812697         18.303014  6.603253    9.614074  ...   \n",
       "7746         26.704905         17.814038  5.768083   82.146707  ...   \n",
       "7747         26.352081         18.775678  6.148918   72.058294  ...   \n",
       "7748         27.010193         18.733519  6.542819   47.241457  ...   \n",
       "7749         27.939516         18.522965  7.289264    9.090034  ...   \n",
       "\n",
       "      LDAPS_PPT2  LDAPS_PPT3  LDAPS_PPT4      lat      lon       DEM   Slope  \\\n",
       "0            0.0         0.0         0.0  37.6046  126.991  212.3350  2.7850   \n",
       "1            0.0         0.0         0.0  37.6046  127.032   44.7624  0.5141   \n",
       "2            0.0         0.0         0.0  37.5776  127.058   33.3068  0.2661   \n",
       "3            0.0         0.0         0.0  37.6450  127.022   45.7160  2.5348   \n",
       "4            0.0         0.0         0.0  37.5507  127.135   35.0380  0.5055   \n",
       "...          ...         ...         ...      ...      ...       ...     ...   \n",
       "7745         0.0         0.0         0.0  37.5507  127.040   26.2980  0.5721   \n",
       "7746         0.0         0.0         0.0  37.5102  127.086   21.9668  0.1332   \n",
       "7747         0.0         0.0         0.0  37.5372  126.891   15.5876  0.1554   \n",
       "7748         0.0         0.0         0.0  37.5237  126.909   17.2956  0.2223   \n",
       "7749         0.0         0.0         0.0  37.5237  126.970   19.5844  0.2713   \n",
       "\n",
       "      Solar radiation  Next_Tmax  Next_Tmin  \n",
       "0         5992.895996       29.1       21.2  \n",
       "1         5869.312500       30.5       22.5  \n",
       "2         5863.555664       31.1       23.9  \n",
       "3         5856.964844       31.7       24.3  \n",
       "4         5859.552246       31.2       22.5  \n",
       "...               ...        ...        ...  \n",
       "7745      4456.024414       27.6       17.7  \n",
       "7746      4441.803711       28.0       17.1  \n",
       "7747      4443.313965       28.3       18.1  \n",
       "7748      4438.373535       28.6       18.8  \n",
       "7749      4451.345215       27.8       17.4  \n",
       "\n",
       "[6911 rows x 25 columns]"
      ]
     },
     "execution_count": 43,
     "metadata": {},
     "output_type": "execute_result"
    }
   ],
   "source": [
    "df_new_z=df[(z<3).all(axis=1)]\n",
    "df_new_z"
   ]
  },
  {
   "cell_type": "code",
   "execution_count": 44,
   "metadata": {},
   "outputs": [
    {
     "data": {
      "text/plain": [
       "(6911, 25)"
      ]
     },
     "execution_count": 44,
     "metadata": {},
     "output_type": "execute_result"
    }
   ],
   "source": [
    "df_new_z.shape"
   ]
  },
  {
   "cell_type": "markdown",
   "metadata": {},
   "source": [
    "# Percentage loss of data:¶"
   ]
  },
  {
   "cell_type": "code",
   "execution_count": 45,
   "metadata": {},
   "outputs": [
    {
     "data": {
      "text/plain": [
       "10.848813209494324"
      ]
     },
     "execution_count": 45,
     "metadata": {},
     "output_type": "execute_result"
    }
   ],
   "source": [
    "Data_loss=((7752-6911)/7752)*100\n",
    "Data_loss"
   ]
  },
  {
   "cell_type": "markdown",
   "metadata": {},
   "source": [
    "# Taking Target Next_Tmax:"
   ]
  },
  {
   "cell_type": "code",
   "execution_count": 46,
   "metadata": {},
   "outputs": [],
   "source": [
    "features=df.drop(\"Next_Tmax\",axis=1)\n",
    "target=df[\"Next_Tmax\"]"
   ]
  },
  {
   "cell_type": "markdown",
   "metadata": {},
   "source": [
    "# Scaling the data using Min-Max Scaler:"
   ]
  },
  {
   "cell_type": "code",
   "execution_count": 47,
   "metadata": {},
   "outputs": [],
   "source": [
    "from sklearn.preprocessing import MinMaxScaler\n",
    "mms=MinMaxScaler()\n",
    "from sklearn.linear_model import LinearRegression\n",
    "lr=LinearRegression()\n",
    "from sklearn.metrics import r2_score\n",
    "from sklearn.model_selection import train_test_split\n",
    "import warnings\n",
    "warnings.filterwarnings('ignore')"
   ]
  },
  {
   "cell_type": "markdown",
   "metadata": {},
   "source": [
    "# Find the beset random_State use here (currently we are moving ahead with random_state 12:¶\n"
   ]
  },
  {
   "cell_type": "code",
   "execution_count": 48,
   "metadata": {},
   "outputs": [
    {
     "name": "stdout",
     "output_type": "stream",
     "text": [
      "0.8089607024460779\n"
     ]
    }
   ],
   "source": [
    "features_train,features_test,target_train,target_test=train_test_split(features,target,test_size=0.2,random_state=12)\n",
    "lr.fit(features_train,target_train)\n",
    "pred_test=lr.predict(features_test)\n",
    "print(r2_score(target_test,pred_test))"
   ]
  },
  {
   "cell_type": "markdown",
   "metadata": {},
   "source": [
    "# Regularization:"
   ]
  },
  {
   "cell_type": "code",
   "execution_count": 49,
   "metadata": {},
   "outputs": [],
   "source": [
    "from sklearn.model_selection import GridSearchCV\n",
    "from sklearn.model_selection import cross_val_score\n",
    "import warnings\n",
    "warnings.filterwarnings('ignore')\n",
    "from sklearn.linear_model import Lasso,Ridge"
   ]
  },
  {
   "cell_type": "code",
   "execution_count": 50,
   "metadata": {},
   "outputs": [
    {
     "name": "stdout",
     "output_type": "stream",
     "text": [
      "{'alpha': 0.001, 'random_state': 0}\n"
     ]
    }
   ],
   "source": [
    "parameters = {'alpha':[.0001, .001, .01, .1, 1, 10],'random_state':list(range(0,10))}\n",
    "ls = Lasso()\n",
    "clf = GridSearchCV(ls,parameters)\n",
    "clf.fit(features_train,target_train)\n",
    "\n",
    "print(clf.best_params_)"
   ]
  },
  {
   "cell_type": "code",
   "execution_count": 51,
   "metadata": {},
   "outputs": [
    {
     "data": {
      "text/plain": [
       "0.7320828289102306"
      ]
     },
     "execution_count": 51,
     "metadata": {},
     "output_type": "execute_result"
    }
   ],
   "source": [
    "ls = Lasso(alpha=1,random_state=0)\n",
    "ls.fit(features_train,target_train)\n",
    "ls.score(features_train,target_train)\n",
    "pred_ls = ls.predict(features_test)\n",
    "\n",
    "lss = r2_score(target_test,pred_ls)\n",
    "lss"
   ]
  },
  {
   "cell_type": "code",
   "execution_count": 52,
   "metadata": {},
   "outputs": [
    {
     "data": {
      "text/plain": [
       "0.6672395893897116"
      ]
     },
     "execution_count": 52,
     "metadata": {},
     "output_type": "execute_result"
    }
   ],
   "source": [
    "cv_score=cross_val_score(ls,features,target,cv=5)\n",
    "cv_mean=cv_score.mean()\n",
    "cv_mean"
   ]
  },
  {
   "cell_type": "code",
   "execution_count": 53,
   "metadata": {},
   "outputs": [
    {
     "name": "stdout",
     "output_type": "stream",
     "text": [
      "{'alpha': 1, 'random_state': 0}\n"
     ]
    }
   ],
   "source": [
    "parameters = {'alpha':[.0001, .001, .01, .1, 1, 10],'random_state':list(range(0,10))}\n",
    "rd = Ridge()\n",
    "clf = GridSearchCV(rd,parameters)\n",
    "clf.fit(features_train,target_train)\n",
    "\n",
    "print(clf.best_params_)"
   ]
  },
  {
   "cell_type": "code",
   "execution_count": 54,
   "metadata": {},
   "outputs": [
    {
     "data": {
      "text/plain": [
       "0.8089386811044414"
      ]
     },
     "execution_count": 54,
     "metadata": {},
     "output_type": "execute_result"
    }
   ],
   "source": [
    "rd = Ridge(alpha=1,random_state=0)\n",
    "rd.fit(features_train,target_train)\n",
    "rd.score(features_train,target_train)\n",
    "pred_rd = rd.predict(features_test)\n",
    "\n",
    "rds = r2_score(target_test,pred_rd)\n",
    "rds"
   ]
  },
  {
   "cell_type": "code",
   "execution_count": 55,
   "metadata": {},
   "outputs": [
    {
     "data": {
      "text/plain": [
       "0.7264066025394923"
      ]
     },
     "execution_count": 55,
     "metadata": {},
     "output_type": "execute_result"
    }
   ],
   "source": [
    "cv_score=cross_val_score(rd,features,target,cv=5)\n",
    "cv_mean=cv_score.mean()\n",
    "cv_mean"
   ]
  },
  {
   "cell_type": "markdown",
   "metadata": {},
   "source": [
    "# Taking Target Next_Tmin"
   ]
  },
  {
   "cell_type": "code",
   "execution_count": 56,
   "metadata": {},
   "outputs": [],
   "source": [
    "features1=df.drop(\"Next_Tmin\",axis=1)\n",
    "target1=df[\"Next_Tmin\"]"
   ]
  },
  {
   "cell_type": "markdown",
   "metadata": {},
   "source": [
    "# Scaling the data using Min-Max Scaler:"
   ]
  },
  {
   "cell_type": "code",
   "execution_count": 57,
   "metadata": {},
   "outputs": [],
   "source": [
    "from sklearn.preprocessing import MinMaxScaler\n",
    "mms=MinMaxScaler()\n",
    "from sklearn.linear_model import LinearRegression\n",
    "lr=LinearRegression()\n",
    "from sklearn.metrics import r2_score\n",
    "from sklearn.model_selection import train_test_split\n",
    "import warnings\n",
    "warnings.filterwarnings('ignore')"
   ]
  },
  {
   "cell_type": "markdown",
   "metadata": {},
   "source": [
    "# Find the beset random_State use here (currently we are moving ahead with random_state 12:¶¶"
   ]
  },
  {
   "cell_type": "code",
   "execution_count": 58,
   "metadata": {},
   "outputs": [
    {
     "name": "stdout",
     "output_type": "stream",
     "text": [
      "0.8416015786735398\n"
     ]
    }
   ],
   "source": [
    "features1_train,features1_test,target1_train,target1_test=train_test_split(features1,target1,test_size=0.2,random_state=12)\n",
    "lr.fit(features1_train,target1_train)\n",
    "pred1_test=lr.predict(features1_test)\n",
    "print(r2_score(target1_test,pred1_test))"
   ]
  },
  {
   "cell_type": "markdown",
   "metadata": {},
   "source": [
    "# Regularization:¶"
   ]
  },
  {
   "cell_type": "code",
   "execution_count": 59,
   "metadata": {},
   "outputs": [],
   "source": [
    "from sklearn.model_selection import GridSearchCV\n",
    "from sklearn.model_selection import cross_val_score\n",
    "import warnings\n",
    "warnings.filterwarnings('ignore')\n",
    "from sklearn.linear_model import Lasso,Ridge"
   ]
  },
  {
   "cell_type": "code",
   "execution_count": 60,
   "metadata": {},
   "outputs": [
    {
     "name": "stdout",
     "output_type": "stream",
     "text": [
      "{'alpha': 0.0001, 'random_state': 0}\n"
     ]
    }
   ],
   "source": [
    "parameters = {'alpha':[.0001, .001, .01, .1, 1, 10],'random_state':list(range(0,10))}\n",
    "ls = Lasso()\n",
    "clf = GridSearchCV(ls,parameters)\n",
    "clf.fit(features1_train,target1_train)\n",
    "\n",
    "print(clf.best_params_)"
   ]
  },
  {
   "cell_type": "code",
   "execution_count": 61,
   "metadata": {},
   "outputs": [
    {
     "data": {
      "text/plain": [
       "0.7931125026454361"
      ]
     },
     "execution_count": 61,
     "metadata": {},
     "output_type": "execute_result"
    }
   ],
   "source": [
    "ls = Lasso(alpha=1,random_state=0)\n",
    "ls.fit(features1_train,target1_train)\n",
    "ls.score(features1_train,target1_train)\n",
    "pred1_ls = ls.predict(features1_test)\n",
    "\n",
    "lss1 = r2_score(target1_test,pred1_ls)\n",
    "lss1"
   ]
  },
  {
   "cell_type": "code",
   "execution_count": 62,
   "metadata": {},
   "outputs": [
    {
     "data": {
      "text/plain": [
       "0.7200546329752072"
      ]
     },
     "execution_count": 62,
     "metadata": {},
     "output_type": "execute_result"
    }
   ],
   "source": [
    "cv_score=cross_val_score(ls,features1,target1,cv=5)\n",
    "cv_mean=cv_score.mean()\n",
    "cv_mean"
   ]
  },
  {
   "cell_type": "code",
   "execution_count": 63,
   "metadata": {},
   "outputs": [
    {
     "name": "stdout",
     "output_type": "stream",
     "text": [
      "{'alpha': 1, 'random_state': 0}\n"
     ]
    }
   ],
   "source": [
    "parameters = {'alpha':[.0001, .001, .01, .1, 1, 10],'random_state':list(range(0,10))}\n",
    "rd = Ridge()\n",
    "clf = GridSearchCV(rd,parameters)\n",
    "clf.fit(features1_train,target1_train)\n",
    "\n",
    "print(clf.best_params_)"
   ]
  },
  {
   "cell_type": "code",
   "execution_count": 64,
   "metadata": {},
   "outputs": [
    {
     "data": {
      "text/plain": [
       "0.8416824579083497"
      ]
     },
     "execution_count": 64,
     "metadata": {},
     "output_type": "execute_result"
    }
   ],
   "source": [
    "rd = Ridge(alpha=1,random_state=0)\n",
    "rd.fit(features1_train,target1_train)\n",
    "rd.score(features1_train,target1_train)\n",
    "pred1_rd = rd.predict(features1_test)\n",
    "\n",
    "rds1 = r2_score(target1_test,pred1_rd)\n",
    "rds1"
   ]
  },
  {
   "cell_type": "code",
   "execution_count": 65,
   "metadata": {},
   "outputs": [
    {
     "data": {
      "text/plain": [
       "0.7667816580255111"
      ]
     },
     "execution_count": 65,
     "metadata": {},
     "output_type": "execute_result"
    }
   ],
   "source": [
    "cv_score=cross_val_score(rd,features1,target1,cv=5)\n",
    "cv_mean=cv_score.mean()\n",
    "cv_mean"
   ]
  },
  {
   "cell_type": "markdown",
   "metadata": {},
   "source": [
    "We created two data set with two target variable"
   ]
  },
  {
   "cell_type": "code",
   "execution_count": null,
   "metadata": {},
   "outputs": [],
   "source": []
  }
 ],
 "metadata": {
  "kernelspec": {
   "display_name": "Python 3",
   "language": "python",
   "name": "python3"
  },
  "language_info": {
   "codemirror_mode": {
    "name": "ipython",
    "version": 3
   },
   "file_extension": ".py",
   "mimetype": "text/x-python",
   "name": "python",
   "nbconvert_exporter": "python",
   "pygments_lexer": "ipython3",
   "version": "3.8.5"
  }
 },
 "nbformat": 4,
 "nbformat_minor": 4
}
