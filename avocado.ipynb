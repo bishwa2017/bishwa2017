{
 "cells": [
  {
   "cell_type": "markdown",
   "metadata": {},
   "source": [
    "# Importing Dataset"
   ]
  },
  {
   "cell_type": "code",
   "execution_count": 1,
   "metadata": {},
   "outputs": [
    {
     "name": "stdout",
     "output_type": "stream",
     "text": [
      "Requirement already satisfied: numpy in c:\\users\\bisue\\anaconda2\\lib\\site-packages (1.19.2)\n"
     ]
    }
   ],
   "source": [
    "!pip install numpy\n",
    "import pandas as pd\n",
    "import numpy as np\n",
    "import seaborn as sns"
   ]
  },
  {
   "cell_type": "code",
   "execution_count": 2,
   "metadata": {},
   "outputs": [
    {
     "data": {
      "text/html": [
       "<div>\n",
       "<style scoped>\n",
       "    .dataframe tbody tr th:only-of-type {\n",
       "        vertical-align: middle;\n",
       "    }\n",
       "\n",
       "    .dataframe tbody tr th {\n",
       "        vertical-align: top;\n",
       "    }\n",
       "\n",
       "    .dataframe thead th {\n",
       "        text-align: right;\n",
       "    }\n",
       "</style>\n",
       "<table border=\"1\" class=\"dataframe\">\n",
       "  <thead>\n",
       "    <tr style=\"text-align: right;\">\n",
       "      <th></th>\n",
       "      <th>Unnamed: 0</th>\n",
       "      <th>Date</th>\n",
       "      <th>AveragePrice</th>\n",
       "      <th>Total Volume</th>\n",
       "      <th>4046</th>\n",
       "      <th>4225</th>\n",
       "      <th>4770</th>\n",
       "      <th>Total Bags</th>\n",
       "      <th>Small Bags</th>\n",
       "      <th>Large Bags</th>\n",
       "      <th>XLarge Bags</th>\n",
       "      <th>type</th>\n",
       "      <th>year</th>\n",
       "      <th>region</th>\n",
       "    </tr>\n",
       "  </thead>\n",
       "  <tbody>\n",
       "    <tr>\n",
       "      <th>0</th>\n",
       "      <td>0.0</td>\n",
       "      <td>27-12-2015</td>\n",
       "      <td>1.33</td>\n",
       "      <td>64236.62</td>\n",
       "      <td>1036.74</td>\n",
       "      <td>54454.85</td>\n",
       "      <td>48.16</td>\n",
       "      <td>8696.87</td>\n",
       "      <td>8603.62</td>\n",
       "      <td>93.25</td>\n",
       "      <td>0.0</td>\n",
       "      <td>conventional</td>\n",
       "      <td>2015.0</td>\n",
       "      <td>Albany</td>\n",
       "    </tr>\n",
       "    <tr>\n",
       "      <th>1</th>\n",
       "      <td>1.0</td>\n",
       "      <td>20-12-2015</td>\n",
       "      <td>1.35</td>\n",
       "      <td>54876.98</td>\n",
       "      <td>674.28</td>\n",
       "      <td>44638.81</td>\n",
       "      <td>58.33</td>\n",
       "      <td>9505.56</td>\n",
       "      <td>9408.07</td>\n",
       "      <td>97.49</td>\n",
       "      <td>0.0</td>\n",
       "      <td>conventional</td>\n",
       "      <td>2015.0</td>\n",
       "      <td>Albany</td>\n",
       "    </tr>\n",
       "    <tr>\n",
       "      <th>2</th>\n",
       "      <td>2.0</td>\n",
       "      <td>13-12-2015</td>\n",
       "      <td>0.93</td>\n",
       "      <td>118220.22</td>\n",
       "      <td>794.70</td>\n",
       "      <td>109149.67</td>\n",
       "      <td>130.50</td>\n",
       "      <td>8145.35</td>\n",
       "      <td>8042.21</td>\n",
       "      <td>103.14</td>\n",
       "      <td>0.0</td>\n",
       "      <td>conventional</td>\n",
       "      <td>2015.0</td>\n",
       "      <td>Albany</td>\n",
       "    </tr>\n",
       "    <tr>\n",
       "      <th>3</th>\n",
       "      <td>3.0</td>\n",
       "      <td>06-12-2015</td>\n",
       "      <td>1.08</td>\n",
       "      <td>78992.15</td>\n",
       "      <td>1132.00</td>\n",
       "      <td>71976.41</td>\n",
       "      <td>72.58</td>\n",
       "      <td>5811.16</td>\n",
       "      <td>5677.40</td>\n",
       "      <td>133.76</td>\n",
       "      <td>0.0</td>\n",
       "      <td>conventional</td>\n",
       "      <td>2015.0</td>\n",
       "      <td>Albany</td>\n",
       "    </tr>\n",
       "    <tr>\n",
       "      <th>4</th>\n",
       "      <td>4.0</td>\n",
       "      <td>29-11-2015</td>\n",
       "      <td>1.28</td>\n",
       "      <td>51039.60</td>\n",
       "      <td>941.48</td>\n",
       "      <td>43838.39</td>\n",
       "      <td>75.78</td>\n",
       "      <td>6183.95</td>\n",
       "      <td>5986.26</td>\n",
       "      <td>197.69</td>\n",
       "      <td>0.0</td>\n",
       "      <td>conventional</td>\n",
       "      <td>2015.0</td>\n",
       "      <td>Albany</td>\n",
       "    </tr>\n",
       "    <tr>\n",
       "      <th>...</th>\n",
       "      <td>...</td>\n",
       "      <td>...</td>\n",
       "      <td>...</td>\n",
       "      <td>...</td>\n",
       "      <td>...</td>\n",
       "      <td>...</td>\n",
       "      <td>...</td>\n",
       "      <td>...</td>\n",
       "      <td>...</td>\n",
       "      <td>...</td>\n",
       "      <td>...</td>\n",
       "      <td>...</td>\n",
       "      <td>...</td>\n",
       "      <td>...</td>\n",
       "    </tr>\n",
       "    <tr>\n",
       "      <th>16463</th>\n",
       "      <td>NaN</td>\n",
       "      <td>NaN</td>\n",
       "      <td>NaN</td>\n",
       "      <td>NaN</td>\n",
       "      <td>NaN</td>\n",
       "      <td>NaN</td>\n",
       "      <td>NaN</td>\n",
       "      <td>NaN</td>\n",
       "      <td>NaN</td>\n",
       "      <td>NaN</td>\n",
       "      <td>NaN</td>\n",
       "      <td>NaN</td>\n",
       "      <td>NaN</td>\n",
       "      <td>NaN</td>\n",
       "    </tr>\n",
       "    <tr>\n",
       "      <th>16464</th>\n",
       "      <td>NaN</td>\n",
       "      <td>NaN</td>\n",
       "      <td>NaN</td>\n",
       "      <td>NaN</td>\n",
       "      <td>NaN</td>\n",
       "      <td>NaN</td>\n",
       "      <td>NaN</td>\n",
       "      <td>NaN</td>\n",
       "      <td>NaN</td>\n",
       "      <td>NaN</td>\n",
       "      <td>NaN</td>\n",
       "      <td>NaN</td>\n",
       "      <td>NaN</td>\n",
       "      <td>NaN</td>\n",
       "    </tr>\n",
       "    <tr>\n",
       "      <th>16465</th>\n",
       "      <td>NaN</td>\n",
       "      <td>NaN</td>\n",
       "      <td>NaN</td>\n",
       "      <td>NaN</td>\n",
       "      <td>NaN</td>\n",
       "      <td>NaN</td>\n",
       "      <td>NaN</td>\n",
       "      <td>NaN</td>\n",
       "      <td>NaN</td>\n",
       "      <td>NaN</td>\n",
       "      <td>NaN</td>\n",
       "      <td>NaN</td>\n",
       "      <td>NaN</td>\n",
       "      <td>NaN</td>\n",
       "    </tr>\n",
       "    <tr>\n",
       "      <th>16466</th>\n",
       "      <td>NaN</td>\n",
       "      <td>NaN</td>\n",
       "      <td>NaN</td>\n",
       "      <td>NaN</td>\n",
       "      <td>NaN</td>\n",
       "      <td>NaN</td>\n",
       "      <td>NaN</td>\n",
       "      <td>NaN</td>\n",
       "      <td>NaN</td>\n",
       "      <td>NaN</td>\n",
       "      <td>NaN</td>\n",
       "      <td>NaN</td>\n",
       "      <td>NaN</td>\n",
       "      <td>NaN</td>\n",
       "    </tr>\n",
       "    <tr>\n",
       "      <th>16467</th>\n",
       "      <td>NaN</td>\n",
       "      <td>NaN</td>\n",
       "      <td>NaN</td>\n",
       "      <td>NaN</td>\n",
       "      <td>NaN</td>\n",
       "      <td>NaN</td>\n",
       "      <td>NaN</td>\n",
       "      <td>NaN</td>\n",
       "      <td>NaN</td>\n",
       "      <td>NaN</td>\n",
       "      <td>NaN</td>\n",
       "      <td>NaN</td>\n",
       "      <td>NaN</td>\n",
       "      <td>NaN</td>\n",
       "    </tr>\n",
       "  </tbody>\n",
       "</table>\n",
       "<p>16468 rows × 14 columns</p>\n",
       "</div>"
      ],
      "text/plain": [
       "       Unnamed: 0        Date  AveragePrice  Total Volume     4046       4225  \\\n",
       "0             0.0  27-12-2015          1.33      64236.62  1036.74   54454.85   \n",
       "1             1.0  20-12-2015          1.35      54876.98   674.28   44638.81   \n",
       "2             2.0  13-12-2015          0.93     118220.22   794.70  109149.67   \n",
       "3             3.0  06-12-2015          1.08      78992.15  1132.00   71976.41   \n",
       "4             4.0  29-11-2015          1.28      51039.60   941.48   43838.39   \n",
       "...           ...         ...           ...           ...      ...        ...   \n",
       "16463         NaN         NaN           NaN           NaN      NaN        NaN   \n",
       "16464         NaN         NaN           NaN           NaN      NaN        NaN   \n",
       "16465         NaN         NaN           NaN           NaN      NaN        NaN   \n",
       "16466         NaN         NaN           NaN           NaN      NaN        NaN   \n",
       "16467         NaN         NaN           NaN           NaN      NaN        NaN   \n",
       "\n",
       "         4770  Total Bags  Small Bags  Large Bags  XLarge Bags          type  \\\n",
       "0       48.16     8696.87     8603.62       93.25          0.0  conventional   \n",
       "1       58.33     9505.56     9408.07       97.49          0.0  conventional   \n",
       "2      130.50     8145.35     8042.21      103.14          0.0  conventional   \n",
       "3       72.58     5811.16     5677.40      133.76          0.0  conventional   \n",
       "4       75.78     6183.95     5986.26      197.69          0.0  conventional   \n",
       "...       ...         ...         ...         ...          ...           ...   \n",
       "16463     NaN         NaN         NaN         NaN          NaN           NaN   \n",
       "16464     NaN         NaN         NaN         NaN          NaN           NaN   \n",
       "16465     NaN         NaN         NaN         NaN          NaN           NaN   \n",
       "16466     NaN         NaN         NaN         NaN          NaN           NaN   \n",
       "16467     NaN         NaN         NaN         NaN          NaN           NaN   \n",
       "\n",
       "         year  region  \n",
       "0      2015.0  Albany  \n",
       "1      2015.0  Albany  \n",
       "2      2015.0  Albany  \n",
       "3      2015.0  Albany  \n",
       "4      2015.0  Albany  \n",
       "...       ...     ...  \n",
       "16463     NaN     NaN  \n",
       "16464     NaN     NaN  \n",
       "16465     NaN     NaN  \n",
       "16466     NaN     NaN  \n",
       "16467     NaN     NaN  \n",
       "\n",
       "[16468 rows x 14 columns]"
      ]
     },
     "execution_count": 2,
     "metadata": {},
     "output_type": "execute_result"
    }
   ],
   "source": [
    "df=pd.read_csv(\"avocado.csv\")\n",
    "df"
   ]
  },
  {
   "cell_type": "markdown",
   "metadata": {},
   "source": [
    "we have total 16468 rows and 14 columns"
   ]
  },
  {
   "cell_type": "code",
   "execution_count": 3,
   "metadata": {},
   "outputs": [
    {
     "data": {
      "text/plain": [
       "Unnamed: 0      14951\n",
       "Date            14951\n",
       "AveragePrice    14951\n",
       "Total Volume    14951\n",
       "4046            14951\n",
       "4225            14951\n",
       "4770            14951\n",
       "Total Bags      14951\n",
       "Small Bags      14951\n",
       "Large Bags      14951\n",
       "XLarge Bags     14951\n",
       "type            14951\n",
       "year            14951\n",
       "region          14951\n",
       "dtype: int64"
      ]
     },
     "execution_count": 3,
     "metadata": {},
     "output_type": "execute_result"
    }
   ],
   "source": [
    "df.isnull().sum()"
   ]
  },
  {
   "cell_type": "code",
   "execution_count": 4,
   "metadata": {},
   "outputs": [
    {
     "data": {
      "text/plain": [
       "Unnamed: 0      float64\n",
       "Date             object\n",
       "AveragePrice    float64\n",
       "Total Volume    float64\n",
       "4046            float64\n",
       "4225            float64\n",
       "4770            float64\n",
       "Total Bags      float64\n",
       "Small Bags      float64\n",
       "Large Bags      float64\n",
       "XLarge Bags     float64\n",
       "type             object\n",
       "year            float64\n",
       "region           object\n",
       "dtype: object"
      ]
     },
     "execution_count": 4,
     "metadata": {},
     "output_type": "execute_result"
    }
   ],
   "source": [
    "df.dtypes"
   ]
  },
  {
   "cell_type": "markdown",
   "metadata": {},
   "source": [
    "we have null value present on data and also 3 columns are object we need to take care that"
   ]
  },
  {
   "cell_type": "code",
   "execution_count": 5,
   "metadata": {},
   "outputs": [],
   "source": [
    "import sklearn\n",
    "from sklearn.preprocessing import LabelEncoder"
   ]
  },
  {
   "cell_type": "code",
   "execution_count": 6,
   "metadata": {},
   "outputs": [
    {
     "data": {
      "text/html": [
       "<div>\n",
       "<style scoped>\n",
       "    .dataframe tbody tr th:only-of-type {\n",
       "        vertical-align: middle;\n",
       "    }\n",
       "\n",
       "    .dataframe tbody tr th {\n",
       "        vertical-align: top;\n",
       "    }\n",
       "\n",
       "    .dataframe thead th {\n",
       "        text-align: right;\n",
       "    }\n",
       "</style>\n",
       "<table border=\"1\" class=\"dataframe\">\n",
       "  <thead>\n",
       "    <tr style=\"text-align: right;\">\n",
       "      <th></th>\n",
       "      <th>Unnamed: 0</th>\n",
       "      <th>Date</th>\n",
       "      <th>AveragePrice</th>\n",
       "      <th>Total Volume</th>\n",
       "      <th>4046</th>\n",
       "      <th>4225</th>\n",
       "      <th>4770</th>\n",
       "      <th>Total Bags</th>\n",
       "      <th>Small Bags</th>\n",
       "      <th>Large Bags</th>\n",
       "      <th>XLarge Bags</th>\n",
       "      <th>type</th>\n",
       "      <th>year</th>\n",
       "      <th>region</th>\n",
       "    </tr>\n",
       "  </thead>\n",
       "  <tbody>\n",
       "    <tr>\n",
       "      <th>0</th>\n",
       "      <td>0.0</td>\n",
       "      <td>92</td>\n",
       "      <td>1.33</td>\n",
       "      <td>64236.62</td>\n",
       "      <td>1036.74</td>\n",
       "      <td>54454.85</td>\n",
       "      <td>48.16</td>\n",
       "      <td>8696.87</td>\n",
       "      <td>8603.62</td>\n",
       "      <td>93.25</td>\n",
       "      <td>0.0</td>\n",
       "      <td>0</td>\n",
       "      <td>2015.0</td>\n",
       "      <td>0</td>\n",
       "    </tr>\n",
       "    <tr>\n",
       "      <th>1</th>\n",
       "      <td>1.0</td>\n",
       "      <td>68</td>\n",
       "      <td>1.35</td>\n",
       "      <td>54876.98</td>\n",
       "      <td>674.28</td>\n",
       "      <td>44638.81</td>\n",
       "      <td>58.33</td>\n",
       "      <td>9505.56</td>\n",
       "      <td>9408.07</td>\n",
       "      <td>97.49</td>\n",
       "      <td>0.0</td>\n",
       "      <td>0</td>\n",
       "      <td>2015.0</td>\n",
       "      <td>0</td>\n",
       "    </tr>\n",
       "    <tr>\n",
       "      <th>2</th>\n",
       "      <td>2.0</td>\n",
       "      <td>44</td>\n",
       "      <td>0.93</td>\n",
       "      <td>118220.22</td>\n",
       "      <td>794.70</td>\n",
       "      <td>109149.67</td>\n",
       "      <td>130.50</td>\n",
       "      <td>8145.35</td>\n",
       "      <td>8042.21</td>\n",
       "      <td>103.14</td>\n",
       "      <td>0.0</td>\n",
       "      <td>0</td>\n",
       "      <td>2015.0</td>\n",
       "      <td>0</td>\n",
       "    </tr>\n",
       "    <tr>\n",
       "      <th>3</th>\n",
       "      <td>3.0</td>\n",
       "      <td>20</td>\n",
       "      <td>1.08</td>\n",
       "      <td>78992.15</td>\n",
       "      <td>1132.00</td>\n",
       "      <td>71976.41</td>\n",
       "      <td>72.58</td>\n",
       "      <td>5811.16</td>\n",
       "      <td>5677.40</td>\n",
       "      <td>133.76</td>\n",
       "      <td>0.0</td>\n",
       "      <td>0</td>\n",
       "      <td>2015.0</td>\n",
       "      <td>0</td>\n",
       "    </tr>\n",
       "    <tr>\n",
       "      <th>4</th>\n",
       "      <td>4.0</td>\n",
       "      <td>98</td>\n",
       "      <td>1.28</td>\n",
       "      <td>51039.60</td>\n",
       "      <td>941.48</td>\n",
       "      <td>43838.39</td>\n",
       "      <td>75.78</td>\n",
       "      <td>6183.95</td>\n",
       "      <td>5986.26</td>\n",
       "      <td>197.69</td>\n",
       "      <td>0.0</td>\n",
       "      <td>0</td>\n",
       "      <td>2015.0</td>\n",
       "      <td>0</td>\n",
       "    </tr>\n",
       "    <tr>\n",
       "      <th>...</th>\n",
       "      <td>...</td>\n",
       "      <td>...</td>\n",
       "      <td>...</td>\n",
       "      <td>...</td>\n",
       "      <td>...</td>\n",
       "      <td>...</td>\n",
       "      <td>...</td>\n",
       "      <td>...</td>\n",
       "      <td>...</td>\n",
       "      <td>...</td>\n",
       "      <td>...</td>\n",
       "      <td>...</td>\n",
       "      <td>...</td>\n",
       "      <td>...</td>\n",
       "    </tr>\n",
       "    <tr>\n",
       "      <th>16463</th>\n",
       "      <td>NaN</td>\n",
       "      <td>104</td>\n",
       "      <td>NaN</td>\n",
       "      <td>NaN</td>\n",
       "      <td>NaN</td>\n",
       "      <td>NaN</td>\n",
       "      <td>NaN</td>\n",
       "      <td>NaN</td>\n",
       "      <td>NaN</td>\n",
       "      <td>NaN</td>\n",
       "      <td>NaN</td>\n",
       "      <td>1</td>\n",
       "      <td>NaN</td>\n",
       "      <td>51</td>\n",
       "    </tr>\n",
       "    <tr>\n",
       "      <th>16464</th>\n",
       "      <td>NaN</td>\n",
       "      <td>104</td>\n",
       "      <td>NaN</td>\n",
       "      <td>NaN</td>\n",
       "      <td>NaN</td>\n",
       "      <td>NaN</td>\n",
       "      <td>NaN</td>\n",
       "      <td>NaN</td>\n",
       "      <td>NaN</td>\n",
       "      <td>NaN</td>\n",
       "      <td>NaN</td>\n",
       "      <td>1</td>\n",
       "      <td>NaN</td>\n",
       "      <td>51</td>\n",
       "    </tr>\n",
       "    <tr>\n",
       "      <th>16465</th>\n",
       "      <td>NaN</td>\n",
       "      <td>104</td>\n",
       "      <td>NaN</td>\n",
       "      <td>NaN</td>\n",
       "      <td>NaN</td>\n",
       "      <td>NaN</td>\n",
       "      <td>NaN</td>\n",
       "      <td>NaN</td>\n",
       "      <td>NaN</td>\n",
       "      <td>NaN</td>\n",
       "      <td>NaN</td>\n",
       "      <td>1</td>\n",
       "      <td>NaN</td>\n",
       "      <td>51</td>\n",
       "    </tr>\n",
       "    <tr>\n",
       "      <th>16466</th>\n",
       "      <td>NaN</td>\n",
       "      <td>104</td>\n",
       "      <td>NaN</td>\n",
       "      <td>NaN</td>\n",
       "      <td>NaN</td>\n",
       "      <td>NaN</td>\n",
       "      <td>NaN</td>\n",
       "      <td>NaN</td>\n",
       "      <td>NaN</td>\n",
       "      <td>NaN</td>\n",
       "      <td>NaN</td>\n",
       "      <td>1</td>\n",
       "      <td>NaN</td>\n",
       "      <td>51</td>\n",
       "    </tr>\n",
       "    <tr>\n",
       "      <th>16467</th>\n",
       "      <td>NaN</td>\n",
       "      <td>104</td>\n",
       "      <td>NaN</td>\n",
       "      <td>NaN</td>\n",
       "      <td>NaN</td>\n",
       "      <td>NaN</td>\n",
       "      <td>NaN</td>\n",
       "      <td>NaN</td>\n",
       "      <td>NaN</td>\n",
       "      <td>NaN</td>\n",
       "      <td>NaN</td>\n",
       "      <td>1</td>\n",
       "      <td>NaN</td>\n",
       "      <td>51</td>\n",
       "    </tr>\n",
       "  </tbody>\n",
       "</table>\n",
       "<p>16468 rows × 14 columns</p>\n",
       "</div>"
      ],
      "text/plain": [
       "       Unnamed: 0  Date  AveragePrice  Total Volume     4046       4225  \\\n",
       "0             0.0    92          1.33      64236.62  1036.74   54454.85   \n",
       "1             1.0    68          1.35      54876.98   674.28   44638.81   \n",
       "2             2.0    44          0.93     118220.22   794.70  109149.67   \n",
       "3             3.0    20          1.08      78992.15  1132.00   71976.41   \n",
       "4             4.0    98          1.28      51039.60   941.48   43838.39   \n",
       "...           ...   ...           ...           ...      ...        ...   \n",
       "16463         NaN   104           NaN           NaN      NaN        NaN   \n",
       "16464         NaN   104           NaN           NaN      NaN        NaN   \n",
       "16465         NaN   104           NaN           NaN      NaN        NaN   \n",
       "16466         NaN   104           NaN           NaN      NaN        NaN   \n",
       "16467         NaN   104           NaN           NaN      NaN        NaN   \n",
       "\n",
       "         4770  Total Bags  Small Bags  Large Bags  XLarge Bags  type    year  \\\n",
       "0       48.16     8696.87     8603.62       93.25          0.0     0  2015.0   \n",
       "1       58.33     9505.56     9408.07       97.49          0.0     0  2015.0   \n",
       "2      130.50     8145.35     8042.21      103.14          0.0     0  2015.0   \n",
       "3       72.58     5811.16     5677.40      133.76          0.0     0  2015.0   \n",
       "4       75.78     6183.95     5986.26      197.69          0.0     0  2015.0   \n",
       "...       ...         ...         ...         ...          ...   ...     ...   \n",
       "16463     NaN         NaN         NaN         NaN          NaN     1     NaN   \n",
       "16464     NaN         NaN         NaN         NaN          NaN     1     NaN   \n",
       "16465     NaN         NaN         NaN         NaN          NaN     1     NaN   \n",
       "16466     NaN         NaN         NaN         NaN          NaN     1     NaN   \n",
       "16467     NaN         NaN         NaN         NaN          NaN     1     NaN   \n",
       "\n",
       "       region  \n",
       "0           0  \n",
       "1           0  \n",
       "2           0  \n",
       "3           0  \n",
       "4           0  \n",
       "...       ...  \n",
       "16463      51  \n",
       "16464      51  \n",
       "16465      51  \n",
       "16466      51  \n",
       "16467      51  \n",
       "\n",
       "[16468 rows x 14 columns]"
      ]
     },
     "execution_count": 6,
     "metadata": {},
     "output_type": "execute_result"
    }
   ],
   "source": [
    "lencode=LabelEncoder()\n",
    "df['Date']=lencode.fit_transform(df['Date'])\n",
    "df['type']=lencode.fit_transform(df['type'])\n",
    "df['region']=lencode.fit_transform(df['region'])\n",
    "df"
   ]
  },
  {
   "cell_type": "code",
   "execution_count": 7,
   "metadata": {},
   "outputs": [
    {
     "data": {
      "text/plain": [
       "Unnamed: 0      float64\n",
       "Date              int32\n",
       "AveragePrice    float64\n",
       "Total Volume    float64\n",
       "4046            float64\n",
       "4225            float64\n",
       "4770            float64\n",
       "Total Bags      float64\n",
       "Small Bags      float64\n",
       "Large Bags      float64\n",
       "XLarge Bags     float64\n",
       "type              int32\n",
       "year            float64\n",
       "region            int32\n",
       "dtype: object"
      ]
     },
     "execution_count": 7,
     "metadata": {},
     "output_type": "execute_result"
    }
   ],
   "source": [
    "df.dtypes"
   ]
  },
  {
   "cell_type": "code",
   "execution_count": 8,
   "metadata": {},
   "outputs": [
    {
     "data": {
      "text/plain": [
       "<AxesSubplot:>"
      ]
     },
     "execution_count": 8,
     "metadata": {},
     "output_type": "execute_result"
    },
    {
     "data": {
      "image/png": "[encoded data removed]",
      "text/plain": [
       "<Figure size 432x288 with 2 Axes>"
      ]
     },
     "metadata": {
      "needs_background": "light"
     },
     "output_type": "display_data"
    }
   ],
   "source": [
    "sns.heatmap(df.isnull())"
   ]
  },
  {
   "cell_type": "code",
   "execution_count": 9,
   "metadata": {},
   "outputs": [
    {
     "data": {
      "text/plain": [
       "Unnamed: 0      14951\n",
       "Date                0\n",
       "AveragePrice        0\n",
       "Total Volume        0\n",
       "4046                0\n",
       "4225                0\n",
       "4770                0\n",
       "Total Bags          0\n",
       "Small Bags          0\n",
       "Large Bags          0\n",
       "XLarge Bags         0\n",
       "type                0\n",
       "year                0\n",
       "region              0\n",
       "dtype: int64"
      ]
     },
     "execution_count": 9,
     "metadata": {},
     "output_type": "execute_result"
    }
   ],
   "source": [
    "df['AveragePrice']=df['AveragePrice'].replace(np.NAN,df['AveragePrice'].mean())\n",
    "df['Date']=df['Date'].replace(np.NAN,df['Date'].mean())\n",
    "df['Total Volume']=df['Total Volume'].replace(np.NAN,df['Total Volume'].mean())\n",
    "df['4046']=df['4046'].replace(np.NAN,df['4046'].mean())\n",
    "df['4225']=df['4225'].replace(np.NAN,df['4225'].mean())\n",
    "df['4770']=df['4770'].replace(np.NAN,df['4770'].mean())\n",
    "df['Total Bags']=df['Total Bags'].replace(np.NAN,df['Total Bags'].mean())\n",
    "df['Small Bags']=df['Small Bags'].replace(np.NAN,df['Small Bags'].mean())\n",
    "df['XLarge Bags']=df['XLarge Bags'].replace(np.NAN,df['XLarge Bags'].mean())\n",
    "df['Large Bags']=df['Large Bags'].replace(np.NAN,df['Large Bags'].mean())\n",
    "df['year']=df['year'].replace(np.NAN,df['year'].mean())\n",
    "df.isnull().sum()"
   ]
  },
  {
   "cell_type": "markdown",
   "metadata": {},
   "source": [
    "now null value and dtype issue is clear"
   ]
  },
  {
   "cell_type": "code",
   "execution_count": 10,
   "metadata": {},
   "outputs": [
    {
     "data": {
      "text/html": [
       "<div>\n",
       "<style scoped>\n",
       "    .dataframe tbody tr th:only-of-type {\n",
       "        vertical-align: middle;\n",
       "    }\n",
       "\n",
       "    .dataframe tbody tr th {\n",
       "        vertical-align: top;\n",
       "    }\n",
       "\n",
       "    .dataframe thead th {\n",
       "        text-align: right;\n",
       "    }\n",
       "</style>\n",
       "<table border=\"1\" class=\"dataframe\">\n",
       "  <thead>\n",
       "    <tr style=\"text-align: right;\">\n",
       "      <th></th>\n",
       "      <th>Unnamed: 0</th>\n",
       "      <th>Date</th>\n",
       "      <th>AveragePrice</th>\n",
       "      <th>Total Volume</th>\n",
       "      <th>4046</th>\n",
       "      <th>4225</th>\n",
       "      <th>4770</th>\n",
       "      <th>Total Bags</th>\n",
       "      <th>Small Bags</th>\n",
       "      <th>Large Bags</th>\n",
       "      <th>XLarge Bags</th>\n",
       "      <th>type</th>\n",
       "      <th>year</th>\n",
       "      <th>region</th>\n",
       "    </tr>\n",
       "  </thead>\n",
       "  <tbody>\n",
       "    <tr>\n",
       "      <th>count</th>\n",
       "      <td>1517.000000</td>\n",
       "      <td>16468.000000</td>\n",
       "      <td>16468.000000</td>\n",
       "      <td>1.646800e+04</td>\n",
       "      <td>1.646800e+04</td>\n",
       "      <td>1.646800e+04</td>\n",
       "      <td>1.646800e+04</td>\n",
       "      <td>1.646800e+04</td>\n",
       "      <td>1.646800e+04</td>\n",
       "      <td>1.646800e+04</td>\n",
       "      <td>16468.000000</td>\n",
       "      <td>16468.000000</td>\n",
       "      <td>16468.000000</td>\n",
       "      <td>16468.000000</td>\n",
       "    </tr>\n",
       "    <tr>\n",
       "      <th>mean</th>\n",
       "      <td>26.995386</td>\n",
       "      <td>99.083192</td>\n",
       "      <td>1.074990</td>\n",
       "      <td>1.601879e+06</td>\n",
       "      <td>6.464387e+05</td>\n",
       "      <td>6.114375e+05</td>\n",
       "      <td>5.040550e+04</td>\n",
       "      <td>2.935974e+05</td>\n",
       "      <td>2.487736e+05</td>\n",
       "      <td>4.264205e+04</td>\n",
       "      <td>2181.771074</td>\n",
       "      <td>0.907882</td>\n",
       "      <td>2015.162821</td>\n",
       "      <td>48.254554</td>\n",
       "    </tr>\n",
       "    <tr>\n",
       "      <th>std</th>\n",
       "      <td>14.848287</td>\n",
       "      <td>17.926373</td>\n",
       "      <td>0.057313</td>\n",
       "      <td>1.345098e+06</td>\n",
       "      <td>5.909424e+05</td>\n",
       "      <td>5.075910e+05</td>\n",
       "      <td>4.180541e+04</td>\n",
       "      <td>2.299843e+05</td>\n",
       "      <td>1.964565e+05</td>\n",
       "      <td>3.586885e+04</td>\n",
       "      <td>2262.202563</td>\n",
       "      <td>0.289201</td>\n",
       "      <td>0.112060</td>\n",
       "      <td>9.912157</td>\n",
       "    </tr>\n",
       "    <tr>\n",
       "      <th>min</th>\n",
       "      <td>0.000000</td>\n",
       "      <td>0.000000</td>\n",
       "      <td>0.490000</td>\n",
       "      <td>3.875074e+04</td>\n",
       "      <td>4.677200e+02</td>\n",
       "      <td>1.783770e+03</td>\n",
       "      <td>0.000000e+00</td>\n",
       "      <td>3.311770e+03</td>\n",
       "      <td>3.311770e+03</td>\n",
       "      <td>0.000000e+00</td>\n",
       "      <td>0.000000</td>\n",
       "      <td>0.000000</td>\n",
       "      <td>2015.000000</td>\n",
       "      <td>0.000000</td>\n",
       "    </tr>\n",
       "    <tr>\n",
       "      <th>25%</th>\n",
       "      <td>14.000000</td>\n",
       "      <td>104.000000</td>\n",
       "      <td>1.074990</td>\n",
       "      <td>1.601879e+06</td>\n",
       "      <td>6.464387e+05</td>\n",
       "      <td>6.114375e+05</td>\n",
       "      <td>5.040550e+04</td>\n",
       "      <td>2.935974e+05</td>\n",
       "      <td>2.487736e+05</td>\n",
       "      <td>4.264205e+04</td>\n",
       "      <td>2181.771074</td>\n",
       "      <td>1.000000</td>\n",
       "      <td>2015.162821</td>\n",
       "      <td>51.000000</td>\n",
       "    </tr>\n",
       "    <tr>\n",
       "      <th>50%</th>\n",
       "      <td>29.000000</td>\n",
       "      <td>104.000000</td>\n",
       "      <td>1.074990</td>\n",
       "      <td>1.601879e+06</td>\n",
       "      <td>6.464387e+05</td>\n",
       "      <td>6.114375e+05</td>\n",
       "      <td>5.040550e+04</td>\n",
       "      <td>2.935974e+05</td>\n",
       "      <td>2.487736e+05</td>\n",
       "      <td>4.264205e+04</td>\n",
       "      <td>2181.771074</td>\n",
       "      <td>1.000000</td>\n",
       "      <td>2015.162821</td>\n",
       "      <td>51.000000</td>\n",
       "    </tr>\n",
       "    <tr>\n",
       "      <th>75%</th>\n",
       "      <td>39.000000</td>\n",
       "      <td>104.000000</td>\n",
       "      <td>1.074990</td>\n",
       "      <td>1.601879e+06</td>\n",
       "      <td>6.464387e+05</td>\n",
       "      <td>6.114375e+05</td>\n",
       "      <td>5.040550e+04</td>\n",
       "      <td>2.935974e+05</td>\n",
       "      <td>2.487736e+05</td>\n",
       "      <td>4.264205e+04</td>\n",
       "      <td>2181.771074</td>\n",
       "      <td>1.000000</td>\n",
       "      <td>2015.162821</td>\n",
       "      <td>51.000000</td>\n",
       "    </tr>\n",
       "    <tr>\n",
       "      <th>max</th>\n",
       "      <td>51.000000</td>\n",
       "      <td>104.000000</td>\n",
       "      <td>1.680000</td>\n",
       "      <td>4.465546e+07</td>\n",
       "      <td>1.893304e+07</td>\n",
       "      <td>1.895648e+07</td>\n",
       "      <td>1.381516e+06</td>\n",
       "      <td>6.736304e+06</td>\n",
       "      <td>5.893642e+06</td>\n",
       "      <td>1.121076e+06</td>\n",
       "      <td>108072.790000</td>\n",
       "      <td>1.000000</td>\n",
       "      <td>2016.000000</td>\n",
       "      <td>51.000000</td>\n",
       "    </tr>\n",
       "  </tbody>\n",
       "</table>\n",
       "</div>"
      ],
      "text/plain": [
       "        Unnamed: 0          Date  AveragePrice  Total Volume          4046  \\\n",
       "count  1517.000000  16468.000000  16468.000000  1.646800e+04  1.646800e+04   \n",
       "mean     26.995386     99.083192      1.074990  1.601879e+06  6.464387e+05   \n",
       "std      14.848287     17.926373      0.057313  1.345098e+06  5.909424e+05   \n",
       "min       0.000000      0.000000      0.490000  3.875074e+04  4.677200e+02   \n",
       "25%      14.000000    104.000000      1.074990  1.601879e+06  6.464387e+05   \n",
       "50%      29.000000    104.000000      1.074990  1.601879e+06  6.464387e+05   \n",
       "75%      39.000000    104.000000      1.074990  1.601879e+06  6.464387e+05   \n",
       "max      51.000000    104.000000      1.680000  4.465546e+07  1.893304e+07   \n",
       "\n",
       "               4225          4770    Total Bags    Small Bags    Large Bags  \\\n",
       "count  1.646800e+04  1.646800e+04  1.646800e+04  1.646800e+04  1.646800e+04   \n",
       "mean   6.114375e+05  5.040550e+04  2.935974e+05  2.487736e+05  4.264205e+04   \n",
       "std    5.075910e+05  4.180541e+04  2.299843e+05  1.964565e+05  3.586885e+04   \n",
       "min    1.783770e+03  0.000000e+00  3.311770e+03  3.311770e+03  0.000000e+00   \n",
       "25%    6.114375e+05  5.040550e+04  2.935974e+05  2.487736e+05  4.264205e+04   \n",
       "50%    6.114375e+05  5.040550e+04  2.935974e+05  2.487736e+05  4.264205e+04   \n",
       "75%    6.114375e+05  5.040550e+04  2.935974e+05  2.487736e+05  4.264205e+04   \n",
       "max    1.895648e+07  1.381516e+06  6.736304e+06  5.893642e+06  1.121076e+06   \n",
       "\n",
       "         XLarge Bags          type          year        region  \n",
       "count   16468.000000  16468.000000  16468.000000  16468.000000  \n",
       "mean     2181.771074      0.907882   2015.162821     48.254554  \n",
       "std      2262.202563      0.289201      0.112060      9.912157  \n",
       "min         0.000000      0.000000   2015.000000      0.000000  \n",
       "25%      2181.771074      1.000000   2015.162821     51.000000  \n",
       "50%      2181.771074      1.000000   2015.162821     51.000000  \n",
       "75%      2181.771074      1.000000   2015.162821     51.000000  \n",
       "max    108072.790000      1.000000   2016.000000     51.000000  "
      ]
     },
     "execution_count": 10,
     "metadata": {},
     "output_type": "execute_result"
    }
   ],
   "source": [
    "df.describe()"
   ]
  },
  {
   "cell_type": "code",
   "execution_count": 11,
   "metadata": {},
   "outputs": [
    {
     "name": "stderr",
     "output_type": "stream",
     "text": [
      "C:\\Users\\bisue\\anaconda2\\lib\\site-packages\\seaborn\\_decorators.py:36: FutureWarning: Pass the following variable as a keyword arg: x. From version 0.12, the only valid positional argument will be `data`, and passing other arguments without an explicit keyword will result in an error or misinterpretation.\n",
      "  warnings.warn(\n"
     ]
    },
    {
     "data": {
      "text/plain": [
       "<AxesSubplot:xlabel='AveragePrice', ylabel='count'>"
      ]
     },
     "execution_count": 11,
     "metadata": {},
     "output_type": "execute_result"
    },
    {
     "data": {
      "image/png": "[encoded data removed]",
      "text/plain": [
       "<Figure size 432x288 with 1 Axes>"
      ]
     },
     "metadata": {
      "needs_background": "light"
     },
     "output_type": "display_data"
    }
   ],
   "source": [
    "sns.countplot(df['AveragePrice'])"
   ]
  },
  {
   "cell_type": "code",
   "execution_count": 12,
   "metadata": {},
   "outputs": [
    {
     "name": "stderr",
     "output_type": "stream",
     "text": [
      "C:\\Users\\bisue\\anaconda2\\lib\\site-packages\\seaborn\\_decorators.py:36: FutureWarning: Pass the following variable as a keyword arg: x. From version 0.12, the only valid positional argument will be `data`, and passing other arguments without an explicit keyword will result in an error or misinterpretation.\n",
      "  warnings.warn(\n"
     ]
    },
    {
     "data": {
      "text/plain": [
       "<AxesSubplot:xlabel='AveragePrice'>"
      ]
     },
     "execution_count": 12,
     "metadata": {},
     "output_type": "execute_result"
    },
    {
     "data": {
      "image/png": "[encoded data removed]",
      "text/plain": [
       "<Figure size 432x288 with 1 Axes>"
      ]
     },
     "metadata": {
      "needs_background": "light"
     },
     "output_type": "display_data"
    }
   ],
   "source": [
    "sns.boxplot(df['AveragePrice'])"
   ]
  },
  {
   "cell_type": "code",
   "execution_count": 13,
   "metadata": {},
   "outputs": [
    {
     "data": {
      "image/png": "[encoded data removed]",
      "text/plain": [
       "<Figure size 360x360 with 1 Axes>"
      ]
     },
     "metadata": {
      "needs_background": "light"
     },
     "output_type": "display_data"
    },
    {
     "data": {
      "image/png": "[encoded data removed]",
      "text/plain": [
       "<Figure size 360x360 with 1 Axes>"
      ]
     },
     "metadata": {
      "needs_background": "light"
     },
     "output_type": "display_data"
    },
    {
     "data": {
      "image/png": "[encoded data removed]",
      "text/plain": [
       "<Figure size 360x360 with 1 Axes>"
      ]
     },
     "metadata": {
      "needs_background": "light"
     },
     "output_type": "display_data"
    },
    {
     "data": {
      "image/png": "[encoded data removed]",
      "text/plain": [
       "<Figure size 360x360 with 1 Axes>"
      ]
     },
     "metadata": {
      "needs_background": "light"
     },
     "output_type": "display_data"
    },
    {
     "data": {
      "image/png": "[encoded data removed]",
      "text/plain": [
       "<Figure size 360x360 with 1 Axes>"
      ]
     },
     "metadata": {
      "needs_background": "light"
     },
     "output_type": "display_data"
    },
    {
     "data": {
      "image/png": "[encoded data removed]",
      "text/plain": [
       "<Figure size 360x360 with 1 Axes>"
      ]
     },
     "metadata": {
      "needs_background": "light"
     },
     "output_type": "display_data"
    },
    {
     "data": {
      "image/png": "[encoded data removed]",
      "text/plain": [
       "<Figure size 360x360 with 1 Axes>"
      ]
     },
     "metadata": {
      "needs_background": "light"
     },
     "output_type": "display_data"
    },
    {
     "data": {
      "image/png": "[encoded data removed]",
      "text/plain": [
       "<Figure size 360x360 with 1 Axes>"
      ]
     },
     "metadata": {
      "needs_background": "light"
     },
     "output_type": "display_data"
    },
    {
     "data": {
      "image/png": "[encoded data removed]",
      "text/plain": [
       "<Figure size 360x360 with 1 Axes>"
      ]
     },
     "metadata": {
      "needs_background": "light"
     },
     "output_type": "display_data"
    },
    {
     "data": {
      "image/png": "[encoded data removed]",
      "text/plain": [
       "<Figure size 360x360 with 1 Axes>"
      ]
     },
     "metadata": {
      "needs_background": "light"
     },
     "output_type": "display_data"
    },
    {
     "data": {
      "image/png": "[encoded data removed]",
      "text/plain": [
       "<Figure size 360x360 with 1 Axes>"
      ]
     },
     "metadata": {
      "needs_background": "light"
     },
     "output_type": "display_data"
    },
    {
     "data": {
      "image/png": "[encoded data removed]",
      "text/plain": [
       "<Figure size 360x360 with 1 Axes>"
      ]
     },
     "metadata": {
      "needs_background": "light"
     },
     "output_type": "display_data"
    },
    {
     "data": {
      "image/png": "[encoded data removed]",
      "text/plain": [
       "<Figure size 360x360 with 1 Axes>"
      ]
     },
     "metadata": {
      "needs_background": "light"
     },
     "output_type": "display_data"
    },
    {
     "data": {
      "image/png": "[encoded data removed]",
      "text/plain": [
       "<Figure size 360x360 with 1 Axes>"
      ]
     },
     "metadata": {
      "needs_background": "light"
     },
     "output_type": "display_data"
    }
   ],
   "source": [
    "for i in df.columns:\n",
    "    sns.displot(df[i])"
   ]
  },
  {
   "cell_type": "code",
   "execution_count": 152,
   "metadata": {},
   "outputs": [
    {
     "data": {
      "image/png": "[encoded data removed]",
      "text/plain": [
       "<Figure size 432x288 with 1 Axes>"
      ]
     },
     "metadata": {
      "needs_background": "light"
     },
     "output_type": "display_data"
    }
   ],
   "source": [
    "for i in df.columns:\n",
    "    sns.countplot(df[i])"
   ]
  },
  {
   "cell_type": "code",
   "execution_count": 153,
   "metadata": {},
   "outputs": [
    {
     "data": {
      "image/png": "[encoded data removed]",
      "text/plain": [
       "<Figure size 432x288 with 1 Axes>"
      ]
     },
     "metadata": {
      "needs_background": "light"
     },
     "output_type": "display_data"
    }
   ],
   "source": [
    "for i in df.columns:\n",
    "    sns.boxplot(df[i])"
   ]
  },
  {
   "cell_type": "code",
   "execution_count": 14,
   "metadata": {},
   "outputs": [
    {
     "data": {
      "text/plain": [
       "Unnamed: 0      -0.234824\n",
       "Date            -3.892542\n",
       "AveragePrice    -0.360270\n",
       "Total Volume    20.409801\n",
       "4046            19.921599\n",
       "4225            21.051013\n",
       "4770            17.792883\n",
       "Total Bags      17.665207\n",
       "Small Bags      17.628360\n",
       "Large Bags      16.934805\n",
       "XLarge Bags     19.010574\n",
       "type            -2.821090\n",
       "year             6.018559\n",
       "region          -3.737989\n",
       "dtype: float64"
      ]
     },
     "execution_count": 14,
     "metadata": {},
     "output_type": "execute_result"
    }
   ],
   "source": [
    "df.skew()"
   ]
  },
  {
   "cell_type": "code",
   "execution_count": 15,
   "metadata": {},
   "outputs": [
    {
     "data": {
      "text/plain": [
       "(16468, 14)"
      ]
     },
     "execution_count": 15,
     "metadata": {},
     "output_type": "execute_result"
    }
   ],
   "source": [
    "df.shape"
   ]
  },
  {
   "cell_type": "code",
   "execution_count": 16,
   "metadata": {},
   "outputs": [
    {
     "data": {
      "text/html": [
       "<div>\n",
       "<style scoped>\n",
       "    .dataframe tbody tr th:only-of-type {\n",
       "        vertical-align: middle;\n",
       "    }\n",
       "\n",
       "    .dataframe tbody tr th {\n",
       "        vertical-align: top;\n",
       "    }\n",
       "\n",
       "    .dataframe thead th {\n",
       "        text-align: right;\n",
       "    }\n",
       "</style>\n",
       "<table border=\"1\" class=\"dataframe\">\n",
       "  <thead>\n",
       "    <tr style=\"text-align: right;\">\n",
       "      <th></th>\n",
       "      <th>Unnamed: 0</th>\n",
       "      <th>Date</th>\n",
       "      <th>AveragePrice</th>\n",
       "      <th>Total Volume</th>\n",
       "      <th>4046</th>\n",
       "      <th>4225</th>\n",
       "      <th>4770</th>\n",
       "      <th>Total Bags</th>\n",
       "      <th>Small Bags</th>\n",
       "      <th>Large Bags</th>\n",
       "      <th>XLarge Bags</th>\n",
       "      <th>type</th>\n",
       "      <th>year</th>\n",
       "      <th>region</th>\n",
       "    </tr>\n",
       "  </thead>\n",
       "  <tbody>\n",
       "    <tr>\n",
       "      <th>Unnamed: 0</th>\n",
       "      <td>1.000000</td>\n",
       "      <td>-0.145600</td>\n",
       "      <td>-7.553138e-02</td>\n",
       "      <td>9.193428e-02</td>\n",
       "      <td>9.201312e-02</td>\n",
       "      <td>9.356639e-02</td>\n",
       "      <td>7.564678e-02</td>\n",
       "      <td>8.100683e-02</td>\n",
       "      <td>8.348484e-02</td>\n",
       "      <td>6.536353e-02</td>\n",
       "      <td>-5.099340e-02</td>\n",
       "      <td>NaN</td>\n",
       "      <td>-1.285383e-02</td>\n",
       "      <td>0.012123</td>\n",
       "    </tr>\n",
       "    <tr>\n",
       "      <th>Date</th>\n",
       "      <td>-0.145600</td>\n",
       "      <td>1.000000</td>\n",
       "      <td>4.727847e-02</td>\n",
       "      <td>-1.259280e-02</td>\n",
       "      <td>-1.056221e-02</td>\n",
       "      <td>-1.785601e-02</td>\n",
       "      <td>-8.329765e-03</td>\n",
       "      <td>-5.587880e-03</td>\n",
       "      <td>-2.876063e-03</td>\n",
       "      <td>-2.043755e-02</td>\n",
       "      <td>5.732510e-03</td>\n",
       "      <td>8.610857e-01</td>\n",
       "      <td>1.156749e-02</td>\n",
       "      <td>0.742238</td>\n",
       "    </tr>\n",
       "    <tr>\n",
       "      <th>AveragePrice</th>\n",
       "      <td>-0.075531</td>\n",
       "      <td>0.047278</td>\n",
       "      <td>1.000000e+00</td>\n",
       "      <td>-1.404703e-01</td>\n",
       "      <td>-1.900958e-01</td>\n",
       "      <td>-9.208409e-02</td>\n",
       "      <td>-1.005665e-01</td>\n",
       "      <td>-1.115968e-01</td>\n",
       "      <td>-9.768201e-02</td>\n",
       "      <td>-1.774802e-01</td>\n",
       "      <td>-4.828395e-02</td>\n",
       "      <td>-1.176882e-15</td>\n",
       "      <td>1.786833e-01</td>\n",
       "      <td>-0.113287</td>\n",
       "    </tr>\n",
       "    <tr>\n",
       "      <th>Total Volume</th>\n",
       "      <td>0.091934</td>\n",
       "      <td>-0.012593</td>\n",
       "      <td>-1.404703e-01</td>\n",
       "      <td>1.000000e+00</td>\n",
       "      <td>9.855681e-01</td>\n",
       "      <td>9.871539e-01</td>\n",
       "      <td>9.343468e-01</td>\n",
       "      <td>9.676892e-01</td>\n",
       "      <td>9.606418e-01</td>\n",
       "      <td>9.102257e-01</td>\n",
       "      <td>5.217167e-01</td>\n",
       "      <td>2.950134e-16</td>\n",
       "      <td>-4.188663e-03</td>\n",
       "      <td>0.116829</td>\n",
       "    </tr>\n",
       "    <tr>\n",
       "      <th>4046</th>\n",
       "      <td>0.092013</td>\n",
       "      <td>-0.010562</td>\n",
       "      <td>-1.900958e-01</td>\n",
       "      <td>9.855681e-01</td>\n",
       "      <td>1.000000e+00</td>\n",
       "      <td>9.519521e-01</td>\n",
       "      <td>8.985705e-01</td>\n",
       "      <td>9.303953e-01</td>\n",
       "      <td>9.222784e-01</td>\n",
       "      <td>8.842287e-01</td>\n",
       "      <td>4.740631e-01</td>\n",
       "      <td>-9.541918e-17</td>\n",
       "      <td>-4.043896e-02</td>\n",
       "      <td>0.133076</td>\n",
       "    </tr>\n",
       "    <tr>\n",
       "      <th>4225</th>\n",
       "      <td>0.093566</td>\n",
       "      <td>-0.017856</td>\n",
       "      <td>-9.208409e-02</td>\n",
       "      <td>9.871539e-01</td>\n",
       "      <td>9.519521e-01</td>\n",
       "      <td>1.000000e+00</td>\n",
       "      <td>9.277567e-01</td>\n",
       "      <td>9.517787e-01</td>\n",
       "      <td>9.439881e-01</td>\n",
       "      <td>9.004960e-01</td>\n",
       "      <td>5.047183e-01</td>\n",
       "      <td>-3.045811e-16</td>\n",
       "      <td>-7.254036e-03</td>\n",
       "      <td>0.106535</td>\n",
       "    </tr>\n",
       "    <tr>\n",
       "      <th>4770</th>\n",
       "      <td>0.075647</td>\n",
       "      <td>-0.008330</td>\n",
       "      <td>-1.005665e-01</td>\n",
       "      <td>9.343468e-01</td>\n",
       "      <td>8.985705e-01</td>\n",
       "      <td>9.277567e-01</td>\n",
       "      <td>1.000000e+00</td>\n",
       "      <td>9.264054e-01</td>\n",
       "      <td>9.236070e-01</td>\n",
       "      <td>8.405225e-01</td>\n",
       "      <td>6.460527e-01</td>\n",
       "      <td>1.611544e-16</td>\n",
       "      <td>2.922175e-02</td>\n",
       "      <td>0.068193</td>\n",
       "    </tr>\n",
       "    <tr>\n",
       "      <th>Total Bags</th>\n",
       "      <td>0.081007</td>\n",
       "      <td>-0.005588</td>\n",
       "      <td>-1.115968e-01</td>\n",
       "      <td>9.676892e-01</td>\n",
       "      <td>9.303953e-01</td>\n",
       "      <td>9.517787e-01</td>\n",
       "      <td>9.264054e-01</td>\n",
       "      <td>1.000000e+00</td>\n",
       "      <td>9.973413e-01</td>\n",
       "      <td>9.113358e-01</td>\n",
       "      <td>6.018562e-01</td>\n",
       "      <td>5.415337e-16</td>\n",
       "      <td>9.010785e-02</td>\n",
       "      <td>0.093827</td>\n",
       "    </tr>\n",
       "    <tr>\n",
       "      <th>Small Bags</th>\n",
       "      <td>0.083485</td>\n",
       "      <td>-0.002876</td>\n",
       "      <td>-9.768201e-02</td>\n",
       "      <td>9.606418e-01</td>\n",
       "      <td>9.222784e-01</td>\n",
       "      <td>9.439881e-01</td>\n",
       "      <td>9.236070e-01</td>\n",
       "      <td>9.973413e-01</td>\n",
       "      <td>1.000000e+00</td>\n",
       "      <td>8.791314e-01</td>\n",
       "      <td>6.113004e-01</td>\n",
       "      <td>-3.295303e-16</td>\n",
       "      <td>1.063820e-01</td>\n",
       "      <td>0.083284</td>\n",
       "    </tr>\n",
       "    <tr>\n",
       "      <th>Large Bags</th>\n",
       "      <td>0.065364</td>\n",
       "      <td>-0.020438</td>\n",
       "      <td>-1.774802e-01</td>\n",
       "      <td>9.102257e-01</td>\n",
       "      <td>8.842287e-01</td>\n",
       "      <td>9.004960e-01</td>\n",
       "      <td>8.405225e-01</td>\n",
       "      <td>9.113358e-01</td>\n",
       "      <td>8.791314e-01</td>\n",
       "      <td>1.000000e+00</td>\n",
       "      <td>4.477790e-01</td>\n",
       "      <td>4.423608e-16</td>\n",
       "      <td>-1.867835e-02</td>\n",
       "      <td>0.146889</td>\n",
       "    </tr>\n",
       "    <tr>\n",
       "      <th>XLarge Bags</th>\n",
       "      <td>-0.050993</td>\n",
       "      <td>0.005733</td>\n",
       "      <td>-4.828395e-02</td>\n",
       "      <td>5.217167e-01</td>\n",
       "      <td>4.740631e-01</td>\n",
       "      <td>5.047183e-01</td>\n",
       "      <td>6.460527e-01</td>\n",
       "      <td>6.018562e-01</td>\n",
       "      <td>6.113004e-01</td>\n",
       "      <td>4.477790e-01</td>\n",
       "      <td>1.000000e+00</td>\n",
       "      <td>1.272376e-15</td>\n",
       "      <td>2.183418e-01</td>\n",
       "      <td>-0.022787</td>\n",
       "    </tr>\n",
       "    <tr>\n",
       "      <th>type</th>\n",
       "      <td>NaN</td>\n",
       "      <td>0.861086</td>\n",
       "      <td>-1.176882e-15</td>\n",
       "      <td>2.950134e-16</td>\n",
       "      <td>-9.541918e-17</td>\n",
       "      <td>-3.045811e-16</td>\n",
       "      <td>1.611544e-16</td>\n",
       "      <td>5.415337e-16</td>\n",
       "      <td>-3.295303e-16</td>\n",
       "      <td>4.423608e-16</td>\n",
       "      <td>1.272376e-15</td>\n",
       "      <td>1.000000e+00</td>\n",
       "      <td>1.364522e-13</td>\n",
       "      <td>0.869561</td>\n",
       "    </tr>\n",
       "    <tr>\n",
       "      <th>year</th>\n",
       "      <td>-0.012854</td>\n",
       "      <td>0.011567</td>\n",
       "      <td>1.786833e-01</td>\n",
       "      <td>-4.188663e-03</td>\n",
       "      <td>-4.043896e-02</td>\n",
       "      <td>-7.254036e-03</td>\n",
       "      <td>2.922175e-02</td>\n",
       "      <td>9.010785e-02</td>\n",
       "      <td>1.063820e-01</td>\n",
       "      <td>-1.867835e-02</td>\n",
       "      <td>2.183418e-01</td>\n",
       "      <td>1.364522e-13</td>\n",
       "      <td>1.000000e+00</td>\n",
       "      <td>-0.232331</td>\n",
       "    </tr>\n",
       "    <tr>\n",
       "      <th>region</th>\n",
       "      <td>0.012123</td>\n",
       "      <td>0.742238</td>\n",
       "      <td>-1.132874e-01</td>\n",
       "      <td>1.168287e-01</td>\n",
       "      <td>1.330763e-01</td>\n",
       "      <td>1.065346e-01</td>\n",
       "      <td>6.819349e-02</td>\n",
       "      <td>9.382737e-02</td>\n",
       "      <td>8.328364e-02</td>\n",
       "      <td>1.468895e-01</td>\n",
       "      <td>-2.278726e-02</td>\n",
       "      <td>8.695613e-01</td>\n",
       "      <td>-2.323309e-01</td>\n",
       "      <td>1.000000</td>\n",
       "    </tr>\n",
       "  </tbody>\n",
       "</table>\n",
       "</div>"
      ],
      "text/plain": [
       "              Unnamed: 0      Date  AveragePrice  Total Volume          4046  \\\n",
       "Unnamed: 0      1.000000 -0.145600 -7.553138e-02  9.193428e-02  9.201312e-02   \n",
       "Date           -0.145600  1.000000  4.727847e-02 -1.259280e-02 -1.056221e-02   \n",
       "AveragePrice   -0.075531  0.047278  1.000000e+00 -1.404703e-01 -1.900958e-01   \n",
       "Total Volume    0.091934 -0.012593 -1.404703e-01  1.000000e+00  9.855681e-01   \n",
       "4046            0.092013 -0.010562 -1.900958e-01  9.855681e-01  1.000000e+00   \n",
       "4225            0.093566 -0.017856 -9.208409e-02  9.871539e-01  9.519521e-01   \n",
       "4770            0.075647 -0.008330 -1.005665e-01  9.343468e-01  8.985705e-01   \n",
       "Total Bags      0.081007 -0.005588 -1.115968e-01  9.676892e-01  9.303953e-01   \n",
       "Small Bags      0.083485 -0.002876 -9.768201e-02  9.606418e-01  9.222784e-01   \n",
       "Large Bags      0.065364 -0.020438 -1.774802e-01  9.102257e-01  8.842287e-01   \n",
       "XLarge Bags    -0.050993  0.005733 -4.828395e-02  5.217167e-01  4.740631e-01   \n",
       "type                 NaN  0.861086 -1.176882e-15  2.950134e-16 -9.541918e-17   \n",
       "year           -0.012854  0.011567  1.786833e-01 -4.188663e-03 -4.043896e-02   \n",
       "region          0.012123  0.742238 -1.132874e-01  1.168287e-01  1.330763e-01   \n",
       "\n",
       "                      4225          4770    Total Bags    Small Bags  \\\n",
       "Unnamed: 0    9.356639e-02  7.564678e-02  8.100683e-02  8.348484e-02   \n",
       "Date         -1.785601e-02 -8.329765e-03 -5.587880e-03 -2.876063e-03   \n",
       "AveragePrice -9.208409e-02 -1.005665e-01 -1.115968e-01 -9.768201e-02   \n",
       "Total Volume  9.871539e-01  9.343468e-01  9.676892e-01  9.606418e-01   \n",
       "4046          9.519521e-01  8.985705e-01  9.303953e-01  9.222784e-01   \n",
       "4225          1.000000e+00  9.277567e-01  9.517787e-01  9.439881e-01   \n",
       "4770          9.277567e-01  1.000000e+00  9.264054e-01  9.236070e-01   \n",
       "Total Bags    9.517787e-01  9.264054e-01  1.000000e+00  9.973413e-01   \n",
       "Small Bags    9.439881e-01  9.236070e-01  9.973413e-01  1.000000e+00   \n",
       "Large Bags    9.004960e-01  8.405225e-01  9.113358e-01  8.791314e-01   \n",
       "XLarge Bags   5.047183e-01  6.460527e-01  6.018562e-01  6.113004e-01   \n",
       "type         -3.045811e-16  1.611544e-16  5.415337e-16 -3.295303e-16   \n",
       "year         -7.254036e-03  2.922175e-02  9.010785e-02  1.063820e-01   \n",
       "region        1.065346e-01  6.819349e-02  9.382737e-02  8.328364e-02   \n",
       "\n",
       "                Large Bags   XLarge Bags          type          year    region  \n",
       "Unnamed: 0    6.536353e-02 -5.099340e-02           NaN -1.285383e-02  0.012123  \n",
       "Date         -2.043755e-02  5.732510e-03  8.610857e-01  1.156749e-02  0.742238  \n",
       "AveragePrice -1.774802e-01 -4.828395e-02 -1.176882e-15  1.786833e-01 -0.113287  \n",
       "Total Volume  9.102257e-01  5.217167e-01  2.950134e-16 -4.188663e-03  0.116829  \n",
       "4046          8.842287e-01  4.740631e-01 -9.541918e-17 -4.043896e-02  0.133076  \n",
       "4225          9.004960e-01  5.047183e-01 -3.045811e-16 -7.254036e-03  0.106535  \n",
       "4770          8.405225e-01  6.460527e-01  1.611544e-16  2.922175e-02  0.068193  \n",
       "Total Bags    9.113358e-01  6.018562e-01  5.415337e-16  9.010785e-02  0.093827  \n",
       "Small Bags    8.791314e-01  6.113004e-01 -3.295303e-16  1.063820e-01  0.083284  \n",
       "Large Bags    1.000000e+00  4.477790e-01  4.423608e-16 -1.867835e-02  0.146889  \n",
       "XLarge Bags   4.477790e-01  1.000000e+00  1.272376e-15  2.183418e-01 -0.022787  \n",
       "type          4.423608e-16  1.272376e-15  1.000000e+00  1.364522e-13  0.869561  \n",
       "year         -1.867835e-02  2.183418e-01  1.364522e-13  1.000000e+00 -0.232331  \n",
       "region        1.468895e-01 -2.278726e-02  8.695613e-01 -2.323309e-01  1.000000  "
      ]
     },
     "execution_count": 16,
     "metadata": {},
     "output_type": "execute_result"
    }
   ],
   "source": [
    "df.corr()"
   ]
  },
  {
   "cell_type": "code",
   "execution_count": 17,
   "metadata": {},
   "outputs": [],
   "source": [
    "import matplotlib.pyplot as plt"
   ]
  },
  {
   "cell_type": "markdown",
   "metadata": {},
   "source": [
    "# Heatmap"
   ]
  },
  {
   "cell_type": "code",
   "execution_count": 18,
   "metadata": {},
   "outputs": [
    {
     "data": {
      "text/plain": [
       "<AxesSubplot:>"
      ]
     },
     "execution_count": 18,
     "metadata": {},
     "output_type": "execute_result"
    },
    {
     "data": {
      "image/png": "[encoded data removed]",
      "text/plain": [
       "<Figure size 1584x504 with 2 Axes>"
      ]
     },
     "metadata": {
      "needs_background": "light"
     },
     "output_type": "display_data"
    }
   ],
   "source": [
    "plt.figure(figsize=(22,7))\n",
    "sns.heatmap(df.describe(),annot=True,linewidths=0.1,linecolor=\"black\",fmt=\"0.2f\")"
   ]
  },
  {
   "cell_type": "code",
   "execution_count": 19,
   "metadata": {},
   "outputs": [
    {
     "data": {
      "text/plain": [
       "<AxesSubplot:>"
      ]
     },
     "execution_count": 19,
     "metadata": {},
     "output_type": "execute_result"
    },
    {
     "data": {
      "image/png": "[encoded data removed]",
      "text/plain": [
       "<Figure size 1584x504 with 2 Axes>"
      ]
     },
     "metadata": {
      "needs_background": "light"
     },
     "output_type": "display_data"
    }
   ],
   "source": [
    "plt.figure(figsize=(22,7))\n",
    "sns.heatmap(df.corr(),annot=True,linewidths=0.1,linecolor=\"black\",fmt=\"0.2f\")"
   ]
  },
  {
   "cell_type": "code",
   "execution_count": 20,
   "metadata": {},
   "outputs": [
    {
     "data": {
      "image/png": "[encoded data removed]",
      "text/plain": [
       "<Figure size 1584x504 with 1 Axes>"
      ]
     },
     "metadata": {
      "needs_background": "light"
     },
     "output_type": "display_data"
    }
   ],
   "source": [
    "plt.figure(figsize=(22,7))\n",
    "df.corr()['AveragePrice'].sort_values(ascending=False).drop(['AveragePrice']).plot(kind='bar',color='c')\n",
    "plt.xlabel('Feature',fontsize=14)\n",
    "plt.ylabel('column with target names',fontsize=14)\n",
    "plt.title('correlation',fontsize=18)\n",
    "plt.show()"
   ]
  },
  {
   "cell_type": "code",
   "execution_count": 21,
   "metadata": {},
   "outputs": [],
   "source": [
    "df=df.dropna()"
   ]
  },
  {
   "cell_type": "code",
   "execution_count": 22,
   "metadata": {},
   "outputs": [
    {
     "data": {
      "text/plain": [
       "<AxesSubplot:>"
      ]
     },
     "execution_count": 22,
     "metadata": {},
     "output_type": "execute_result"
    },
    {
     "data": {
      "image/png": "[encoded data removed]",
      "text/plain": [
       "<Figure size 432x288 with 2 Axes>"
      ]
     },
     "metadata": {
      "needs_background": "light"
     },
     "output_type": "display_data"
    }
   ],
   "source": [
    "sns.heatmap(df.corr(),cmap='Blues',annot=True)"
   ]
  },
  {
   "cell_type": "markdown",
   "metadata": {},
   "source": [
    "# Outlier"
   ]
  },
  {
   "cell_type": "code",
   "execution_count": 24,
   "metadata": {},
   "outputs": [
    {
     "name": "stderr",
     "output_type": "stream",
     "text": [
      "C:\\Users\\bisue\\anaconda2\\lib\\site-packages\\scipy\\stats\\stats.py:2500: RuntimeWarning: invalid value encountered in true_divide\n",
      "  return (a - mns) / sstd\n"
     ]
    },
    {
     "data": {
      "text/plain": [
       "(array([ 398,  401,  409,  412,  412,  760, 1016, 1017, 1059, 1182, 1182,\n",
       "        1182, 1182, 1182, 1182, 1182, 1182, 1183, 1183, 1183, 1183, 1183,\n",
       "        1183, 1183, 1184, 1184, 1184, 1184, 1184, 1184, 1184, 1184, 1185,\n",
       "        1185, 1185, 1185, 1185, 1185, 1185, 1186, 1186, 1186, 1186, 1186,\n",
       "        1186, 1186, 1187, 1187, 1187, 1187, 1187, 1187, 1187, 1187, 1188,\n",
       "        1188, 1188, 1188, 1188, 1188, 1188, 1189, 1189, 1189, 1189, 1189,\n",
       "        1189, 1189, 1189, 1190, 1190, 1190, 1190, 1190, 1190, 1190, 1190,\n",
       "        1191, 1191, 1191, 1191, 1191, 1191, 1191, 1191, 1192, 1192, 1192,\n",
       "        1192, 1192, 1192, 1192, 1193, 1193, 1193, 1193, 1193, 1193, 1193,\n",
       "        1194, 1194, 1194, 1194, 1194, 1194, 1194, 1195, 1195, 1195, 1195,\n",
       "        1195, 1195, 1195, 1195, 1196, 1196, 1196, 1196, 1196, 1196, 1196,\n",
       "        1197, 1197, 1197, 1197, 1197, 1197, 1197, 1198, 1198, 1198, 1198,\n",
       "        1198, 1198, 1198, 1198, 1199, 1199, 1199, 1199, 1199, 1199, 1199,\n",
       "        1200, 1200, 1200, 1200, 1200, 1200, 1200, 1201, 1201, 1201, 1201,\n",
       "        1201, 1201, 1201, 1202, 1202, 1202, 1202, 1202, 1202, 1202, 1202,\n",
       "        1203, 1203, 1203, 1203, 1203, 1203, 1203, 1204, 1204, 1204, 1204,\n",
       "        1204, 1204, 1204, 1205, 1205, 1205, 1205, 1205, 1205, 1205, 1206,\n",
       "        1206, 1206, 1206, 1206, 1206, 1206, 1207, 1208, 1209, 1210, 1212,\n",
       "        1213, 1215, 1216, 1217, 1218, 1222, 1411, 1450, 1451, 1452, 1453,\n",
       "        1454, 1455, 1456, 1457, 1457, 1458, 1459, 1460, 1461, 1462, 1463,\n",
       "        1464, 1465, 1466, 1467, 1468, 1469, 1470, 1471, 1472, 1473, 1474,\n",
       "        1475, 1476, 1477, 1478, 1479, 1480, 1481, 1483, 1483, 1484, 1495,\n",
       "        1496, 1496], dtype=int64),\n",
       " array([10, 10, 10,  6, 10,  2, 10, 10,  9,  3,  4,  5,  6,  7,  8,  9, 10,\n",
       "         3,  4,  5,  6,  7,  8,  9,  3,  4,  5,  6,  7,  8,  9, 10,  3,  4,\n",
       "         5,  6,  7,  8,  9,  3,  4,  5,  6,  7,  8,  9,  3,  4,  5,  6,  7,\n",
       "         8,  9, 10,  3,  4,  5,  6,  7,  8,  9,  3,  4,  5,  6,  7,  8,  9,\n",
       "        10,  3,  4,  5,  6,  7,  8,  9, 10,  3,  4,  5,  6,  7,  8,  9, 10,\n",
       "         3,  4,  5,  6,  7,  8,  9,  3,  4,  5,  6,  7,  8,  9,  3,  4,  5,\n",
       "         6,  7,  8,  9,  3,  4,  5,  6,  7,  8,  9, 10,  3,  4,  5,  6,  7,\n",
       "         8,  9,  3,  4,  5,  6,  7,  8,  9,  3,  4,  5,  6,  7,  8,  9, 10,\n",
       "         3,  4,  5,  6,  7,  8,  9,  3,  4,  5,  6,  7,  8,  9,  3,  4,  5,\n",
       "         6,  7,  8,  9,  3,  4,  5,  6,  7,  8,  9, 10,  3,  4,  5,  6,  7,\n",
       "         8,  9,  3,  4,  5,  6,  7,  8,  9,  3,  4,  5,  6,  7,  8,  9,  3,\n",
       "         4,  5,  6,  7,  8,  9,  9,  9,  9,  9,  9,  9,  9,  9,  9,  9,  9,\n",
       "         2, 10, 10, 10, 10, 10, 10, 10,  2, 10,  2, 10, 10, 10, 10, 10, 10,\n",
       "        10, 10, 10, 10, 10, 10, 10, 10, 10, 10, 10, 10, 10, 10, 10, 10, 10,\n",
       "         9, 10,  9,  8,  7,  8], dtype=int64))"
      ]
     },
     "execution_count": 24,
     "metadata": {},
     "output_type": "execute_result"
    }
   ],
   "source": [
    "from scipy.stats import zscore\n",
    "import numpy as np\n",
    "z=np.abs(zscore(df))\n",
    "threshold=3\n",
    "np.where(z>3)"
   ]
  },
  {
   "cell_type": "code",
   "execution_count": 25,
   "metadata": {},
   "outputs": [
    {
     "data": {
      "text/html": [
       "<div>\n",
       "<style scoped>\n",
       "    .dataframe tbody tr th:only-of-type {\n",
       "        vertical-align: middle;\n",
       "    }\n",
       "\n",
       "    .dataframe tbody tr th {\n",
       "        vertical-align: top;\n",
       "    }\n",
       "\n",
       "    .dataframe thead th {\n",
       "        text-align: right;\n",
       "    }\n",
       "</style>\n",
       "<table border=\"1\" class=\"dataframe\">\n",
       "  <thead>\n",
       "    <tr style=\"text-align: right;\">\n",
       "      <th></th>\n",
       "      <th>Unnamed: 0</th>\n",
       "      <th>Date</th>\n",
       "      <th>AveragePrice</th>\n",
       "      <th>Total Volume</th>\n",
       "      <th>4046</th>\n",
       "      <th>4225</th>\n",
       "      <th>4770</th>\n",
       "      <th>Total Bags</th>\n",
       "      <th>Small Bags</th>\n",
       "      <th>Large Bags</th>\n",
       "      <th>XLarge Bags</th>\n",
       "      <th>type</th>\n",
       "      <th>year</th>\n",
       "      <th>region</th>\n",
       "    </tr>\n",
       "  </thead>\n",
       "  <tbody>\n",
       "  </tbody>\n",
       "</table>\n",
       "</div>"
      ],
      "text/plain": [
       "Empty DataFrame\n",
       "Columns: [Unnamed: 0, Date, AveragePrice, Total Volume, 4046, 4225, 4770, Total Bags, Small Bags, Large Bags, XLarge Bags, type, year, region]\n",
       "Index: []"
      ]
     },
     "execution_count": 25,
     "metadata": {},
     "output_type": "execute_result"
    }
   ],
   "source": [
    "df_new_z=df[(z<3).all(axis=1)]\n",
    "df_new_z"
   ]
  },
  {
   "cell_type": "code",
   "execution_count": 26,
   "metadata": {},
   "outputs": [],
   "source": [
    "features=df.drop(\"AveragePrice\",axis=1)\n",
    "target=df[\"AveragePrice\"]"
   ]
  },
  {
   "cell_type": "markdown",
   "metadata": {},
   "source": [
    "# Features and Target"
   ]
  },
  {
   "cell_type": "code",
   "execution_count": 27,
   "metadata": {},
   "outputs": [],
   "source": [
    "x= features\n",
    "y=target"
   ]
  },
  {
   "cell_type": "code",
   "execution_count": 28,
   "metadata": {},
   "outputs": [],
   "source": [
    "import sklearn\n",
    "from sklearn.preprocessing import StandardScaler\n",
    "import seaborn as sns\n",
    "from sklearn.model_selection import train_test_split\n",
    "from sklearn.linear_model import LinearRegression\n",
    "from sklearn.metrics import mean_squared_error,mean_absolute_error,r2_score\n",
    "import warnings\n",
    "warnings.filterwarnings('ignore')"
   ]
  },
  {
   "cell_type": "code",
   "execution_count": 29,
   "metadata": {},
   "outputs": [
    {
     "data": {
      "text/plain": [
       "array([[-1.81868039,  1.37776563, -0.34696593, ...,  0.        ,\n",
       "        -0.44100815, -1.3143384 ],\n",
       "       [-1.75131034,  0.57857991, -0.34907791, ...,  0.        ,\n",
       "        -0.44100815, -1.3143384 ],\n",
       "       [-1.6839403 , -0.22060582, -0.33478463, ...,  0.        ,\n",
       "        -0.44100815, -1.3143384 ],\n",
       "       ...,\n",
       "       [-1.01023983, -1.51928262, -0.32120275, ...,  0.        ,\n",
       "         2.26753179, -0.88028586],\n",
       "       [-0.94286978,  1.07807099, -0.31878364, ...,  0.        ,\n",
       "         2.26753179, -0.88028586],\n",
       "       [-0.87549974,  0.27888526, -0.3201721 , ...,  0.        ,\n",
       "         2.26753179, -0.88028586]])"
      ]
     },
     "execution_count": 29,
     "metadata": {},
     "output_type": "execute_result"
    }
   ],
   "source": [
    "scale=StandardScaler()\n",
    "x=scale.fit_transform(x)\n",
    "x"
   ]
  },
  {
   "cell_type": "code",
   "execution_count": 30,
   "metadata": {},
   "outputs": [],
   "source": [
    "xtrain,xtest,ytrain,ytest=train_test_split(x,y,test_size=0.30,random_state=55)"
   ]
  },
  {
   "cell_type": "code",
   "execution_count": 31,
   "metadata": {},
   "outputs": [
    {
     "data": {
      "text/plain": [
       "array([-0.01235016,  0.02095474,  0.00076159, -0.17259876,  0.20043729,\n",
       "       -0.02108388,  0.00939881,  0.02130338, -0.05580539, -0.00969528,\n",
       "        0.        ,  0.01610694, -0.01628214])"
      ]
     },
     "execution_count": 31,
     "metadata": {},
     "output_type": "execute_result"
    }
   ],
   "source": [
    "lr=LinearRegression()\n",
    "lr.fit(xtrain,ytrain)\n",
    "lr.coef_"
   ]
  },
  {
   "cell_type": "code",
   "execution_count": 32,
   "metadata": {},
   "outputs": [
    {
     "data": {
      "text/plain": [
       "[(-0.012350164161259673, 'Unnamed: 0'),\n",
       " (0.020954743818753507, 'Date'),\n",
       " (0.0007615861006626092, 'Total Volume'),\n",
       " (-0.17259875566952632, '4046'),\n",
       " (0.20043729225376974, '4225'),\n",
       " (-0.021083882886277192, '4770'),\n",
       " (0.009398814087533954, 'Total Bags'),\n",
       " (0.021303379035055452, 'Small Bags'),\n",
       " (-0.055805388167663034, 'Large Bags'),\n",
       " (-0.009695280361099972, 'XLarge Bags'),\n",
       " (0.0, 'type'),\n",
       " (0.016106939497090154, 'year'),\n",
       " (-0.016282139787971057, 'region')]"
      ]
     },
     "execution_count": 32,
     "metadata": {},
     "output_type": "execute_result"
    }
   ],
   "source": [
    "list(zip(lr.coef_,features))"
   ]
  },
  {
   "cell_type": "code",
   "execution_count": 33,
   "metadata": {},
   "outputs": [
    {
     "data": {
      "text/plain": [
       "1.0753685552063388"
      ]
     },
     "execution_count": 33,
     "metadata": {},
     "output_type": "execute_result"
    }
   ],
   "source": [
    "lr.intercept_"
   ]
  },
  {
   "cell_type": "code",
   "execution_count": 34,
   "metadata": {},
   "outputs": [
    {
     "data": {
      "text/plain": [
       "0.16603382656870647"
      ]
     },
     "execution_count": 34,
     "metadata": {},
     "output_type": "execute_result"
    }
   ],
   "source": [
    "lr.score(xtrain,ytrain)"
   ]
  },
  {
   "cell_type": "code",
   "execution_count": 35,
   "metadata": {},
   "outputs": [
    {
     "data": {
      "text/plain": [
       "array([1.07325031, 1.05327277, 1.09659832, 1.0952782 , 1.022936  ,\n",
       "       1.11205282, 1.03899406, 1.02013943, 1.04494688, 1.16400724,\n",
       "       1.06449974, 1.06936675, 1.02574544, 1.04470653, 1.00794116,\n",
       "       1.02934863, 1.07847862, 1.04770311, 1.10536522, 1.12094089,\n",
       "       1.0389376 , 1.06948265, 1.14771959, 1.11812922, 1.09539879,\n",
       "       1.1607244 , 1.09745799, 1.00577548, 1.0536659 , 1.04018374,\n",
       "       1.07566187, 1.15639952, 1.09118512, 1.04008078, 1.13913852,\n",
       "       1.07879672, 1.25289271, 1.1917561 , 1.07092492, 1.22254576,\n",
       "       0.82764316, 1.01411094, 1.17124946, 1.18984644, 1.1786134 ,\n",
       "       1.06901751, 1.1326631 , 1.00089418, 1.06265963, 1.13562299,\n",
       "       1.41619646, 1.07712527, 0.90687312, 1.12505138, 1.07413185,\n",
       "       1.15574768, 1.09541477, 1.12816436, 1.07847655, 1.0049753 ,\n",
       "       1.06285195, 1.17205308, 1.05407535, 1.16277181, 0.98450079,\n",
       "       1.05834056, 1.07785004, 0.98858915, 0.96200281, 1.1417806 ,\n",
       "       1.03456719, 1.14833344, 1.1684428 , 1.12580416, 1.11109526,\n",
       "       1.11497296, 1.06074307, 1.04418576, 1.06499355, 1.04384358,\n",
       "       1.12966422, 1.21011111, 1.0781732 , 1.06744061, 1.04758813,\n",
       "       1.1147363 , 0.98439584, 1.09576583, 1.08948912, 1.08893584,\n",
       "       1.00573122, 1.05416735, 0.87669947, 1.0779614 , 1.18658105,\n",
       "       1.04273911, 1.03472342, 1.04699055, 1.13302917, 1.28716436,\n",
       "       1.10977466, 1.05071196, 1.170266  , 1.05500128, 1.06975562,\n",
       "       0.97056818, 0.98064081, 1.02164359, 1.09794109, 1.14077833,\n",
       "       1.0690839 , 1.05731764, 1.00905827, 1.08816805, 1.16312884,\n",
       "       1.06893778, 1.04794564, 1.07620295, 1.04570687, 1.01538846,\n",
       "       1.08377841, 0.98130449, 1.18072399, 1.06201412, 1.08291251,\n",
       "       1.08122462, 1.06543002, 1.09468201, 1.05229041, 1.15444988,\n",
       "       1.0561804 , 1.07063786, 1.08555027, 1.03913257, 1.04228453,\n",
       "       1.02640782, 1.05895454, 0.96063132, 1.05159761, 1.16298612,\n",
       "       1.10718537, 0.82502334, 1.14353502, 1.0321168 , 1.15091788,\n",
       "       1.15725195, 0.98767126, 1.13732256, 1.12464671, 1.0786123 ,\n",
       "       1.34111089, 1.01768627, 1.02022816, 1.15182855, 1.06250457,\n",
       "       1.12502812, 1.09645592, 0.99145996, 1.2288977 , 1.05349773,\n",
       "       1.12171489, 1.05499733, 1.07836184, 1.02154728, 1.109846  ,\n",
       "       1.09829515, 1.07680137, 1.18578252, 1.04619062, 1.05758608,\n",
       "       0.85879947, 1.0574457 , 0.97341402, 1.03051359, 0.93108816,\n",
       "       1.03763243, 1.00699975, 1.14140966, 1.21634414, 1.14021223,\n",
       "       1.17249961, 1.02322285, 1.12515829, 1.1219452 , 0.91270027,\n",
       "       1.20017501, 1.07635593, 1.01911284, 0.82706768, 1.06741592,\n",
       "       1.09736474, 1.13898718, 1.18018699, 1.11223558, 1.10499479,\n",
       "       1.1010285 , 1.11038783, 1.04203557, 1.02523101, 1.14268231,\n",
       "       1.15518178, 1.14855426, 1.03736058, 1.08047842, 1.18510532,\n",
       "       1.19141023, 1.158554  , 1.11194478, 1.00609616, 1.06071719,\n",
       "       0.99024448, 1.01344272, 1.11996055, 0.95182637, 1.04729594,\n",
       "       1.08723766, 0.99595061, 1.10068547, 1.05573972, 1.01503513,\n",
       "       1.1137444 , 1.08989545, 1.06977823, 1.05422389, 1.14083027,\n",
       "       1.12375491, 1.18217136, 1.19289027, 0.77993854, 1.03756116,\n",
       "       0.83460227, 1.11746623, 1.10888394, 1.11703081, 1.10351921,\n",
       "       1.15850004, 1.07168546, 1.05891109, 1.05601503, 1.09817362,\n",
       "       1.10314016, 1.17480085, 1.11973172, 0.92497285, 1.08763933,\n",
       "       1.12881885, 1.21516909, 1.11220585, 1.06446994, 1.10991649,\n",
       "       1.09200632, 1.10672875, 1.01651749, 1.15401618, 1.04821723,\n",
       "       1.15039183, 1.05035908, 0.96963142, 1.08411189, 1.14972313,\n",
       "       1.17931032, 1.17740747, 1.04833751, 1.06204573, 1.10918097,\n",
       "       1.0597984 , 1.04868684, 0.81807803, 1.11633177, 1.15735634,\n",
       "       1.08973347, 1.0853383 , 1.03225678, 1.07272234, 1.0894605 ,\n",
       "       1.09833152, 1.06576957, 1.0568094 , 1.12271564, 1.04883835,\n",
       "       1.0382374 , 1.05715036, 0.86215242, 1.08301774, 0.99852366,\n",
       "       0.86650049, 1.17933088, 1.14483289, 1.35708775, 1.09031984,\n",
       "       0.86092822, 1.07262297, 1.10465674, 1.12882677, 1.06429052,\n",
       "       0.94877917, 1.07099453, 1.07008898, 1.04479193, 1.00953252,\n",
       "       0.96786976, 1.10255753, 0.96662146, 1.10387773, 0.99508571,\n",
       "       1.11198624, 1.12055622, 1.13971491, 1.04534903, 0.86233172,\n",
       "       1.12070022, 1.07763659, 1.04183449, 1.16972825, 1.19612195,\n",
       "       1.04143524, 1.06343917, 1.05618595, 1.09073871, 1.1194808 ,\n",
       "       1.13634186, 1.13451348, 1.16076544, 1.06497081, 1.02884664,\n",
       "       1.02652668, 1.15271538, 1.05311584, 1.10064898, 1.08780479,\n",
       "       1.08230382, 1.02236059, 1.06978363, 0.99425957, 1.17679481,\n",
       "       1.18309726, 1.1060935 , 1.08028636, 1.00425036, 1.1748776 ,\n",
       "       1.03355004, 1.03062354, 1.05584502, 1.11159688, 1.065278  ,\n",
       "       1.09629081, 1.26854679, 1.06243484, 1.06595739, 1.07377105,\n",
       "       1.0657932 , 1.12116283, 1.06479903, 1.13967058, 1.04175864,\n",
       "       1.09514738, 1.02375073, 1.03463699, 1.01259408, 0.93322227,\n",
       "       1.05630917, 1.07628398, 1.07380161, 0.90105728, 1.0452215 ,\n",
       "       0.92246503, 1.02854958, 1.06732674, 1.06699856, 1.03563073,\n",
       "       1.13600578, 1.0595611 , 0.99208808, 1.09637961, 1.06702378,\n",
       "       1.00150149, 1.07790359, 1.22477954, 1.13328115, 1.02266242,\n",
       "       1.1441053 , 1.06840374, 1.0549341 , 1.16216673, 1.15809764,\n",
       "       1.18158647, 1.10792882, 1.03639914, 1.21260942, 1.1304275 ,\n",
       "       1.14598454, 0.99446919, 0.97287061, 1.22778211, 0.99361312,\n",
       "       1.18409353, 1.09094064, 1.01694447, 0.81249633, 1.20855565,\n",
       "       1.07345116, 1.07875276, 1.05327813, 1.0394529 , 1.07733893,\n",
       "       1.14742522, 1.03624132, 1.09060894, 1.15935715, 1.06599346,\n",
       "       1.08355762, 1.08562254, 1.1755186 , 1.12693228, 1.07683667,\n",
       "       1.06721527, 1.08495312, 1.00297616, 1.05288905, 1.04770462,\n",
       "       1.06291912, 0.94188503, 1.1046738 , 1.1672617 , 0.97515065,\n",
       "       0.89724464, 1.10384696, 1.18810931, 1.05231357, 1.00217595,\n",
       "       1.06394348, 1.01094803, 1.12418359, 1.08211573, 0.97164485,\n",
       "       0.90226167, 1.14509371, 1.31000329, 1.01987965, 1.08792986,\n",
       "       1.05207038, 0.94861129, 1.16433836, 1.12176988, 1.07320266,\n",
       "       0.99981269, 1.1014287 , 1.11003674, 1.18971387, 1.26105568,\n",
       "       1.09481908, 1.03441595, 1.07665596, 1.06923544, 1.10700519,\n",
       "       1.18407885])"
      ]
     },
     "execution_count": 35,
     "metadata": {},
     "output_type": "execute_result"
    }
   ],
   "source": [
    "pred=lr.predict(xtest)\n",
    "pred"
   ]
  },
  {
   "cell_type": "code",
   "execution_count": 36,
   "metadata": {},
   "outputs": [
    {
     "name": "stdout",
     "output_type": "stream",
     "text": [
      "Predicted values [1.07325031 1.05327277 1.09659832 1.0952782  1.022936   1.11205282\n",
      " 1.03899406 1.02013943 1.04494688 1.16400724 1.06449974 1.06936675\n",
      " 1.02574544 1.04470653 1.00794116 1.02934863 1.07847862 1.04770311\n",
      " 1.10536522 1.12094089 1.0389376  1.06948265 1.14771959 1.11812922\n",
      " 1.09539879 1.1607244  1.09745799 1.00577548 1.0536659  1.04018374\n",
      " 1.07566187 1.15639952 1.09118512 1.04008078 1.13913852 1.07879672\n",
      " 1.25289271 1.1917561  1.07092492 1.22254576 0.82764316 1.01411094\n",
      " 1.17124946 1.18984644 1.1786134  1.06901751 1.1326631  1.00089418\n",
      " 1.06265963 1.13562299 1.41619646 1.07712527 0.90687312 1.12505138\n",
      " 1.07413185 1.15574768 1.09541477 1.12816436 1.07847655 1.0049753\n",
      " 1.06285195 1.17205308 1.05407535 1.16277181 0.98450079 1.05834056\n",
      " 1.07785004 0.98858915 0.96200281 1.1417806  1.03456719 1.14833344\n",
      " 1.1684428  1.12580416 1.11109526 1.11497296 1.06074307 1.04418576\n",
      " 1.06499355 1.04384358 1.12966422 1.21011111 1.0781732  1.06744061\n",
      " 1.04758813 1.1147363  0.98439584 1.09576583 1.08948912 1.08893584\n",
      " 1.00573122 1.05416735 0.87669947 1.0779614  1.18658105 1.04273911\n",
      " 1.03472342 1.04699055 1.13302917 1.28716436 1.10977466 1.05071196\n",
      " 1.170266   1.05500128 1.06975562 0.97056818 0.98064081 1.02164359\n",
      " 1.09794109 1.14077833 1.0690839  1.05731764 1.00905827 1.08816805\n",
      " 1.16312884 1.06893778 1.04794564 1.07620295 1.04570687 1.01538846\n",
      " 1.08377841 0.98130449 1.18072399 1.06201412 1.08291251 1.08122462\n",
      " 1.06543002 1.09468201 1.05229041 1.15444988 1.0561804  1.07063786\n",
      " 1.08555027 1.03913257 1.04228453 1.02640782 1.05895454 0.96063132\n",
      " 1.05159761 1.16298612 1.10718537 0.82502334 1.14353502 1.0321168\n",
      " 1.15091788 1.15725195 0.98767126 1.13732256 1.12464671 1.0786123\n",
      " 1.34111089 1.01768627 1.02022816 1.15182855 1.06250457 1.12502812\n",
      " 1.09645592 0.99145996 1.2288977  1.05349773 1.12171489 1.05499733\n",
      " 1.07836184 1.02154728 1.109846   1.09829515 1.07680137 1.18578252\n",
      " 1.04619062 1.05758608 0.85879947 1.0574457  0.97341402 1.03051359\n",
      " 0.93108816 1.03763243 1.00699975 1.14140966 1.21634414 1.14021223\n",
      " 1.17249961 1.02322285 1.12515829 1.1219452  0.91270027 1.20017501\n",
      " 1.07635593 1.01911284 0.82706768 1.06741592 1.09736474 1.13898718\n",
      " 1.18018699 1.11223558 1.10499479 1.1010285  1.11038783 1.04203557\n",
      " 1.02523101 1.14268231 1.15518178 1.14855426 1.03736058 1.08047842\n",
      " 1.18510532 1.19141023 1.158554   1.11194478 1.00609616 1.06071719\n",
      " 0.99024448 1.01344272 1.11996055 0.95182637 1.04729594 1.08723766\n",
      " 0.99595061 1.10068547 1.05573972 1.01503513 1.1137444  1.08989545\n",
      " 1.06977823 1.05422389 1.14083027 1.12375491 1.18217136 1.19289027\n",
      " 0.77993854 1.03756116 0.83460227 1.11746623 1.10888394 1.11703081\n",
      " 1.10351921 1.15850004 1.07168546 1.05891109 1.05601503 1.09817362\n",
      " 1.10314016 1.17480085 1.11973172 0.92497285 1.08763933 1.12881885\n",
      " 1.21516909 1.11220585 1.06446994 1.10991649 1.09200632 1.10672875\n",
      " 1.01651749 1.15401618 1.04821723 1.15039183 1.05035908 0.96963142\n",
      " 1.08411189 1.14972313 1.17931032 1.17740747 1.04833751 1.06204573\n",
      " 1.10918097 1.0597984  1.04868684 0.81807803 1.11633177 1.15735634\n",
      " 1.08973347 1.0853383  1.03225678 1.07272234 1.0894605  1.09833152\n",
      " 1.06576957 1.0568094  1.12271564 1.04883835 1.0382374  1.05715036\n",
      " 0.86215242 1.08301774 0.99852366 0.86650049 1.17933088 1.14483289\n",
      " 1.35708775 1.09031984 0.86092822 1.07262297 1.10465674 1.12882677\n",
      " 1.06429052 0.94877917 1.07099453 1.07008898 1.04479193 1.00953252\n",
      " 0.96786976 1.10255753 0.96662146 1.10387773 0.99508571 1.11198624\n",
      " 1.12055622 1.13971491 1.04534903 0.86233172 1.12070022 1.07763659\n",
      " 1.04183449 1.16972825 1.19612195 1.04143524 1.06343917 1.05618595\n",
      " 1.09073871 1.1194808  1.13634186 1.13451348 1.16076544 1.06497081\n",
      " 1.02884664 1.02652668 1.15271538 1.05311584 1.10064898 1.08780479\n",
      " 1.08230382 1.02236059 1.06978363 0.99425957 1.17679481 1.18309726\n",
      " 1.1060935  1.08028636 1.00425036 1.1748776  1.03355004 1.03062354\n",
      " 1.05584502 1.11159688 1.065278   1.09629081 1.26854679 1.06243484\n",
      " 1.06595739 1.07377105 1.0657932  1.12116283 1.06479903 1.13967058\n",
      " 1.04175864 1.09514738 1.02375073 1.03463699 1.01259408 0.93322227\n",
      " 1.05630917 1.07628398 1.07380161 0.90105728 1.0452215  0.92246503\n",
      " 1.02854958 1.06732674 1.06699856 1.03563073 1.13600578 1.0595611\n",
      " 0.99208808 1.09637961 1.06702378 1.00150149 1.07790359 1.22477954\n",
      " 1.13328115 1.02266242 1.1441053  1.06840374 1.0549341  1.16216673\n",
      " 1.15809764 1.18158647 1.10792882 1.03639914 1.21260942 1.1304275\n",
      " 1.14598454 0.99446919 0.97287061 1.22778211 0.99361312 1.18409353\n",
      " 1.09094064 1.01694447 0.81249633 1.20855565 1.07345116 1.07875276\n",
      " 1.05327813 1.0394529  1.07733893 1.14742522 1.03624132 1.09060894\n",
      " 1.15935715 1.06599346 1.08355762 1.08562254 1.1755186  1.12693228\n",
      " 1.07683667 1.06721527 1.08495312 1.00297616 1.05288905 1.04770462\n",
      " 1.06291912 0.94188503 1.1046738  1.1672617  0.97515065 0.89724464\n",
      " 1.10384696 1.18810931 1.05231357 1.00217595 1.06394348 1.01094803\n",
      " 1.12418359 1.08211573 0.97164485 0.90226167 1.14509371 1.31000329\n",
      " 1.01987965 1.08792986 1.05207038 0.94861129 1.16433836 1.12176988\n",
      " 1.07320266 0.99981269 1.1014287  1.11003674 1.18971387 1.26105568\n",
      " 1.09481908 1.03441595 1.07665596 1.06923544 1.10700519 1.18407885]\n"
     ]
    }
   ],
   "source": [
    "print('Predicted values',pred)"
   ]
  },
  {
   "cell_type": "code",
   "execution_count": 37,
   "metadata": {},
   "outputs": [
    {
     "data": {
      "text/html": [
       "<div>\n",
       "<style scoped>\n",
       "    .dataframe tbody tr th:only-of-type {\n",
       "        vertical-align: middle;\n",
       "    }\n",
       "\n",
       "    .dataframe tbody tr th {\n",
       "        vertical-align: top;\n",
       "    }\n",
       "\n",
       "    .dataframe thead th {\n",
       "        text-align: right;\n",
       "    }\n",
       "</style>\n",
       "<table border=\"1\" class=\"dataframe\">\n",
       "  <thead>\n",
       "    <tr style=\"text-align: right;\">\n",
       "      <th></th>\n",
       "      <th>0</th>\n",
       "    </tr>\n",
       "  </thead>\n",
       "  <tbody>\n",
       "    <tr>\n",
       "      <th>0</th>\n",
       "      <td>1.073250</td>\n",
       "    </tr>\n",
       "    <tr>\n",
       "      <th>1</th>\n",
       "      <td>1.053273</td>\n",
       "    </tr>\n",
       "    <tr>\n",
       "      <th>2</th>\n",
       "      <td>1.096598</td>\n",
       "    </tr>\n",
       "    <tr>\n",
       "      <th>3</th>\n",
       "      <td>1.095278</td>\n",
       "    </tr>\n",
       "    <tr>\n",
       "      <th>4</th>\n",
       "      <td>1.022936</td>\n",
       "    </tr>\n",
       "    <tr>\n",
       "      <th>...</th>\n",
       "      <td>...</td>\n",
       "    </tr>\n",
       "    <tr>\n",
       "      <th>451</th>\n",
       "      <td>1.034416</td>\n",
       "    </tr>\n",
       "    <tr>\n",
       "      <th>452</th>\n",
       "      <td>1.076656</td>\n",
       "    </tr>\n",
       "    <tr>\n",
       "      <th>453</th>\n",
       "      <td>1.069235</td>\n",
       "    </tr>\n",
       "    <tr>\n",
       "      <th>454</th>\n",
       "      <td>1.107005</td>\n",
       "    </tr>\n",
       "    <tr>\n",
       "      <th>455</th>\n",
       "      <td>1.184079</td>\n",
       "    </tr>\n",
       "  </tbody>\n",
       "</table>\n",
       "<p>456 rows × 1 columns</p>\n",
       "</div>"
      ],
      "text/plain": [
       "            0\n",
       "0    1.073250\n",
       "1    1.053273\n",
       "2    1.096598\n",
       "3    1.095278\n",
       "4    1.022936\n",
       "..        ...\n",
       "451  1.034416\n",
       "452  1.076656\n",
       "453  1.069235\n",
       "454  1.107005\n",
       "455  1.184079\n",
       "\n",
       "[456 rows x 1 columns]"
      ]
     },
     "execution_count": 37,
     "metadata": {},
     "output_type": "execute_result"
    }
   ],
   "source": [
    "preddf=pd.DataFrame(data=pred)\n",
    "preddf"
   ]
  },
  {
   "cell_type": "code",
   "execution_count": 38,
   "metadata": {},
   "outputs": [
    {
     "data": {
      "text/plain": [
       "0.21686039490974007"
      ]
     },
     "execution_count": 38,
     "metadata": {},
     "output_type": "execute_result"
    }
   ],
   "source": [
    "lr.score(xtest,ytest)"
   ]
  },
  {
   "cell_type": "code",
   "execution_count": 39,
   "metadata": {},
   "outputs": [
    {
     "name": "stdout",
     "output_type": "stream",
     "text": [
      "R2 score:: 0.21686039490974007\n"
     ]
    }
   ],
   "source": [
    "print('R2 score::',r2_score(ytest,pred))"
   ]
  },
  {
   "cell_type": "code",
   "execution_count": 40,
   "metadata": {},
   "outputs": [
    {
     "name": "stdout",
     "output_type": "stream",
     "text": [
      "Predicted result: [1.07325031 1.05327277 1.09659832 1.0952782  1.022936   1.11205282\n",
      " 1.03899406 1.02013943 1.04494688 1.16400724 1.06449974 1.06936675\n",
      " 1.02574544 1.04470653 1.00794116 1.02934863 1.07847862 1.04770311\n",
      " 1.10536522 1.12094089 1.0389376  1.06948265 1.14771959 1.11812922\n",
      " 1.09539879 1.1607244  1.09745799 1.00577548 1.0536659  1.04018374\n",
      " 1.07566187 1.15639952 1.09118512 1.04008078 1.13913852 1.07879672\n",
      " 1.25289271 1.1917561  1.07092492 1.22254576 0.82764316 1.01411094\n",
      " 1.17124946 1.18984644 1.1786134  1.06901751 1.1326631  1.00089418\n",
      " 1.06265963 1.13562299 1.41619646 1.07712527 0.90687312 1.12505138\n",
      " 1.07413185 1.15574768 1.09541477 1.12816436 1.07847655 1.0049753\n",
      " 1.06285195 1.17205308 1.05407535 1.16277181 0.98450079 1.05834056\n",
      " 1.07785004 0.98858915 0.96200281 1.1417806  1.03456719 1.14833344\n",
      " 1.1684428  1.12580416 1.11109526 1.11497296 1.06074307 1.04418576\n",
      " 1.06499355 1.04384358 1.12966422 1.21011111 1.0781732  1.06744061\n",
      " 1.04758813 1.1147363  0.98439584 1.09576583 1.08948912 1.08893584\n",
      " 1.00573122 1.05416735 0.87669947 1.0779614  1.18658105 1.04273911\n",
      " 1.03472342 1.04699055 1.13302917 1.28716436 1.10977466 1.05071196\n",
      " 1.170266   1.05500128 1.06975562 0.97056818 0.98064081 1.02164359\n",
      " 1.09794109 1.14077833 1.0690839  1.05731764 1.00905827 1.08816805\n",
      " 1.16312884 1.06893778 1.04794564 1.07620295 1.04570687 1.01538846\n",
      " 1.08377841 0.98130449 1.18072399 1.06201412 1.08291251 1.08122462\n",
      " 1.06543002 1.09468201 1.05229041 1.15444988 1.0561804  1.07063786\n",
      " 1.08555027 1.03913257 1.04228453 1.02640782 1.05895454 0.96063132\n",
      " 1.05159761 1.16298612 1.10718537 0.82502334 1.14353502 1.0321168\n",
      " 1.15091788 1.15725195 0.98767126 1.13732256 1.12464671 1.0786123\n",
      " 1.34111089 1.01768627 1.02022816 1.15182855 1.06250457 1.12502812\n",
      " 1.09645592 0.99145996 1.2288977  1.05349773 1.12171489 1.05499733\n",
      " 1.07836184 1.02154728 1.109846   1.09829515 1.07680137 1.18578252\n",
      " 1.04619062 1.05758608 0.85879947 1.0574457  0.97341402 1.03051359\n",
      " 0.93108816 1.03763243 1.00699975 1.14140966 1.21634414 1.14021223\n",
      " 1.17249961 1.02322285 1.12515829 1.1219452  0.91270027 1.20017501\n",
      " 1.07635593 1.01911284 0.82706768 1.06741592 1.09736474 1.13898718\n",
      " 1.18018699 1.11223558 1.10499479 1.1010285  1.11038783 1.04203557\n",
      " 1.02523101 1.14268231 1.15518178 1.14855426 1.03736058 1.08047842\n",
      " 1.18510532 1.19141023 1.158554   1.11194478 1.00609616 1.06071719\n",
      " 0.99024448 1.01344272 1.11996055 0.95182637 1.04729594 1.08723766\n",
      " 0.99595061 1.10068547 1.05573972 1.01503513 1.1137444  1.08989545\n",
      " 1.06977823 1.05422389 1.14083027 1.12375491 1.18217136 1.19289027\n",
      " 0.77993854 1.03756116 0.83460227 1.11746623 1.10888394 1.11703081\n",
      " 1.10351921 1.15850004 1.07168546 1.05891109 1.05601503 1.09817362\n",
      " 1.10314016 1.17480085 1.11973172 0.92497285 1.08763933 1.12881885\n",
      " 1.21516909 1.11220585 1.06446994 1.10991649 1.09200632 1.10672875\n",
      " 1.01651749 1.15401618 1.04821723 1.15039183 1.05035908 0.96963142\n",
      " 1.08411189 1.14972313 1.17931032 1.17740747 1.04833751 1.06204573\n",
      " 1.10918097 1.0597984  1.04868684 0.81807803 1.11633177 1.15735634\n",
      " 1.08973347 1.0853383  1.03225678 1.07272234 1.0894605  1.09833152\n",
      " 1.06576957 1.0568094  1.12271564 1.04883835 1.0382374  1.05715036\n",
      " 0.86215242 1.08301774 0.99852366 0.86650049 1.17933088 1.14483289\n",
      " 1.35708775 1.09031984 0.86092822 1.07262297 1.10465674 1.12882677\n",
      " 1.06429052 0.94877917 1.07099453 1.07008898 1.04479193 1.00953252\n",
      " 0.96786976 1.10255753 0.96662146 1.10387773 0.99508571 1.11198624\n",
      " 1.12055622 1.13971491 1.04534903 0.86233172 1.12070022 1.07763659\n",
      " 1.04183449 1.16972825 1.19612195 1.04143524 1.06343917 1.05618595\n",
      " 1.09073871 1.1194808  1.13634186 1.13451348 1.16076544 1.06497081\n",
      " 1.02884664 1.02652668 1.15271538 1.05311584 1.10064898 1.08780479\n",
      " 1.08230382 1.02236059 1.06978363 0.99425957 1.17679481 1.18309726\n",
      " 1.1060935  1.08028636 1.00425036 1.1748776  1.03355004 1.03062354\n",
      " 1.05584502 1.11159688 1.065278   1.09629081 1.26854679 1.06243484\n",
      " 1.06595739 1.07377105 1.0657932  1.12116283 1.06479903 1.13967058\n",
      " 1.04175864 1.09514738 1.02375073 1.03463699 1.01259408 0.93322227\n",
      " 1.05630917 1.07628398 1.07380161 0.90105728 1.0452215  0.92246503\n",
      " 1.02854958 1.06732674 1.06699856 1.03563073 1.13600578 1.0595611\n",
      " 0.99208808 1.09637961 1.06702378 1.00150149 1.07790359 1.22477954\n",
      " 1.13328115 1.02266242 1.1441053  1.06840374 1.0549341  1.16216673\n",
      " 1.15809764 1.18158647 1.10792882 1.03639914 1.21260942 1.1304275\n",
      " 1.14598454 0.99446919 0.97287061 1.22778211 0.99361312 1.18409353\n",
      " 1.09094064 1.01694447 0.81249633 1.20855565 1.07345116 1.07875276\n",
      " 1.05327813 1.0394529  1.07733893 1.14742522 1.03624132 1.09060894\n",
      " 1.15935715 1.06599346 1.08355762 1.08562254 1.1755186  1.12693228\n",
      " 1.07683667 1.06721527 1.08495312 1.00297616 1.05288905 1.04770462\n",
      " 1.06291912 0.94188503 1.1046738  1.1672617  0.97515065 0.89724464\n",
      " 1.10384696 1.18810931 1.05231357 1.00217595 1.06394348 1.01094803\n",
      " 1.12418359 1.08211573 0.97164485 0.90226167 1.14509371 1.31000329\n",
      " 1.01987965 1.08792986 1.05207038 0.94861129 1.16433836 1.12176988\n",
      " 1.07320266 0.99981269 1.1014287  1.11003674 1.18971387 1.26105568\n",
      " 1.09481908 1.03441595 1.07665596 1.06923544 1.10700519 1.18407885]\n",
      "actual 955     1.02\n",
      "1104    1.10\n",
      "361     1.00\n",
      "182     1.30\n",
      "369     1.06\n",
      "        ... \n",
      "294     0.75\n",
      "972     1.26\n",
      "853     1.04\n",
      "335     1.08\n",
      "1313    1.18\n",
      "Name: AveragePrice, Length: 456, dtype: float64\n"
     ]
    }
   ],
   "source": [
    "lm=LinearRegression()\n",
    "lm.fit(xtrain,ytrain)\n",
    "lm.score(xtrain,ytrain)\n",
    "pred=lm.predict(xtest)\n",
    "print('Predicted result:',pred)\n",
    "print('actual',ytest)"
   ]
  },
  {
   "cell_type": "code",
   "execution_count": 41,
   "metadata": {},
   "outputs": [
    {
     "name": "stdout",
     "output_type": "stream",
     "text": [
      "actual result: 955     1.02\n",
      "1104    1.10\n",
      "361     1.00\n",
      "182     1.30\n",
      "369     1.06\n",
      "        ... \n",
      "294     0.75\n",
      "972     1.26\n",
      "853     1.04\n",
      "335     1.08\n",
      "1313    1.18\n",
      "Name: AveragePrice, Length: 456, dtype: float64\n"
     ]
    }
   ],
   "source": [
    "print('actual result:',ytest)"
   ]
  },
  {
   "cell_type": "code",
   "execution_count": 42,
   "metadata": {},
   "outputs": [
    {
     "name": "stdout",
     "output_type": "stream",
     "text": [
      "error:\n",
      "0.028286136222321588\n"
     ]
    }
   ],
   "source": [
    "print('error:')\n",
    "print(mean_squared_error(pred,ytest))"
   ]
  },
  {
   "cell_type": "code",
   "execution_count": 43,
   "metadata": {},
   "outputs": [
    {
     "data": {
      "text/plain": [
       "0.16600511669233065"
      ]
     },
     "execution_count": 43,
     "metadata": {},
     "output_type": "execute_result"
    }
   ],
   "source": [
    "from sklearn.linear_model import Lasso,Ridge\n",
    "ls=Lasso(alpha=0.0001)\n",
    "ls.fit(xtrain,ytrain)\n",
    "ls.score(xtrain,ytrain)"
   ]
  },
  {
   "cell_type": "code",
   "execution_count": 44,
   "metadata": {},
   "outputs": [
    {
     "data": {
      "text/plain": [
       "array([-0.01221523,  0.02086185,  0.        , -0.16984954,  0.19765582,\n",
       "       -0.01961504,  0.        ,  0.02759745, -0.05338047, -0.00919331,\n",
       "        0.        ,  0.0161773 , -0.01629973])"
      ]
     },
     "execution_count": 44,
     "metadata": {},
     "output_type": "execute_result"
    }
   ],
   "source": [
    "ls.coef_"
   ]
  },
  {
   "cell_type": "code",
   "execution_count": 45,
   "metadata": {},
   "outputs": [
    {
     "data": {
      "text/plain": [
       "0.16603382656822996"
      ]
     },
     "execution_count": 45,
     "metadata": {},
     "output_type": "execute_result"
    }
   ],
   "source": [
    "rd=Ridge(alpha=0.0001)\n",
    "rd.fit(xtrain,ytrain)\n",
    "rd.score(xtrain,ytrain)"
   ]
  },
  {
   "cell_type": "code",
   "execution_count": 46,
   "metadata": {},
   "outputs": [
    {
     "data": {
      "text/plain": [
       "array([-0.01235016,  0.02095473,  0.00076156, -0.17259837,  0.20043676,\n",
       "       -0.02108376,  0.00939882,  0.02130338, -0.05580532, -0.00969529,\n",
       "        0.        ,  0.01610694, -0.01628216])"
      ]
     },
     "execution_count": 46,
     "metadata": {},
     "output_type": "execute_result"
    }
   ],
   "source": [
    "rd.coef_"
   ]
  },
  {
   "cell_type": "code",
   "execution_count": 47,
   "metadata": {},
   "outputs": [
    {
     "name": "stdout",
     "output_type": "stream",
     "text": [
      "0.16602676050406107\n"
     ]
    },
    {
     "data": {
      "text/plain": [
       "array([-0.01228213,  0.02090201, -0.01320907, -0.16550715,  0.20397985,\n",
       "       -0.01985159,  0.01185817,  0.02061011, -0.0552286 , -0.00955444,\n",
       "        0.        ,  0.01611226, -0.01629022])"
      ]
     },
     "execution_count": 47,
     "metadata": {},
     "output_type": "execute_result"
    }
   ],
   "source": [
    "from sklearn.linear_model import ElasticNet\n",
    "enr=ElasticNet(alpha=0.0001)\n",
    "enr.fit(xtrain,ytrain)\n",
    "enrpred=enr.predict(xtest)\n",
    "print(enr.score(xtrain,ytrain))\n",
    "enr.coef_"
   ]
  },
  {
   "cell_type": "code",
   "execution_count": 48,
   "metadata": {},
   "outputs": [],
   "source": [
    "from sklearn.svm import SVR"
   ]
  },
  {
   "cell_type": "code",
   "execution_count": 49,
   "metadata": {},
   "outputs": [],
   "source": [
    "svr = SVR(kernel = 'linear')\n",
    "svr.fit(xtrain,ytrain)\n",
    "svr.score(xtrain,ytrain)\n",
    "pred_y=svr.predict(xtest)\n",
    "svr = SVR(kernel = 'poly')\n",
    "svr.fit(xtrain,ytrain)\n",
    "svr.score(xtrain,ytrain)\n",
    "pred_y=svr.predict(xtest)\n",
    "svr = SVR(kernel = 'rbf')\n",
    "svr.fit(xtrain,ytrain)\n",
    "svr.score(xtrain,ytrain)\n",
    "pred_y=svr.predict(xtest)"
   ]
  },
  {
   "cell_type": "code",
   "execution_count": 50,
   "metadata": {},
   "outputs": [
    {
     "name": "stdout",
     "output_type": "stream",
     "text": [
      "0.16019378303867227\n",
      "0.3297546317504456\n",
      "0.6142702108993647\n"
     ]
    }
   ],
   "source": [
    "from sklearn.svm import SVR\n",
    "kernellist=['linear','poly','rbf']\n",
    "for i in kernellist:\n",
    "    sv=SVR(kernel=i)\n",
    "    sv.fit(xtrain,ytrain)\n",
    "    print(sv.score(xtrain,ytrain))"
   ]
  },
  {
   "cell_type": "code",
   "execution_count": 51,
   "metadata": {},
   "outputs": [
    {
     "name": "stdout",
     "output_type": "stream",
     "text": [
      "continuous\n",
      "binary\n",
      "multiclass\n"
     ]
    }
   ],
   "source": [
    "from sklearn import preprocessing\n",
    "from sklearn import utils\n",
    "\n",
    "lab_enc = preprocessing.LabelEncoder()\n",
    "encoded = lab_enc.fit_transform(ytrain)\n",
    "\n",
    "print(utils.multiclass.type_of_target(ytrain))\n",
    "\n",
    "print(utils.multiclass.type_of_target(ytrain.astype('int')))\n",
    "\n",
    "print(utils.multiclass.type_of_target(encoded))\n"
   ]
  },
  {
   "cell_type": "code",
   "execution_count": 55,
   "metadata": {},
   "outputs": [],
   "source": [
    "df=df.dropna()"
   ]
  },
  {
   "cell_type": "code",
   "execution_count": 57,
   "metadata": {},
   "outputs": [],
   "source": [
    "# Processing Classification Technique\n",
    "from sklearn.neighbors import KNeighborsClassifier\n",
    "from sklearn.svm import SVC\n",
    "from sklearn.tree import DecisionTreeClassifier\n",
    "from sklearn.linear_model import LogisticRegression\n",
    "from sklearn.naive_bayes import GaussianNB\n",
    "from sklearn.naive_bayes import MultinomialNB\n",
    "from sklearn.metrics import accuracy_score,confusion_matrix,classification_report\n",
    "from sklearn.model_selection import train_test_split\n",
    "\n",
    "import warnings\n",
    "warnings.filterwarnings('ignore')"
   ]
  },
  {
   "cell_type": "code",
   "execution_count": 58,
   "metadata": {},
   "outputs": [],
   "source": [
    "x=df.iloc[:,0:-1]\n",
    "y=df.iloc[:,-1]\n",
    "x_train,x_test,y_train,y_test=train_test_split(x,y,test_size= 0.20,random_state= 42)"
   ]
  },
  {
   "cell_type": "code",
   "execution_count": 59,
   "metadata": {},
   "outputs": [
    {
     "name": "stdout",
     "output_type": "stream",
     "text": [
      "0.7236842105263158\n",
      "[[ 5  0  0 ...  0  0  0]\n",
      " [ 0  5  0 ...  0  0  0]\n",
      " [ 0  0 12 ...  0  0  0]\n",
      " ...\n",
      " [ 0  0  0 ...  4  0  0]\n",
      " [ 0  0  0 ...  1  3  0]\n",
      " [ 0  0  0 ...  0  0  7]]\n",
      "              precision    recall  f1-score   support\n",
      "\n",
      "           0       1.00      0.56      0.71         9\n",
      "           1       0.83      0.33      0.48        15\n",
      "           2       0.92      1.00      0.96        12\n",
      "           3       0.79      0.92      0.85        12\n",
      "           4       0.43      0.50      0.46         6\n",
      "           5       1.00      0.75      0.86         8\n",
      "           6       0.92      0.71      0.80        17\n",
      "           7       0.86      0.67      0.75         9\n",
      "           8       1.00      1.00      1.00         7\n",
      "           9       0.90      1.00      0.95         9\n",
      "          10       0.62      1.00      0.77         5\n",
      "          11       0.75      1.00      0.86         3\n",
      "          12       1.00      0.80      0.89        10\n",
      "          13       0.60      0.75      0.67         4\n",
      "          14       1.00      1.00      1.00         4\n",
      "          15       1.00      1.00      1.00         7\n",
      "          16       0.25      1.00      0.40         2\n",
      "          17       0.50      1.00      0.67         4\n",
      "          18       1.00      0.25      0.40         4\n",
      "          19       0.62      0.62      0.62         8\n",
      "          20       0.33      1.00      0.50         2\n",
      "          21       0.33      1.00      0.50         1\n",
      "          22       0.75      1.00      0.86         3\n",
      "          23       0.20      0.40      0.27         5\n",
      "          24       0.83      1.00      0.91         5\n",
      "          25       1.00      0.75      0.86         8\n",
      "          26       0.67      0.40      0.50         5\n",
      "          27       0.33      0.50      0.40         2\n",
      "          28       0.80      0.57      0.67         7\n",
      "          29       0.12      0.20      0.15         5\n",
      "          30       0.50      1.00      0.67         2\n",
      "          31       0.88      0.70      0.78        10\n",
      "          32       0.75      1.00      0.86         3\n",
      "          33       1.00      1.00      1.00         3\n",
      "          34       1.00      0.14      0.25         7\n",
      "          35       0.40      0.67      0.50         3\n",
      "          36       0.50      1.00      0.67         3\n",
      "          37       1.00      1.00      1.00         5\n",
      "          38       0.55      0.75      0.63         8\n",
      "          39       0.75      1.00      0.86         3\n",
      "          40       0.75      1.00      0.86         3\n",
      "          41       0.67      1.00      0.80         2\n",
      "          42       0.80      0.33      0.47        12\n",
      "          43       1.00      1.00      1.00         1\n",
      "          44       0.75      0.33      0.46         9\n",
      "          45       1.00      1.00      1.00         4\n",
      "          46       1.00      1.00      1.00         2\n",
      "          47       0.64      0.70      0.67        10\n",
      "          48       0.80      1.00      0.89         4\n",
      "          49       1.00      0.60      0.75         5\n",
      "          50       0.88      1.00      0.93         7\n",
      "\n",
      "    accuracy                           0.72       304\n",
      "   macro avg       0.74      0.78      0.72       304\n",
      "weighted avg       0.80      0.72      0.72       304\n",
      "\n"
     ]
    }
   ],
   "source": [
    "mnb=MultinomialNB()\n",
    "mnb.fit(x_train,y_train)\n",
    "predmnb=mnb.predict(x_test)\n",
    "print(accuracy_score(y_test,predmnb))\n",
    "print(confusion_matrix(y_test,predmnb))\n",
    "print(classification_report(y_test,predmnb))"
   ]
  },
  {
   "cell_type": "code",
   "execution_count": 60,
   "metadata": {},
   "outputs": [
    {
     "name": "stdout",
     "output_type": "stream",
     "text": [
      "0.19078947368421054\n",
      "[[ 9  0  0 ...  0  0  0]\n",
      " [13  0  0 ...  0  0  0]\n",
      " [ 0  0  0 ...  0  0  0]\n",
      " ...\n",
      " [ 0  0  0 ...  4  0  0]\n",
      " [ 0  0  0 ...  0  0  0]\n",
      " [ 0  0  0 ...  0  0  0]]\n",
      "              precision    recall  f1-score   support\n",
      "\n",
      "           0       0.05      1.00      0.10         9\n",
      "           1       0.00      0.00      0.00        15\n",
      "           2       0.00      0.00      0.00        12\n",
      "           3       0.00      0.00      0.00        12\n",
      "           4       0.08      0.67      0.15         6\n",
      "           5       0.00      0.00      0.00         8\n",
      "           6       0.61      1.00      0.76        17\n",
      "           7       0.00      0.00      0.00         9\n",
      "           8       0.00      0.00      0.00         7\n",
      "           9       0.00      0.00      0.00         9\n",
      "          10       0.00      0.00      0.00         5\n",
      "          11       0.00      0.00      0.00         3\n",
      "          12       0.00      0.00      0.00        10\n",
      "          13       0.00      0.00      0.00         4\n",
      "          14       0.50      1.00      0.67         4\n",
      "          15       0.00      0.00      0.00         7\n",
      "          16       0.00      0.00      0.00         2\n",
      "          17       0.00      0.00      0.00         4\n",
      "          18       0.00      0.00      0.00         4\n",
      "          19       0.00      0.00      0.00         8\n",
      "          20       0.00      0.00      0.00         2\n",
      "          21       0.00      0.00      0.00         1\n",
      "          22       0.00      0.00      0.00         3\n",
      "          23       0.00      0.00      0.00         5\n",
      "          24       0.00      0.00      0.00         5\n",
      "          25       0.00      0.00      0.00         8\n",
      "          26       0.50      0.80      0.62         5\n",
      "          27       0.00      0.00      0.00         2\n",
      "          28       0.00      0.00      0.00         7\n",
      "          29       0.00      0.00      0.00         5\n",
      "          30       0.00      0.00      0.00         2\n",
      "          31       0.40      1.00      0.57        10\n",
      "          32       0.00      0.00      0.00         3\n",
      "          33       0.00      0.00      0.00         3\n",
      "          34       0.00      0.00      0.00         7\n",
      "          35       0.00      0.00      0.00         3\n",
      "          36       0.00      0.00      0.00         3\n",
      "          37       0.00      0.00      0.00         5\n",
      "          38       0.00      0.00      0.00         8\n",
      "          39       0.00      0.00      0.00         3\n",
      "          40       0.00      0.00      0.00         3\n",
      "          41       0.00      0.00      0.00         2\n",
      "          42       1.00      0.50      0.67        12\n",
      "          43       0.00      0.00      0.00         1\n",
      "          44       0.00      0.00      0.00         9\n",
      "          45       0.00      0.00      0.00         4\n",
      "          46       0.00      0.00      0.00         2\n",
      "          47       0.00      0.00      0.00        10\n",
      "          48       1.00      1.00      1.00         4\n",
      "          49       0.00      0.00      0.00         5\n",
      "          50       0.00      0.00      0.00         7\n",
      "\n",
      "    accuracy                           0.19       304\n",
      "   macro avg       0.08      0.14      0.09       304\n",
      "weighted avg       0.12      0.19      0.13       304\n",
      "\n"
     ]
    }
   ],
   "source": [
    "svc=SVC(kernel='rbf')\n",
    "svc.fit(x_train,y_train)\n",
    "svc.score(x_train,y_train)\n",
    "predsvc=svc.predict(x_test)\n",
    "print(accuracy_score(y_test,predsvc))\n",
    "print(confusion_matrix(y_test,predsvc))\n",
    "print(classification_report(y_test,predsvc))"
   ]
  },
  {
   "cell_type": "code",
   "execution_count": 61,
   "metadata": {},
   "outputs": [
    {
     "name": "stdout",
     "output_type": "stream",
     "text": [
      "0.8980263157894737\n",
      "[[ 7  0  0 ...  0  0  0]\n",
      " [ 0 14  0 ...  0  0  0]\n",
      " [ 0  0 12 ...  0  0  0]\n",
      " ...\n",
      " [ 0  0  0 ...  4  0  0]\n",
      " [ 0  0  0 ...  0  4  0]\n",
      " [ 0  0  0 ...  0  0  7]]\n",
      "              precision    recall  f1-score   support\n",
      "\n",
      "           0       0.70      0.78      0.74         9\n",
      "           1       0.93      0.93      0.93        15\n",
      "           2       0.92      1.00      0.96        12\n",
      "           3       1.00      1.00      1.00        12\n",
      "           4       0.75      1.00      0.86         6\n",
      "           5       1.00      1.00      1.00         8\n",
      "           6       0.94      1.00      0.97        17\n",
      "           7       0.88      0.78      0.82         9\n",
      "           8       1.00      0.71      0.83         7\n",
      "           9       0.88      0.78      0.82         9\n",
      "          10       1.00      0.80      0.89         5\n",
      "          11       1.00      0.67      0.80         3\n",
      "          12       0.91      1.00      0.95        10\n",
      "          13       1.00      1.00      1.00         4\n",
      "          14       1.00      0.75      0.86         4\n",
      "          15       1.00      1.00      1.00         7\n",
      "          16       0.50      0.50      0.50         2\n",
      "          17       0.67      0.50      0.57         4\n",
      "          18       1.00      0.75      0.86         4\n",
      "          19       1.00      0.88      0.93         8\n",
      "          20       0.67      1.00      0.80         2\n",
      "          21       1.00      1.00      1.00         1\n",
      "          22       0.75      1.00      0.86         3\n",
      "          23       1.00      1.00      1.00         5\n",
      "          24       1.00      1.00      1.00         5\n",
      "          25       1.00      1.00      1.00         8\n",
      "          26       1.00      1.00      1.00         5\n",
      "          27       1.00      1.00      1.00         2\n",
      "          28       0.83      0.71      0.77         7\n",
      "          29       0.80      0.80      0.80         5\n",
      "          30       1.00      1.00      1.00         2\n",
      "          31       0.83      1.00      0.91        10\n",
      "          32       0.50      0.33      0.40         3\n",
      "          33       1.00      0.67      0.80         3\n",
      "          34       1.00      0.86      0.92         7\n",
      "          35       0.67      0.67      0.67         3\n",
      "          36       0.60      1.00      0.75         3\n",
      "          37       1.00      1.00      1.00         5\n",
      "          38       0.88      0.88      0.88         8\n",
      "          39       1.00      1.00      1.00         3\n",
      "          40       1.00      0.67      0.80         3\n",
      "          41       1.00      1.00      1.00         2\n",
      "          42       0.92      0.92      0.92        12\n",
      "          43       0.50      1.00      0.67         1\n",
      "          44       1.00      1.00      1.00         9\n",
      "          45       1.00      1.00      1.00         4\n",
      "          46       0.50      0.50      0.50         2\n",
      "          47       0.90      0.90      0.90        10\n",
      "          48       1.00      1.00      1.00         4\n",
      "          49       0.80      0.80      0.80         5\n",
      "          50       0.78      1.00      0.88         7\n",
      "\n",
      "    accuracy                           0.90       304\n",
      "   macro avg       0.88      0.87      0.87       304\n",
      "weighted avg       0.91      0.90      0.90       304\n",
      "\n"
     ]
    }
   ],
   "source": [
    "dtc=DecisionTreeClassifier()\n",
    "dtc.fit(x_train,y_train)\n",
    "dtc.score(x_train,y_train)\n",
    "preddtc=dtc.predict(x_test)\n",
    "print(accuracy_score(y_test,preddtc))\n",
    "print(confusion_matrix(y_test,preddtc))\n",
    "print(classification_report(y_test,preddtc))"
   ]
  },
  {
   "cell_type": "code",
   "execution_count": 62,
   "metadata": {},
   "outputs": [
    {
     "name": "stdout",
     "output_type": "stream",
     "text": [
      "0.805921052631579\n",
      "[[ 9  0  0 ...  0  0  0]\n",
      " [ 0 12  0 ...  0  0  0]\n",
      " [ 0  0 11 ...  0  0  0]\n",
      " ...\n",
      " [ 0  0  0 ...  4  0  0]\n",
      " [ 0  0  0 ...  0  5  0]\n",
      " [ 0  0  0 ...  0  0  6]]\n",
      "              precision    recall  f1-score   support\n",
      "\n",
      "           0       0.75      1.00      0.86         9\n",
      "           1       0.75      0.80      0.77        15\n",
      "           2       0.92      0.92      0.92        12\n",
      "           3       1.00      1.00      1.00        12\n",
      "           4       0.56      0.83      0.67         6\n",
      "           5       0.88      0.88      0.88         8\n",
      "           6       0.75      0.88      0.81        17\n",
      "           7       0.90      1.00      0.95         9\n",
      "           8       1.00      0.86      0.92         7\n",
      "           9       0.89      0.89      0.89         9\n",
      "          10       1.00      0.20      0.33         5\n",
      "          11       1.00      1.00      1.00         3\n",
      "          12       1.00      0.90      0.95        10\n",
      "          13       1.00      0.50      0.67         4\n",
      "          14       0.80      1.00      0.89         4\n",
      "          15       0.88      1.00      0.93         7\n",
      "          16       1.00      1.00      1.00         2\n",
      "          17       0.43      0.75      0.55         4\n",
      "          18       1.00      1.00      1.00         4\n",
      "          19       0.78      0.88      0.82         8\n",
      "          20       1.00      1.00      1.00         2\n",
      "          21       0.00      0.00      0.00         1\n",
      "          22       0.50      1.00      0.67         3\n",
      "          23       0.40      0.40      0.40         5\n",
      "          24       1.00      0.80      0.89         5\n",
      "          25       1.00      0.75      0.86         8\n",
      "          26       0.83      1.00      0.91         5\n",
      "          27       1.00      1.00      1.00         2\n",
      "          28       0.75      0.43      0.55         7\n",
      "          29       0.20      0.20      0.20         5\n",
      "          30       1.00      1.00      1.00         2\n",
      "          31       0.75      0.90      0.82        10\n",
      "          32       0.00      0.00      0.00         3\n",
      "          33       1.00      1.00      1.00         3\n",
      "          34       0.71      0.71      0.71         7\n",
      "          35       1.00      0.67      0.80         3\n",
      "          36       1.00      1.00      1.00         3\n",
      "          37       0.83      1.00      0.91         5\n",
      "          38       0.88      0.88      0.88         8\n",
      "          39       1.00      0.67      0.80         3\n",
      "          40       0.67      0.67      0.67         3\n",
      "          41       0.40      1.00      0.57         2\n",
      "          42       0.71      0.42      0.53        12\n",
      "          43       0.50      1.00      0.67         1\n",
      "          44       1.00      0.78      0.88         9\n",
      "          45       1.00      0.75      0.86         4\n",
      "          46       1.00      1.00      1.00         2\n",
      "          47       0.75      0.60      0.67        10\n",
      "          48       1.00      1.00      1.00         4\n",
      "          49       0.71      1.00      0.83         5\n",
      "          50       0.86      0.86      0.86         7\n",
      "\n",
      "    accuracy                           0.81       304\n",
      "   macro avg       0.80      0.80      0.78       304\n",
      "weighted avg       0.82      0.81      0.80       304\n",
      "\n"
     ]
    }
   ],
   "source": [
    "knn=KNeighborsClassifier(n_neighbors=5)\n",
    "knn.fit(x_train,y_train)\n",
    "knn.score(x_train,y_train)\n",
    "predknn=knn.predict(x_test)\n",
    "print(accuracy_score(y_test,predknn))\n",
    "print(confusion_matrix(y_test,predknn))\n",
    "print(classification_report(y_test,predknn))"
   ]
  },
  {
   "cell_type": "code",
   "execution_count": 63,
   "metadata": {},
   "outputs": [
    {
     "name": "stdout",
     "output_type": "stream",
     "text": [
      "0.13157894736842105\n",
      "[[ 9  0  0 ...  0  0  0]\n",
      " [15  0  0 ...  0  0  0]\n",
      " [12  0  0 ...  0  0  0]\n",
      " ...\n",
      " [ 0  0  0 ...  4  0  0]\n",
      " [ 0  0  0 ...  0  1  0]\n",
      " [ 7  0  0 ...  0  0  0]]\n",
      "              precision    recall  f1-score   support\n",
      "\n",
      "           0       0.03      1.00      0.07         9\n",
      "           1       0.00      0.00      0.00        15\n",
      "           2       0.00      0.00      0.00        12\n",
      "           3       0.00      0.00      0.00        12\n",
      "           4       0.00      0.00      0.00         6\n",
      "           5       0.00      0.00      0.00         8\n",
      "           6       0.67      0.94      0.78        17\n",
      "           7       0.00      0.00      0.00         9\n",
      "           8       0.00      0.00      0.00         7\n",
      "           9       0.00      0.00      0.00         9\n",
      "          10       0.00      0.00      0.00         5\n",
      "          11       0.00      0.00      0.00         3\n",
      "          12       0.00      0.00      0.00        10\n",
      "          13       0.00      0.00      0.00         4\n",
      "          14       0.67      0.50      0.57         4\n",
      "          15       0.00      0.00      0.00         7\n",
      "          16       0.00      0.00      0.00         2\n",
      "          17       0.00      0.00      0.00         4\n",
      "          18       0.00      0.00      0.00         4\n",
      "          19       0.00      0.00      0.00         8\n",
      "          20       0.00      0.00      0.00         2\n",
      "          21       0.00      0.00      0.00         1\n",
      "          22       0.00      0.00      0.00         3\n",
      "          23       0.00      0.00      0.00         5\n",
      "          24       0.00      0.00      0.00         5\n",
      "          25       0.00      0.00      0.00         8\n",
      "          26       0.00      0.00      0.00         5\n",
      "          27       1.00      0.50      0.67         2\n",
      "          28       0.00      0.00      0.00         7\n",
      "          29       0.00      0.00      0.00         5\n",
      "          30       0.00      0.00      0.00         2\n",
      "          31       0.00      0.00      0.00        10\n",
      "          32       0.00      0.00      0.00         3\n",
      "          33       0.00      0.00      0.00         3\n",
      "          34       0.00      0.00      0.00         7\n",
      "          35       0.00      0.00      0.00         3\n",
      "          36       0.00      0.00      0.00         3\n",
      "          37       0.00      0.00      0.00         5\n",
      "          38       0.00      0.00      0.00         8\n",
      "          39       0.00      0.00      0.00         3\n",
      "          40       0.00      0.00      0.00         3\n",
      "          41       0.00      0.00      0.00         2\n",
      "          42       0.88      0.58      0.70        12\n",
      "          43       0.00      0.00      0.00         1\n",
      "          44       0.00      0.00      0.00         9\n",
      "          45       0.00      0.00      0.00         4\n",
      "          46       0.00      0.00      0.00         2\n",
      "          47       0.00      0.00      0.00        10\n",
      "          48       1.00      1.00      1.00         4\n",
      "          49       0.50      0.20      0.29         5\n",
      "          50       0.00      0.00      0.00         7\n",
      "\n",
      "    accuracy                           0.13       304\n",
      "   macro avg       0.09      0.09      0.08       304\n",
      "weighted avg       0.11      0.13      0.10       304\n",
      "\n"
     ]
    }
   ],
   "source": [
    "svc=SVC(kernel='poly')\n",
    "svc.fit(x_train,y_train)\n",
    "svc.score(x_train,y_train)\n",
    "predsvc=svc.predict(x_test)\n",
    "print(accuracy_score(y_test,predsvc))\n",
    "print(confusion_matrix(y_test,predsvc))\n",
    "print(classification_report(y_test,predsvc))"
   ]
  },
  {
   "cell_type": "code",
   "execution_count": 64,
   "metadata": {},
   "outputs": [],
   "source": [
    "def svmkernel(ker):\n",
    "    svc=SVC(kernel=ker)\n",
    "    svc.fit(x_train,y_train)\n",
    "    svc.score(x_train,y_train)\n",
    "    predsvc=svc.predict(x_test)\n",
    "    print(accuracy_score(y_test,predsvc))\n",
    "    print(confusion_matrix(y_test,predsvc))\n",
    "    print(classification_report(y_test,predsvc))"
   ]
  },
  {
   "cell_type": "code",
   "execution_count": 65,
   "metadata": {},
   "outputs": [
    {
     "name": "stdout",
     "output_type": "stream",
     "text": [
      "0.19078947368421054\n",
      "[[ 9  0  0 ...  0  0  0]\n",
      " [13  0  0 ...  0  0  0]\n",
      " [ 0  0  0 ...  0  0  0]\n",
      " ...\n",
      " [ 0  0  0 ...  4  0  0]\n",
      " [ 0  0  0 ...  0  0  0]\n",
      " [ 0  0  0 ...  0  0  0]]\n",
      "              precision    recall  f1-score   support\n",
      "\n",
      "           0       0.05      1.00      0.10         9\n",
      "           1       0.00      0.00      0.00        15\n",
      "           2       0.00      0.00      0.00        12\n",
      "           3       0.00      0.00      0.00        12\n",
      "           4       0.08      0.67      0.15         6\n",
      "           5       0.00      0.00      0.00         8\n",
      "           6       0.61      1.00      0.76        17\n",
      "           7       0.00      0.00      0.00         9\n",
      "           8       0.00      0.00      0.00         7\n",
      "           9       0.00      0.00      0.00         9\n",
      "          10       0.00      0.00      0.00         5\n",
      "          11       0.00      0.00      0.00         3\n",
      "          12       0.00      0.00      0.00        10\n",
      "          13       0.00      0.00      0.00         4\n",
      "          14       0.50      1.00      0.67         4\n",
      "          15       0.00      0.00      0.00         7\n",
      "          16       0.00      0.00      0.00         2\n",
      "          17       0.00      0.00      0.00         4\n",
      "          18       0.00      0.00      0.00         4\n",
      "          19       0.00      0.00      0.00         8\n",
      "          20       0.00      0.00      0.00         2\n",
      "          21       0.00      0.00      0.00         1\n",
      "          22       0.00      0.00      0.00         3\n",
      "          23       0.00      0.00      0.00         5\n",
      "          24       0.00      0.00      0.00         5\n",
      "          25       0.00      0.00      0.00         8\n",
      "          26       0.50      0.80      0.62         5\n",
      "          27       0.00      0.00      0.00         2\n",
      "          28       0.00      0.00      0.00         7\n",
      "          29       0.00      0.00      0.00         5\n",
      "          30       0.00      0.00      0.00         2\n",
      "          31       0.40      1.00      0.57        10\n",
      "          32       0.00      0.00      0.00         3\n",
      "          33       0.00      0.00      0.00         3\n",
      "          34       0.00      0.00      0.00         7\n",
      "          35       0.00      0.00      0.00         3\n",
      "          36       0.00      0.00      0.00         3\n",
      "          37       0.00      0.00      0.00         5\n",
      "          38       0.00      0.00      0.00         8\n",
      "          39       0.00      0.00      0.00         3\n",
      "          40       0.00      0.00      0.00         3\n",
      "          41       0.00      0.00      0.00         2\n",
      "          42       1.00      0.50      0.67        12\n",
      "          43       0.00      0.00      0.00         1\n",
      "          44       0.00      0.00      0.00         9\n",
      "          45       0.00      0.00      0.00         4\n",
      "          46       0.00      0.00      0.00         2\n",
      "          47       0.00      0.00      0.00        10\n",
      "          48       1.00      1.00      1.00         4\n",
      "          49       0.00      0.00      0.00         5\n",
      "          50       0.00      0.00      0.00         7\n",
      "\n",
      "    accuracy                           0.19       304\n",
      "   macro avg       0.08      0.14      0.09       304\n",
      "weighted avg       0.12      0.19      0.13       304\n",
      "\n"
     ]
    }
   ],
   "source": [
    "svmkernel('rbf')"
   ]
  },
  {
   "cell_type": "code",
   "execution_count": 66,
   "metadata": {},
   "outputs": [
    {
     "name": "stdout",
     "output_type": "stream",
     "text": [
      "0.13157894736842105\n",
      "[[ 9  0  0 ...  0  0  0]\n",
      " [15  0  0 ...  0  0  0]\n",
      " [12  0  0 ...  0  0  0]\n",
      " ...\n",
      " [ 0  0  0 ...  4  0  0]\n",
      " [ 0  0  0 ...  0  1  0]\n",
      " [ 7  0  0 ...  0  0  0]]\n",
      "              precision    recall  f1-score   support\n",
      "\n",
      "           0       0.03      1.00      0.07         9\n",
      "           1       0.00      0.00      0.00        15\n",
      "           2       0.00      0.00      0.00        12\n",
      "           3       0.00      0.00      0.00        12\n",
      "           4       0.00      0.00      0.00         6\n",
      "           5       0.00      0.00      0.00         8\n",
      "           6       0.67      0.94      0.78        17\n",
      "           7       0.00      0.00      0.00         9\n",
      "           8       0.00      0.00      0.00         7\n",
      "           9       0.00      0.00      0.00         9\n",
      "          10       0.00      0.00      0.00         5\n",
      "          11       0.00      0.00      0.00         3\n",
      "          12       0.00      0.00      0.00        10\n",
      "          13       0.00      0.00      0.00         4\n",
      "          14       0.67      0.50      0.57         4\n",
      "          15       0.00      0.00      0.00         7\n",
      "          16       0.00      0.00      0.00         2\n",
      "          17       0.00      0.00      0.00         4\n",
      "          18       0.00      0.00      0.00         4\n",
      "          19       0.00      0.00      0.00         8\n",
      "          20       0.00      0.00      0.00         2\n",
      "          21       0.00      0.00      0.00         1\n",
      "          22       0.00      0.00      0.00         3\n",
      "          23       0.00      0.00      0.00         5\n",
      "          24       0.00      0.00      0.00         5\n",
      "          25       0.00      0.00      0.00         8\n",
      "          26       0.00      0.00      0.00         5\n",
      "          27       1.00      0.50      0.67         2\n",
      "          28       0.00      0.00      0.00         7\n",
      "          29       0.00      0.00      0.00         5\n",
      "          30       0.00      0.00      0.00         2\n",
      "          31       0.00      0.00      0.00        10\n",
      "          32       0.00      0.00      0.00         3\n",
      "          33       0.00      0.00      0.00         3\n",
      "          34       0.00      0.00      0.00         7\n",
      "          35       0.00      0.00      0.00         3\n",
      "          36       0.00      0.00      0.00         3\n",
      "          37       0.00      0.00      0.00         5\n",
      "          38       0.00      0.00      0.00         8\n",
      "          39       0.00      0.00      0.00         3\n",
      "          40       0.00      0.00      0.00         3\n",
      "          41       0.00      0.00      0.00         2\n",
      "          42       0.88      0.58      0.70        12\n",
      "          43       0.00      0.00      0.00         1\n",
      "          44       0.00      0.00      0.00         9\n",
      "          45       0.00      0.00      0.00         4\n",
      "          46       0.00      0.00      0.00         2\n",
      "          47       0.00      0.00      0.00        10\n",
      "          48       1.00      1.00      1.00         4\n",
      "          49       0.50      0.20      0.29         5\n",
      "          50       0.00      0.00      0.00         7\n",
      "\n",
      "    accuracy                           0.13       304\n",
      "   macro avg       0.09      0.09      0.08       304\n",
      "weighted avg       0.11      0.13      0.10       304\n",
      "\n"
     ]
    }
   ],
   "source": [
    "svmkernel('poly')"
   ]
  },
  {
   "cell_type": "code",
   "execution_count": 67,
   "metadata": {},
   "outputs": [],
   "source": [
    "df1=pd.DataFrame(preddtc)\n",
    "df1.to_csv('dtc_predict.csv')"
   ]
  },
  {
   "cell_type": "code",
   "execution_count": 68,
   "metadata": {},
   "outputs": [],
   "source": [
    "model=[DecisionTreeClassifier(),SVC(),KNeighborsClassifier(),MultinomialNB()]"
   ]
  },
  {
   "cell_type": "code",
   "execution_count": 69,
   "metadata": {},
   "outputs": [
    {
     "name": "stdout",
     "output_type": "stream",
     "text": [
      "Accuracy score of DecisionTreeClassifier() is:\n",
      "0.9013157894736842\n",
      "[[ 7  0  0 ...  0  0  0]\n",
      " [ 0 13  0 ...  0  0  0]\n",
      " [ 0  0 12 ...  0  0  0]\n",
      " ...\n",
      " [ 0  0  0 ...  4  0  0]\n",
      " [ 0  0  0 ...  0  4  0]\n",
      " [ 0  0  0 ...  0  0  7]]\n",
      "              precision    recall  f1-score   support\n",
      "\n",
      "           0       0.88      0.78      0.82         9\n",
      "           1       0.93      0.87      0.90        15\n",
      "           2       0.92      1.00      0.96        12\n",
      "           3       0.92      0.92      0.92        12\n",
      "           4       0.75      1.00      0.86         6\n",
      "           5       1.00      1.00      1.00         8\n",
      "           6       1.00      1.00      1.00        17\n",
      "           7       0.88      0.78      0.82         9\n",
      "           8       1.00      0.86      0.92         7\n",
      "           9       0.80      0.89      0.84         9\n",
      "          10       1.00      0.80      0.89         5\n",
      "          11       1.00      0.67      0.80         3\n",
      "          12       0.90      0.90      0.90        10\n",
      "          13       1.00      1.00      1.00         4\n",
      "          14       1.00      1.00      1.00         4\n",
      "          15       1.00      1.00      1.00         7\n",
      "          16       0.50      0.50      0.50         2\n",
      "          17       1.00      0.50      0.67         4\n",
      "          18       1.00      1.00      1.00         4\n",
      "          19       0.86      0.75      0.80         8\n",
      "          20       1.00      1.00      1.00         2\n",
      "          21       1.00      1.00      1.00         1\n",
      "          22       1.00      1.00      1.00         3\n",
      "          23       1.00      1.00      1.00         5\n",
      "          24       1.00      1.00      1.00         5\n",
      "          25       1.00      0.88      0.93         8\n",
      "          26       1.00      1.00      1.00         5\n",
      "          27       1.00      1.00      1.00         2\n",
      "          28       0.83      0.71      0.77         7\n",
      "          29       0.80      0.80      0.80         5\n",
      "          30       1.00      1.00      1.00         2\n",
      "          31       0.83      1.00      0.91        10\n",
      "          32       1.00      1.00      1.00         3\n",
      "          33       1.00      0.67      0.80         3\n",
      "          34       0.86      0.86      0.86         7\n",
      "          35       0.50      0.67      0.57         3\n",
      "          36       1.00      1.00      1.00         3\n",
      "          37       0.83      1.00      0.91         5\n",
      "          38       0.88      0.88      0.88         8\n",
      "          39       0.75      1.00      0.86         3\n",
      "          40       1.00      0.67      0.80         3\n",
      "          41       1.00      1.00      1.00         2\n",
      "          42       0.92      0.92      0.92        12\n",
      "          43       1.00      1.00      1.00         1\n",
      "          44       0.90      1.00      0.95         9\n",
      "          45       1.00      1.00      1.00         4\n",
      "          46       0.50      0.50      0.50         2\n",
      "          47       0.82      0.90      0.86        10\n",
      "          48       1.00      1.00      1.00         4\n",
      "          49       0.80      0.80      0.80         5\n",
      "          50       0.78      1.00      0.88         7\n",
      "\n",
      "    accuracy                           0.90       304\n",
      "   macro avg       0.91      0.89      0.89       304\n",
      "weighted avg       0.91      0.90      0.90       304\n",
      "\n",
      "\n",
      "\n",
      "Accuracy score of SVC() is:\n",
      "0.19078947368421054\n",
      "[[ 9  0  0 ...  0  0  0]\n",
      " [13  0  0 ...  0  0  0]\n",
      " [ 0  0  0 ...  0  0  0]\n",
      " ...\n",
      " [ 0  0  0 ...  4  0  0]\n",
      " [ 0  0  0 ...  0  0  0]\n",
      " [ 0  0  0 ...  0  0  0]]\n",
      "              precision    recall  f1-score   support\n",
      "\n",
      "           0       0.05      1.00      0.10         9\n",
      "           1       0.00      0.00      0.00        15\n",
      "           2       0.00      0.00      0.00        12\n",
      "           3       0.00      0.00      0.00        12\n",
      "           4       0.08      0.67      0.15         6\n",
      "           5       0.00      0.00      0.00         8\n",
      "           6       0.61      1.00      0.76        17\n",
      "           7       0.00      0.00      0.00         9\n",
      "           8       0.00      0.00      0.00         7\n",
      "           9       0.00      0.00      0.00         9\n",
      "          10       0.00      0.00      0.00         5\n",
      "          11       0.00      0.00      0.00         3\n",
      "          12       0.00      0.00      0.00        10\n",
      "          13       0.00      0.00      0.00         4\n",
      "          14       0.50      1.00      0.67         4\n",
      "          15       0.00      0.00      0.00         7\n",
      "          16       0.00      0.00      0.00         2\n",
      "          17       0.00      0.00      0.00         4\n",
      "          18       0.00      0.00      0.00         4\n",
      "          19       0.00      0.00      0.00         8\n",
      "          20       0.00      0.00      0.00         2\n",
      "          21       0.00      0.00      0.00         1\n",
      "          22       0.00      0.00      0.00         3\n",
      "          23       0.00      0.00      0.00         5\n",
      "          24       0.00      0.00      0.00         5\n",
      "          25       0.00      0.00      0.00         8\n",
      "          26       0.50      0.80      0.62         5\n",
      "          27       0.00      0.00      0.00         2\n",
      "          28       0.00      0.00      0.00         7\n",
      "          29       0.00      0.00      0.00         5\n",
      "          30       0.00      0.00      0.00         2\n",
      "          31       0.40      1.00      0.57        10\n",
      "          32       0.00      0.00      0.00         3\n",
      "          33       0.00      0.00      0.00         3\n",
      "          34       0.00      0.00      0.00         7\n",
      "          35       0.00      0.00      0.00         3\n",
      "          36       0.00      0.00      0.00         3\n",
      "          37       0.00      0.00      0.00         5\n",
      "          38       0.00      0.00      0.00         8\n",
      "          39       0.00      0.00      0.00         3\n",
      "          40       0.00      0.00      0.00         3\n",
      "          41       0.00      0.00      0.00         2\n",
      "          42       1.00      0.50      0.67        12\n",
      "          43       0.00      0.00      0.00         1\n",
      "          44       0.00      0.00      0.00         9\n",
      "          45       0.00      0.00      0.00         4\n",
      "          46       0.00      0.00      0.00         2\n",
      "          47       0.00      0.00      0.00        10\n",
      "          48       1.00      1.00      1.00         4\n",
      "          49       0.00      0.00      0.00         5\n",
      "          50       0.00      0.00      0.00         7\n",
      "\n",
      "    accuracy                           0.19       304\n",
      "   macro avg       0.08      0.14      0.09       304\n",
      "weighted avg       0.12      0.19      0.13       304\n",
      "\n",
      "\n",
      "\n",
      "Accuracy score of KNeighborsClassifier() is:\n",
      "0.805921052631579\n",
      "[[ 9  0  0 ...  0  0  0]\n",
      " [ 0 12  0 ...  0  0  0]\n",
      " [ 0  0 11 ...  0  0  0]\n",
      " ...\n",
      " [ 0  0  0 ...  4  0  0]\n",
      " [ 0  0  0 ...  0  5  0]\n",
      " [ 0  0  0 ...  0  0  6]]\n",
      "              precision    recall  f1-score   support\n",
      "\n",
      "           0       0.75      1.00      0.86         9\n",
      "           1       0.75      0.80      0.77        15\n",
      "           2       0.92      0.92      0.92        12\n",
      "           3       1.00      1.00      1.00        12\n",
      "           4       0.56      0.83      0.67         6\n",
      "           5       0.88      0.88      0.88         8\n",
      "           6       0.75      0.88      0.81        17\n",
      "           7       0.90      1.00      0.95         9\n",
      "           8       1.00      0.86      0.92         7\n",
      "           9       0.89      0.89      0.89         9\n",
      "          10       1.00      0.20      0.33         5\n",
      "          11       1.00      1.00      1.00         3\n",
      "          12       1.00      0.90      0.95        10\n",
      "          13       1.00      0.50      0.67         4\n",
      "          14       0.80      1.00      0.89         4\n",
      "          15       0.88      1.00      0.93         7\n",
      "          16       1.00      1.00      1.00         2\n",
      "          17       0.43      0.75      0.55         4\n",
      "          18       1.00      1.00      1.00         4\n",
      "          19       0.78      0.88      0.82         8\n",
      "          20       1.00      1.00      1.00         2\n",
      "          21       0.00      0.00      0.00         1\n",
      "          22       0.50      1.00      0.67         3\n",
      "          23       0.40      0.40      0.40         5\n",
      "          24       1.00      0.80      0.89         5\n",
      "          25       1.00      0.75      0.86         8\n",
      "          26       0.83      1.00      0.91         5\n",
      "          27       1.00      1.00      1.00         2\n",
      "          28       0.75      0.43      0.55         7\n",
      "          29       0.20      0.20      0.20         5\n",
      "          30       1.00      1.00      1.00         2\n",
      "          31       0.75      0.90      0.82        10\n",
      "          32       0.00      0.00      0.00         3\n",
      "          33       1.00      1.00      1.00         3\n",
      "          34       0.71      0.71      0.71         7\n",
      "          35       1.00      0.67      0.80         3\n",
      "          36       1.00      1.00      1.00         3\n",
      "          37       0.83      1.00      0.91         5\n",
      "          38       0.88      0.88      0.88         8\n",
      "          39       1.00      0.67      0.80         3\n",
      "          40       0.67      0.67      0.67         3\n",
      "          41       0.40      1.00      0.57         2\n",
      "          42       0.71      0.42      0.53        12\n",
      "          43       0.50      1.00      0.67         1\n",
      "          44       1.00      0.78      0.88         9\n",
      "          45       1.00      0.75      0.86         4\n",
      "          46       1.00      1.00      1.00         2\n",
      "          47       0.75      0.60      0.67        10\n",
      "          48       1.00      1.00      1.00         4\n",
      "          49       0.71      1.00      0.83         5\n",
      "          50       0.86      0.86      0.86         7\n",
      "\n",
      "    accuracy                           0.81       304\n",
      "   macro avg       0.80      0.80      0.78       304\n",
      "weighted avg       0.82      0.81      0.80       304\n",
      "\n",
      "\n",
      "\n",
      "Accuracy score of MultinomialNB() is:\n",
      "0.7236842105263158\n",
      "[[ 5  0  0 ...  0  0  0]\n",
      " [ 0  5  0 ...  0  0  0]\n",
      " [ 0  0 12 ...  0  0  0]\n",
      " ...\n",
      " [ 0  0  0 ...  4  0  0]\n",
      " [ 0  0  0 ...  1  3  0]\n",
      " [ 0  0  0 ...  0  0  7]]\n",
      "              precision    recall  f1-score   support\n",
      "\n",
      "           0       1.00      0.56      0.71         9\n",
      "           1       0.83      0.33      0.48        15\n",
      "           2       0.92      1.00      0.96        12\n",
      "           3       0.79      0.92      0.85        12\n",
      "           4       0.43      0.50      0.46         6\n",
      "           5       1.00      0.75      0.86         8\n",
      "           6       0.92      0.71      0.80        17\n",
      "           7       0.86      0.67      0.75         9\n",
      "           8       1.00      1.00      1.00         7\n",
      "           9       0.90      1.00      0.95         9\n",
      "          10       0.62      1.00      0.77         5\n",
      "          11       0.75      1.00      0.86         3\n",
      "          12       1.00      0.80      0.89        10\n",
      "          13       0.60      0.75      0.67         4\n",
      "          14       1.00      1.00      1.00         4\n",
      "          15       1.00      1.00      1.00         7\n",
      "          16       0.25      1.00      0.40         2\n",
      "          17       0.50      1.00      0.67         4\n",
      "          18       1.00      0.25      0.40         4\n",
      "          19       0.62      0.62      0.62         8\n",
      "          20       0.33      1.00      0.50         2\n",
      "          21       0.33      1.00      0.50         1\n",
      "          22       0.75      1.00      0.86         3\n",
      "          23       0.20      0.40      0.27         5\n",
      "          24       0.83      1.00      0.91         5\n",
      "          25       1.00      0.75      0.86         8\n",
      "          26       0.67      0.40      0.50         5\n",
      "          27       0.33      0.50      0.40         2\n",
      "          28       0.80      0.57      0.67         7\n",
      "          29       0.12      0.20      0.15         5\n",
      "          30       0.50      1.00      0.67         2\n",
      "          31       0.88      0.70      0.78        10\n",
      "          32       0.75      1.00      0.86         3\n",
      "          33       1.00      1.00      1.00         3\n",
      "          34       1.00      0.14      0.25         7\n",
      "          35       0.40      0.67      0.50         3\n",
      "          36       0.50      1.00      0.67         3\n",
      "          37       1.00      1.00      1.00         5\n",
      "          38       0.55      0.75      0.63         8\n",
      "          39       0.75      1.00      0.86         3\n",
      "          40       0.75      1.00      0.86         3\n",
      "          41       0.67      1.00      0.80         2\n",
      "          42       0.80      0.33      0.47        12\n",
      "          43       1.00      1.00      1.00         1\n",
      "          44       0.75      0.33      0.46         9\n",
      "          45       1.00      1.00      1.00         4\n",
      "          46       1.00      1.00      1.00         2\n",
      "          47       0.64      0.70      0.67        10\n",
      "          48       0.80      1.00      0.89         4\n",
      "          49       1.00      0.60      0.75         5\n",
      "          50       0.88      1.00      0.93         7\n",
      "\n",
      "    accuracy                           0.72       304\n",
      "   macro avg       0.74      0.78      0.72       304\n",
      "weighted avg       0.80      0.72      0.72       304\n",
      "\n",
      "\n",
      "\n"
     ]
    }
   ],
   "source": [
    "for m in model:\n",
    "    m.fit(x_train,y_train)\n",
    "    m.score(x_train,y_train)\n",
    "    predm=m.predict(x_test)\n",
    "    print('Accuracy score of',m,'is:')\n",
    "    print(accuracy_score(y_test,predm))\n",
    "    print(confusion_matrix(y_test,predm))\n",
    "    print(classification_report(y_test,predm))\n",
    "    print('\\n')"
   ]
  },
  {
   "cell_type": "code",
   "execution_count": 70,
   "metadata": {},
   "outputs": [
    {
     "data": {
      "text/plain": [
       "array([28,  0,  6,  6,  0, 17, 20, 47, 19,  6,  1, 19, 32, 23, 24,  3,  3,\n",
       "       38, 39,  0, 24,  2,  9, 46, 15, 31, 36, 50,  8, 10,  7, 48,  4,  9,\n",
       "       31,  5, 13, 38, 25, 38, 34, 16,  5, 12, 42, 44, 35, 38,  3, 18,  4,\n",
       "       12,  7, 22, 24,  4,  2,  1, 36,  8,  8, 16,  0, 18, 47, 42, 31, 44,\n",
       "       50, 34, 28, 17, 44,  1, 19,  6, 35, 27, 45, 42, 19, 31, 18, 31, 25,\n",
       "       31, 49, 31, 37, 26, 14,  5, 44, 12, 11, 22,  0, 26, 49, 34,  7,  1,\n",
       "        6, 29, 47, 48, 41, 29,  3, 28, 44,  5, 13,  2, 31,  2,  6,  2, 20,\n",
       "       42,  3,  6,  0,  1,  5, 31, 22, 11,  3, 38, 30,  2, 10,  6, 31, 15,\n",
       "        4,  4,  1, 26,  4, 32,  3,  0, 26, 25, 50,  7, 44, 39, 19, 50, 34,\n",
       "       20, 28, 38, 33, 47, 31, 44, 42, 12,  5, 45,  8, 42, 50, 25,  0, 15,\n",
       "       12, 50,  6,  2, 47,  2, 44, 43,  6, 23, 42,  7,  4, 28,  2, 38, 37,\n",
       "       27, 19, 10, 50, 49, 12, 36,  0, 34,  3, 45, 28, 17,  1, 15, 24,  9,\n",
       "        1,  7,  4, 29,  9,  6, 15, 12, 23,  9, 38, 48,  6,  6,  6, 12, 41,\n",
       "        1, 34,  9, 50, 37,  6, 42, 23, 26, 42,  6, 44, 42,  9, 22,  7, 36,\n",
       "       46,  1,  2, 37, 50, 25, 14, 21, 49,  1,  3,  3, 10, 42, 25, 15, 47,\n",
       "        2,  3,  9, 25, 15, 42, 30, 37, 25, 13, 23, 40, 29,  3,  8, 24, 39,\n",
       "        6, 12, 29, 35, 12, 40, 19,  1,  7, 13, 14, 45, 48, 33, 49, 47, 43,\n",
       "       47, 47, 36, 31,  2,  1,  6,  5,  1,  5, 12, 47,  2,  1,  0])"
      ]
     },
     "execution_count": 70,
     "metadata": {},
     "output_type": "execute_result"
    }
   ],
   "source": [
    "import joblib\n",
    "joblib.dump(dtc,'dtcfile.obj')\n",
    "dtc_from_joblib=joblib.load('dtcfile.obj')\n",
    "dtc_from_joblib.predict(x_test)"
   ]
  },
  {
   "cell_type": "code",
   "execution_count": 71,
   "metadata": {},
   "outputs": [
    {
     "data": {
      "text/plain": [
       "array([28,  0,  6,  6,  0, 17, 20, 47, 19,  6,  1, 19, 32, 23, 24,  3,  3,\n",
       "       38, 39,  0, 24,  2,  9, 46, 15, 31, 36, 50,  8, 10,  7, 48,  4,  9,\n",
       "       31,  5, 13, 38, 25, 38, 34, 16,  5, 12, 42, 44, 35, 38,  3, 18,  4,\n",
       "       12,  7, 22, 24,  4,  2,  1, 36,  8,  8, 16,  0, 18, 47, 42, 31, 44,\n",
       "       50, 34, 28, 17, 44,  1, 19,  6, 35, 27, 45, 42, 19, 31, 18, 31, 25,\n",
       "       31, 49, 31, 37, 26, 14,  5, 44, 12, 11, 22,  0, 26, 49, 34,  7,  1,\n",
       "        6, 29, 47, 48, 41, 29,  3, 28, 44,  5, 13,  2, 31,  2,  6,  2, 20,\n",
       "       42,  3,  6,  0,  1,  5, 31, 22, 11,  3, 38, 30,  2, 10,  6, 31, 15,\n",
       "        4,  4,  1, 26,  4, 32,  3,  0, 26, 25, 50,  7, 44, 39, 19, 50, 34,\n",
       "       20, 28, 38, 33, 47, 31, 44, 42, 12,  5, 45,  8, 42, 50, 25,  0, 15,\n",
       "       12, 50,  6,  2, 47,  2, 44, 43,  6, 23, 42,  7,  4, 28,  2, 38, 37,\n",
       "       27, 19, 10, 50, 49, 12, 36,  0, 34,  3, 45, 28, 17,  1, 15, 24,  9,\n",
       "        1,  7,  4, 29,  9,  6, 15, 12, 23,  9, 38, 48,  6,  6,  6, 12, 41,\n",
       "        1, 34,  9, 50, 37,  6, 42, 23, 26, 42,  6, 44, 42,  9, 22,  7, 36,\n",
       "       46,  1,  2, 37, 50, 25, 14, 21, 49,  1,  3,  3, 10, 42, 25, 15, 47,\n",
       "        2,  3,  9, 25, 15, 42, 30, 37, 25, 13, 23, 40, 29,  3,  8, 24, 39,\n",
       "        6, 12, 29, 35, 12, 40, 19,  1,  7, 13, 14, 45, 48, 33, 49, 47, 43,\n",
       "       47, 47, 36, 31,  2,  1,  6,  5,  1,  5, 12, 47,  2,  1,  0])"
      ]
     },
     "execution_count": 71,
     "metadata": {},
     "output_type": "execute_result"
    }
   ],
   "source": [
    "import pickle\n",
    "filename = 'pickledtcfile.pkl'\n",
    "pickle.dump(dtc, open(filename, 'wb'))\n",
    "loaded_model = pickle.load(open(filename,'rb'))\n",
    "loaded_model.predict(x_test)"
   ]
  },
  {
   "cell_type": "code",
   "execution_count": 72,
   "metadata": {},
   "outputs": [
    {
     "name": "stdout",
     "output_type": "stream",
     "text": [
      "[0.84313725 0.87254902 0.85148515 0.87128713 0.76237624 0.92079208\n",
      " 0.84158416 0.93069307 0.91089109 0.94059406 0.88118812 0.94059406\n",
      " 0.91089109 0.9009901  0.81188119]\n",
      "0.8793955866174854\n",
      "0.04910993440118764\n"
     ]
    }
   ],
   "source": [
    "from sklearn.model_selection import cross_val_score\n",
    "score=cross_val_score(dtc,x,y,cv=15)\n",
    "print(score)\n",
    "print(score.mean())\n",
    "print(score.std())"
   ]
  },
  {
   "cell_type": "code",
   "execution_count": 73,
   "metadata": {},
   "outputs": [
    {
     "name": "stdout",
     "output_type": "stream",
     "text": [
      "[0.84313725 0.87254902 0.85148515 0.87128713 0.76237624 0.92079208\n",
      " 0.84158416 0.93069307 0.91089109 0.94059406 0.88118812 0.94059406\n",
      " 0.91089109 0.9009901  0.81188119]\n",
      "0.8793955866174854\n",
      "0.04910993440118764\n"
     ]
    }
   ],
   "source": [
    "from sklearn.model_selection import KFold\n",
    "kfold=KFold(15)\n",
    "print(score)\n",
    "print(score.mean())\n",
    "print(score.std())"
   ]
  },
  {
   "cell_type": "markdown",
   "metadata": {},
   "source": [
    "84% accuracy score on clasification technique"
   ]
  },
  {
   "cell_type": "code",
   "execution_count": null,
   "metadata": {},
   "outputs": [],
   "source": []
  }
 ],
 "metadata": {
  "kernelspec": {
   "display_name": "Python 3",
   "language": "python",
   "name": "python3"
  },
  "language_info": {
   "codemirror_mode": {
    "name": "ipython",
    "version": 3
   },
   "file_extension": ".py",
   "mimetype": "text/x-python",
   "name": "python",
   "nbconvert_exporter": "python",
   "pygments_lexer": "ipython3",
   "version": "3.8.5"
  }
 },
 "nbformat": 4,
 "nbformat_minor": 4
}
